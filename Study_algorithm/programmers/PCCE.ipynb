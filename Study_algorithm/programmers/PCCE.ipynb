{
 "cells": [
  {
   "cell_type": "markdown",
   "id": "ef707c19",
   "metadata": {},
   "source": [
    "PCCE 기출문제 1번"
   ]
  },
  {
   "cell_type": "code",
   "execution_count": null,
   "id": "1d81ab30",
   "metadata": {},
   "outputs": [],
   "source": []
  }
 ],
 "metadata": {
  "language_info": {
   "name": "python"
  }
 },
 "nbformat": 4,
 "nbformat_minor": 5
}
