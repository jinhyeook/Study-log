{
 "cells": [
  {
   "cell_type": "markdown",
   "id": "a6b72a83",
   "metadata": {},
   "source": [
    "10699번\n"
   ]
  },
  {
   "cell_type": "code",
   "execution_count": null,
   "id": "03a65181",
   "metadata": {},
   "outputs": [],
   "source": [
    "import datetime\n",
    "\n",
    "print(datetime.now().strftime(\"%Y-%m-%d\"))"
   ]
  }
 ],
 "metadata": {
  "language_info": {
   "name": "python"
  }
 },
 "nbformat": 4,
 "nbformat_minor": 5
}
