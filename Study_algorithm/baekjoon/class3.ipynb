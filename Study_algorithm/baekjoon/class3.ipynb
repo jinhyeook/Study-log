{
 "cells": [
  {
   "cell_type": "markdown",
   "id": "29a2a757",
   "metadata": {},
   "source": [
    "11399번"
   ]
  },
  {
   "cell_type": "code",
   "execution_count": null,
   "id": "ba15c7fc",
   "metadata": {},
   "outputs": [],
   "source": [
    "import sys\n",
    "input = sys.stdin.readline\n",
    "\n",
    "N = int(input())\n",
    "\n",
    "time = list(map(int,input().split()))\n",
    "time.sort()\n",
    "\n",
    "sum_list=[]\n",
    "sum_list = [0]*N\n",
    "\n",
    "for j in range(len(time)):\n",
    "    sum_list[j] = sum(time[:j+1])\n",
    "\n",
    "count = 0\n",
    "for k in range(len(sum_list)):\n",
    "    count += sum_list[k]\n",
    "\n",
    "print(count)"
   ]
  },
  {
   "cell_type": "markdown",
   "id": "08c3d13d",
   "metadata": {},
   "source": [
    "1003번"
   ]
  },
  {
   "cell_type": "markdown",
   "id": "d343fdc4",
   "metadata": {},
   "source": [
    "import sys\n",
    "input = sys.stdin.readline\n",
    "\n",
    "def fib(n):\n",
    "    global count0,count1 \n",
    "    if(n==0):\n",
    "        count0 += 1\n",
    "        return 0\n",
    "    elif(n==1):\n",
    "        count1 += 1\n",
    "        return 1\n",
    "    else:\n",
    "        fib(n-1)+fib(n-2)\n",
    "\n",
    "N = int(input())\n",
    "\n",
    "for _ in range(N):\n",
    "    count0 = 0\n",
    "    count1 = 0\n",
    "    a = int(input())\n",
    "    fib(a)\n",
    "    print(count0, end=\" \")\n",
    "    print(count1)\n",
    "    \n",
    "# 시간 초과 발생 ㅠㅠ "
   ]
  },
  {
   "cell_type": "code",
   "execution_count": null,
   "id": "1abf9007",
   "metadata": {},
   "outputs": [],
   "source": [
    "import sys\n",
    "input = sys.stdin.readline\n",
    "\n",
    "MAX = 41\n",
    "count0 = [0] * MAX\n",
    "count1 = [0] * MAX\n",
    "\n",
    "count0[0] = 1\n",
    "count1[0] = 0\n",
    "count0[1] = 0\n",
    "count1[1] = 1\n",
    "\n",
    "for i in range(2, MAX):\n",
    "    count0[i] = count0[i-1] + count0[i-2]\n",
    "    count1[i] = count1[i-1] + count1[i-2]\n",
    "\n",
    "T = int(input())\n",
    "\n",
    "for _ in range(T):\n",
    "    n = int(input())\n",
    "    print(count0[n], count1[n])\n",
    "# GPT -> DP테이블을 이용한 풀이"
   ]
  }
 ],
 "metadata": {
  "language_info": {
   "name": "python"
  }
 },
 "nbformat": 4,
 "nbformat_minor": 5
}
