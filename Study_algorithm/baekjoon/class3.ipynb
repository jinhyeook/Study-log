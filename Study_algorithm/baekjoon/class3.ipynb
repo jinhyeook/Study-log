{
 "cells": [
  {
   "cell_type": "markdown",
   "id": "29a2a757",
   "metadata": {},
   "source": [
    "11399번"
   ]
  },
  {
   "cell_type": "code",
   "execution_count": null,
   "id": "ba15c7fc",
   "metadata": {},
   "outputs": [],
   "source": [
    "import sys\n",
    "input = sys.stdin.readline\n",
    "\n",
    "N = int(input())\n",
    "\n",
    "time = list(map(int,input().split()))\n",
    "time.sort()\n",
    "\n",
    "sum_list=[]\n",
    "sum_list = [0]*N\n",
    "\n",
    "for j in range(len(time)):\n",
    "    sum_list[j] = sum(time[:j+1])\n",
    "\n",
    "count = 0\n",
    "for k in range(len(sum_list)):\n",
    "    count += sum_list[k]\n",
    "\n",
    "print(count)"
   ]
  },
  {
   "cell_type": "markdown",
   "id": "08c3d13d",
   "metadata": {},
   "source": [
    "1003번"
   ]
  },
  {
   "cell_type": "code",
   "execution_count": null,
   "id": "d343fdc4",
   "metadata": {},
   "outputs": [],
   "source": [
    "import sys\n",
    "input = sys.stdin.readline\n",
    "\n",
    "def fib(n):\n",
    "    global count0,count1 \n",
    "    if(n==0):\n",
    "        count0 += 1\n",
    "        return 0\n",
    "    elif(n==1):\n",
    "        count1 += 1\n",
    "        return 1\n",
    "    else:\n",
    "        fib(n-1)+fib(n-2)\n",
    "\n",
    "N = int(input())\n",
    "\n",
    "for _ in range(N):\n",
    "    count0 = 0\n",
    "    count1 = 0\n",
    "    a = int(input())\n",
    "    fib(a)\n",
    "    print(count0, end=\" \")\n",
    "    print(count1)\n",
    "    \n",
    "# 시간 초과 발생 ㅠㅠ "
   ]
  },
  {
   "cell_type": "code",
   "execution_count": null,
   "id": "1abf9007",
   "metadata": {},
   "outputs": [],
   "source": [
    "import sys\n",
    "input = sys.stdin.readline\n",
    "\n",
    "MAX = 41\n",
    "count0 = [0] * MAX\n",
    "count1 = [0] * MAX\n",
    "\n",
    "count0[0] = 1\n",
    "count1[0] = 0\n",
    "count0[1] = 0\n",
    "count1[1] = 1\n",
    "\n",
    "for i in range(2, MAX):\n",
    "    count0[i] = count0[i-1] + count0[i-2]\n",
    "    count1[i] = count1[i-1] + count1[i-2]\n",
    "\n",
    "T = int(input())\n",
    "\n",
    "for _ in range(T):\n",
    "    n = int(input())\n",
    "    print(count0[n], count1[n])\n",
    "# GPT -> DP테이블을 이용한 풀이"
   ]
  },
  {
   "cell_type": "markdown",
   "id": "d89a7ef1",
   "metadata": {},
   "source": [
    "9095번"
   ]
  },
  {
   "cell_type": "code",
   "execution_count": null,
   "id": "c5d91214",
   "metadata": {},
   "outputs": [],
   "source": [
    "import sys \n",
    "input = sys.stdin.readline\n",
    "\n",
    "T = int(input())\n",
    "num_list= []\n",
    "\n",
    "for _ in range(T):\n",
    "    num_list.append(int(input()))\n",
    " \n",
    "n_list = [0]*(max(num_list)+1)\n",
    "n_list[0]=1\n",
    "n_list[1]=1\n",
    "n_list[2]=2\n",
    "n_list[3]=4\n",
    "\n",
    "for i in range(4, max(num_list)+1):\n",
    "    n_list[i] = n_list[i-1] + n_list[i-2] + n_list[i-3]\n",
    "\n",
    "for n in num_list:\n",
    "     print(n_list[n])"
   ]
  },
  {
   "cell_type": "markdown",
   "id": "d7a9fab6",
   "metadata": {},
   "source": [
    "1764번"
   ]
  },
  {
   "cell_type": "code",
   "execution_count": null,
   "id": "18aca3a7",
   "metadata": {},
   "outputs": [],
   "source": [
    "import sys\n",
    "input = sys.stdin.readline\n",
    "N,M = map(int,input().split())\n",
    "\n",
    "N_list = []\n",
    "M_list = []\n",
    "NM_list = []\n",
    "\n",
    "for _ in range(N):\n",
    "    N_list.append(input().strip())\n",
    "for _ in range(M):\n",
    "    M_list.append(input().strip())\n",
    "    \n",
    "N_list = set(N_list)\n",
    "M_list = set(M_list)\n",
    "    \n",
    "for i in N_list:\n",
    "    if i in M_list:\n",
    "        NM_list.append(i)\n",
    "        \n",
    "NM_list.sort()\n",
    "\n",
    "print(len(NM_list))\n",
    "for j in NM_list:\n",
    "    print(j)"
   ]
  },
  {
   "cell_type": "markdown",
   "id": "283d436e",
   "metadata": {},
   "source": [
    "1463번"
   ]
  },
  {
   "cell_type": "code",
   "execution_count": null,
   "id": "b4f76374",
   "metadata": {},
   "outputs": [],
   "source": [
    "import sys\n",
    "input = sys.stdin.readline\n",
    "\n",
    "N = int(input())\n",
    "\n",
    "N_list = [0] * (N + 1)\n",
    "\n",
    "for i in range(2, N + 1):\n",
    "    N_list[i] = N_list[i - 1] + 1\n",
    "\n",
    "    if i % 2 == 0:\n",
    "        N_list[i] = min(N_list[i], N_list[i // 2] + 1)\n",
    "\n",
    "    if i % 3 == 0:\n",
    "        N_list[i] = min(N_list[i], N_list[i // 3] + 1)\n",
    "\n",
    "print(N_list[N])"
   ]
  }
 ],
 "metadata": {
  "language_info": {
   "name": "python"
  }
 },
 "nbformat": 4,
 "nbformat_minor": 5
}
