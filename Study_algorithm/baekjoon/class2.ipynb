{
 "cells": [
  {
   "cell_type": "markdown",
   "id": "d10ba032",
   "metadata": {},
   "source": [
    "1920번"
   ]
  },
  {
   "cell_type": "code",
   "execution_count": null,
   "id": "89f747e4",
   "metadata": {},
   "outputs": [],
   "source": [
    "import sys \n",
    "input = sys.stdin.readline\n",
    "N = int(input())\n",
    "num_list = set(map(int,input().split()))\n",
    "\n",
    "M = int(input())\n",
    "num_list2 = list(map(int,input().split()))\n",
    "\n",
    "for i in num_list2:\n",
    "    if(i in num_list):\n",
    "        print(1)\n",
    "    else:\n",
    "        print(0)"
   ]
  },
  {
   "cell_type": "markdown",
   "id": "51601aca",
   "metadata": {},
   "source": [
    "11651번"
   ]
  },
  {
   "cell_type": "code",
   "execution_count": null,
   "id": "a3a2124d",
   "metadata": {},
   "outputs": [],
   "source": [
    "import sys \n",
    "input = sys.stdin.readline\n",
    "\n",
    "N = int(input())\n",
    "num_list = []\n",
    "for _ in range(N):\n",
    "    x,y = map(int, input().split())\n",
    "    num_list.append([x,y])\n",
    "\n",
    "num_list.sort(key = lambda x : (x[1],x[0]))\n",
    "\n",
    "for x,y in num_list:\n",
    "    print(x,y)"
   ]
  },
  {
   "cell_type": "markdown",
   "id": "260d7ac5",
   "metadata": {},
   "source": [
    "10828번"
   ]
  },
  {
   "cell_type": "code",
   "execution_count": null,
   "id": "53b12a8a",
   "metadata": {},
   "outputs": [],
   "source": [
    "import sys\n",
    "input = sys.stdin.readline\n",
    "\n",
    "stack= []\n",
    "N = int(input())\n",
    "\n",
    "for _ in range(N):\n",
    "    a = input().strip().split()\n",
    "    if (a[0]==\"push\"):\n",
    "        stack.append(a[1])\n",
    "    elif (a[0]==\"pop\"):\n",
    "        if(len(stack)==0):\n",
    "            print(-1)\n",
    "        else:\n",
    "            print(stack.pop())\n",
    "    elif (a[0]==\"size\"):\n",
    "        print(len(stack))\n",
    "    elif (a[0]==\"empty\"):\n",
    "        if(len(stack)==0):\n",
    "            print(1)\n",
    "        else:\n",
    "            print(0)\n",
    "    elif (a[0]==\"top\"):\n",
    "        if(len(stack)==0):\n",
    "            print(-1)\n",
    "        else:\n",
    "            print(stack[-1])"
   ]
  },
  {
   "cell_type": "markdown",
   "id": "201576c5",
   "metadata": {},
   "source": [
    "10845번"
   ]
  },
  {
   "cell_type": "code",
   "execution_count": null,
   "id": "10086756",
   "metadata": {},
   "outputs": [],
   "source": [
    "import sys\n",
    "input = sys.stdin.readline\n",
    "\n",
    "queue= []\n",
    "N = int(input())\n",
    "\n",
    "for _ in range(N):\n",
    "    a = input().strip().split()\n",
    "    if (a[0]==\"push\"):\n",
    "        queue.append(a[1])\n",
    "    elif (a[0]==\"pop\"):\n",
    "        if(len(queue)==0):\n",
    "            print(-1)\n",
    "        else:\n",
    "            print(queue.pop(0))\n",
    "    elif (a[0]==\"size\"):\n",
    "        print(len(queue))\n",
    "    elif (a[0]==\"empty\"):\n",
    "        if(len(queue)==0):\n",
    "            print(1)\n",
    "        else:\n",
    "            print(0)\n",
    "    elif (a[0]==\"front\"):\n",
    "        if(len(queue)==0):\n",
    "            print(-1)\n",
    "        else:\n",
    "            print(queue[0])\n",
    "    elif (a[0]==\"back\"):\n",
    "        if(len(queue)==0):\n",
    "            print(-1)\n",
    "        else:\n",
    "            print(queue[-1])"
   ]
  },
  {
   "cell_type": "markdown",
   "id": "14550c62",
   "metadata": {},
   "source": [
    "1966번"
   ]
  },
  {
   "cell_type": "code",
   "execution_count": null,
   "id": "e339660a",
   "metadata": {},
   "outputs": [],
   "source": [
    "import sys\n",
    "from collections import deque\n",
    "\n",
    "input = sys.stdin.readline\n",
    "\n",
    "T = int(input())\n",
    "\n",
    "for _ in range(T):\n",
    "    N, M = map(int,input().split())\n",
    "    I_list = list(map(int,input().split()))\n",
    "    queue = deque(enumerate(I_list))\n",
    "    count = 0\n",
    "    while queue:\n",
    "        cur = queue.popleft()\n",
    "        if any(cur[1] < item[1] for item in queue):\n",
    "            queue.append(cur)\n",
    "        else:\n",
    "            count += 1\n",
    "            if cur[0] == M:\n",
    "                print(count)\n",
    "                break"
   ]
  }
 ],
 "metadata": {
  "kernelspec": {
   "display_name": "Python 3",
   "language": "python",
   "name": "python3"
  },
  "language_info": {
   "name": "python",
   "version": "3.11.9"
  }
 },
 "nbformat": 4,
 "nbformat_minor": 5
}
