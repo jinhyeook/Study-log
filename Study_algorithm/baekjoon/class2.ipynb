{
 "cells": [
  {
   "cell_type": "markdown",
   "id": "d10ba032",
   "metadata": {},
   "source": [
    "1920번"
   ]
  },
  {
   "cell_type": "code",
   "execution_count": null,
   "id": "89f747e4",
   "metadata": {},
   "outputs": [],
   "source": [
    "import sys \n",
    "input = sys.stdin.readline\n",
    "N = int(input())\n",
    "num_list = set(map(int,input().split()))\n",
    "\n",
    "M = int(input())\n",
    "num_list2 = list(map(int,input().split()))\n",
    "\n",
    "for i in num_list2:\n",
    "    if(i in num_list):\n",
    "        print(1)\n",
    "    else:\n",
    "        print(0)"
   ]
  },
  {
   "cell_type": "markdown",
   "id": "51601aca",
   "metadata": {},
   "source": [
    "11651번"
   ]
  },
  {
   "cell_type": "code",
   "execution_count": null,
   "id": "a3a2124d",
   "metadata": {},
   "outputs": [],
   "source": [
    "import sys \n",
    "input = sys.stdin.readline\n",
    "\n",
    "N = int(input())\n",
    "num_list = []\n",
    "for _ in range(N):\n",
    "    x,y = map(int, input().split())\n",
    "    num_list.append([x,y])\n",
    "\n",
    "num_list.sort(key = lambda x : (x[1],x[0]))\n",
    "\n",
    "for x,y in num_list:\n",
    "    print(x,y)"
   ]
  },
  {
   "cell_type": "markdown",
   "id": "d7d54903",
   "metadata": {},
   "source": []
  }
 ],
 "metadata": {
  "kernelspec": {
   "display_name": "Python 3",
   "language": "python",
   "name": "python3"
  },
  "language_info": {
   "name": "python",
   "version": "3.11.9"
  }
 },
 "nbformat": 4,
 "nbformat_minor": 5
}
