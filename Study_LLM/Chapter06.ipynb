{
 "cells": [
  {
   "cell_type": "code",
   "execution_count": null,
   "id": "a20c1ec3",
   "metadata": {},
   "outputs": [],
   "source": [
    "import os\n",
    "from dotenv import load_dotenv\n",
    "\n",
    "load_dotenv()\n",
    "api_key = os.getenv(\"open_api_key\")"
   ]
  },
  {
   "cell_type": "markdown",
   "id": "44922e58",
   "metadata": {},
   "source": [
    "## 랭그래프의 구성요소"
   ]
  },
  {
   "cell_type": "markdown",
   "id": "3b60d800",
   "metadata": {},
   "source": [
    "### 상태"
   ]
  },
  {
   "cell_type": "code",
   "execution_count": null,
   "id": "ee85c8b8",
   "metadata": {},
   "outputs": [],
   "source": [
    "# 상태\n",
    "from typing import TypedDict\n",
    "\n",
    "class State(TypedDict):\n",
    "\tcount : int\n",
    "\tmesseages : list[str]\n",
    "# count와 messages라는 두 개의 필드를 갖는 상태 클래스"
   ]
  },
  {
   "cell_type": "code",
   "execution_count": null,
   "id": "74d47ba2",
   "metadata": {},
   "outputs": [],
   "source": [
    "# 리듀서를 사용한 상태\n",
    "from typing import TypedDict, Annotated\n",
    "from operator import add\n",
    "\n",
    "class State(TypedDict):\n",
    "\tcount : int\n",
    "\tmessages : Annotated[list[str],add]\n",
    "# message 필드에 add 리듀서가 지정되어있어, 새로운 메시지가 추가될 때 기존 리스트와 병합됨."
   ]
  },
  {
   "cell_type": "markdown",
   "id": "d75d2965",
   "metadata": {},
   "source": [
    "## 랭그래프의 활용"
   ]
  },
  {
   "cell_type": "markdown",
   "id": "13ce79ad",
   "metadata": {},
   "source": [
    "## 랭그래프 실습"
   ]
  }
 ],
 "metadata": {
  "language_info": {
   "name": "python"
  }
 },
 "nbformat": 4,
 "nbformat_minor": 5
}
