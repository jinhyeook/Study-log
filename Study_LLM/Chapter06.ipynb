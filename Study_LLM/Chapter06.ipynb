{
 "cells": [
  {
   "cell_type": "code",
   "execution_count": null,
   "id": "a20c1ec3",
   "metadata": {},
   "outputs": [],
   "source": [
    "import os\n",
    "from dotenv import load_dotenv\n",
    "\n",
    "load_dotenv()\n",
    "api_key = os.getenv(\"open_api_key\")"
   ]
  },
  {
   "cell_type": "markdown",
   "id": "44922e58",
   "metadata": {},
   "source": [
    "## 랭그래프의 구성요소"
   ]
  },
  {
   "cell_type": "markdown",
   "id": "d75d2965",
   "metadata": {},
   "source": [
    "## 랭그래프의 활용"
   ]
  },
  {
   "cell_type": "markdown",
   "id": "13ce79ad",
   "metadata": {},
   "source": [
    "## 랭그래프 실습"
   ]
  }
 ],
 "metadata": {
  "language_info": {
   "name": "python"
  }
 },
 "nbformat": 4,
 "nbformat_minor": 5
}
