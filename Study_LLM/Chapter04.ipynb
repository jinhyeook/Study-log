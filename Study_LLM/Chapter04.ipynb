{
 "cells": [
  {
   "cell_type": "code",
   "execution_count": 1,
   "id": "7f700748",
   "metadata": {},
   "outputs": [],
   "source": [
    "import os\n",
    "from dotenv import load_dotenv\n",
    "\n",
    "load_dotenv()\n",
    "api_key = os.getenv(\"open_api_key\")"
   ]
  },
  {
   "cell_type": "markdown",
   "id": "e01172f2",
   "metadata": {},
   "source": [
    "## 청킹전략"
   ]
  },
  {
   "cell_type": "markdown",
   "id": "acabfe96",
   "metadata": {},
   "source": [
    "### 부모-자식 분할"
   ]
  },
  {
   "cell_type": "code",
   "execution_count": 6,
   "id": "fa93fd01",
   "metadata": {},
   "outputs": [
    {
     "name": "stdout",
     "output_type": "stream",
     "text": [
      "부모 문서 수 : 219\n"
     ]
    }
   ],
   "source": [
    "from langchain_community.document_loaders import TextLoader\n",
    "from langchain.retrievers import ParentDocumentRetriever\n",
    "from langchain.storage import InMemoryStore\n",
    "from langchain_community.vectorstores import Chroma\n",
    "from langchain_openai import OpenAIEmbeddings\n",
    "from langchain_text_splitters import RecursiveCharacterTextSplitter\n",
    "\n",
    "loaders = [TextLoader(r\"C:\\Users\\kimji\\Desktop\\ProgramFile\\Study\\How_to_invest_money.txt\", encoding=\"utf-8-sig\")]\n",
    "docs = []\n",
    "for loader in loaders:\n",
    "    docs.extend(loader.load())\n",
    "\n",
    "parent_splitter  = RecursiveCharacterTextSplitter(chunk_size=1000)\n",
    "child_splitter = RecursiveCharacterTextSplitter(chunk_size=200)\n",
    "\n",
    "vectorstore = Chroma(\n",
    "    collection_name=\"split_parents\", embedding_function=OpenAIEmbeddings(api_key=api_key)\n",
    ")\n",
    "\n",
    "store = InMemoryStore()\n",
    "\n",
    "retriever = ParentDocumentRetriever(\n",
    "    vectorstore=vectorstore,\n",
    "    docstore=store,\n",
    "    child_splitter=child_splitter,\n",
    "    parent_splitter = parent_splitter,\n",
    ")\n",
    "\n",
    "\n",
    "retriever.add_documents(docs)\n",
    "\n",
    "print(f\"부모 문서 수 : {len(list(store.yield_keys()))}\")\n",
    "\n",
    "\n"
   ]
  },
  {
   "cell_type": "code",
   "execution_count": 7,
   "id": "53655fcb",
   "metadata": {},
   "outputs": [
    {
     "name": "stderr",
     "output_type": "stream",
     "text": [
      "C:\\Users\\kimji\\AppData\\Local\\Temp\\ipykernel_37428\\3443923552.py:3: LangChainDeprecationWarning: The method `BaseRetriever.get_relevant_documents` was deprecated in langchain-core 0.1.46 and will be removed in 1.0. Use :meth:`~invoke` instead.\n",
      "  retrieved_docs = retriever.get_relevant_documents(query)\n"
     ]
    },
    {
     "name": "stdout",
     "output_type": "stream",
     "text": [
      "부모 문서 : There are five chief points to be considered in the selection of all\n",
      "forms of investment. These are: (1) safety of principal and interest;\n",
      "(2) rate of income; (3) convertibility into cash; (4) prospect of\n",
      "appreciation in intrinsic value; (5) stability of market price.\n",
      "\n",
      "Keeping these five general factors in mind, the present chapter will\n",
      "discuss real-estate mortgages as a form of investment, both as adapted\n",
      "to the requirements of private funds and of a business surplus.\n"
     ]
    }
   ],
   "source": [
    "query = \"what are the tpyes of investments?\"\n",
    "\n",
    "retrieved_docs = retriever.get_relevant_documents(query)\n",
    "print(f\"부모 문서 : {retrieved_docs[0].page_content}\")"
   ]
  },
  {
   "cell_type": "code",
   "execution_count": 8,
   "id": "5b2f2d72",
   "metadata": {},
   "outputs": [
    {
     "name": "stdout",
     "output_type": "stream",
     "text": [
      "자식 문서 : forms of investment. These are: (1) safety of principal and interest;\n",
      "(2) rate of income; (3) convertibility into cash; (4) prospect of\n",
      "appreciation in intrinsic value; (5) stability of market price.\n"
     ]
    }
   ],
   "source": [
    "sub_docs = vectorstore.similarity_search(query)\n",
    "print(f\"자식 문서 : {sub_docs[0].page_content}\")"
   ]
  },
  {
   "cell_type": "markdown",
   "id": "b74dd97d",
   "metadata": {},
   "source": [
    "## 질의 변형"
   ]
  },
  {
   "cell_type": "markdown",
   "id": "535a009a",
   "metadata": {},
   "source": [
    "### 다중 질의 생성"
   ]
  },
  {
   "cell_type": "code",
   "execution_count": null,
   "id": "2c782174",
   "metadata": {},
   "outputs": [],
   "source": []
  },
  {
   "cell_type": "code",
   "execution_count": null,
   "id": "4a4cb87d",
   "metadata": {},
   "outputs": [],
   "source": []
  }
 ],
 "metadata": {
  "kernelspec": {
   "display_name": "LLM",
   "language": "python",
   "name": "python3"
  },
  "language_info": {
   "codemirror_mode": {
    "name": "ipython",
    "version": 3
   },
   "file_extension": ".py",
   "mimetype": "text/x-python",
   "name": "python",
   "nbconvert_exporter": "python",
   "pygments_lexer": "ipython3",
   "version": "3.13.5"
  }
 },
 "nbformat": 4,
 "nbformat_minor": 5
}
