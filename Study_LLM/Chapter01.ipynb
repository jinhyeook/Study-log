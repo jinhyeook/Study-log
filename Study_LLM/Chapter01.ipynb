{
 "cells": [
  {
   "cell_type": "code",
   "execution_count": 1,
   "id": "508bfdbc",
   "metadata": {},
   "outputs": [
    {
     "name": "stdout",
     "output_type": "stream",
     "text": [
      "CUDA 사용 가능? True\n",
      "GPU 이름: NVIDIA GeForce GTX 1660 SUPER\n",
      "GPU 개수: 1\n"
     ]
    }
   ],
   "source": [
    "import torch\n",
    "\n",
    "print(\"CUDA 사용 가능?\", torch.cuda.is_available())\n",
    "if torch.cuda.is_available():\n",
    "    print(\"GPU 이름:\", torch.cuda.get_device_name(0))\n",
    "    print(\"GPU 개수:\", torch.cuda.device_count())"
   ]
  },
  {
   "cell_type": "code",
   "execution_count": 3,
   "id": "f1c4ad59",
   "metadata": {},
   "outputs": [],
   "source": [
    "import os\n",
    "from dotenv import load_dotenv\n",
    "\n",
    "load_dotenv()\n",
    "api_key = os.getenv(\"open_api_key\")"
   ]
  },
  {
   "cell_type": "markdown",
   "id": "d5fb0c1c",
   "metadata": {},
   "source": [
    "# Code"
   ]
  },
  {
   "cell_type": "markdown",
   "id": "d4593b94",
   "metadata": {},
   "source": [
    "### 대규모 언어 모델"
   ]
  },
  {
   "cell_type": "code",
   "execution_count": 2,
   "id": "97b60367",
   "metadata": {},
   "outputs": [
    {
     "data": {
      "text/plain": [
       "'안녕하세요! 어떻게 도와드릴까요?'"
      ]
     },
     "execution_count": 2,
     "metadata": {},
     "output_type": "execute_result"
    }
   ],
   "source": [
    "import openai\n",
    "from typing import List\n",
    "\n",
    "client = openai.OpenAI(api_key=api_key)\n",
    "\n",
    "response = client.chat.completions.create( # api 토큰 없어서 에러 난거임 유로 계정으로 바꾸기\n",
    "    model = \"gpt-4o-mini\",\n",
    "    messages = [{\"role\":\"user\" , \"content\":\"안녕하세요\"}]\n",
    ")\n",
    "\n",
    "response.choices[0].message.content"
   ]
  },
  {
   "cell_type": "code",
   "execution_count": 8,
   "id": "10e42fcc",
   "metadata": {},
   "outputs": [
    {
     "data": {
      "text/plain": [
       "'더블 딥(Double Dip)은 경제학에서 사용되는 용어로, 경기 침체(리세션)가 발생한 후 잠시 회복의 조짐을 보이다가 다시 경기 침체에 빠지는 현상을 설명합니다. 즉, 경제가 두 번의 하강기를 겪는 형태를 의미합니다. 이러한 상황은 소비자 신뢰 감소, 투자 위축, 부채 증가 등 다양한 요인으로 인해 발생할 수 있습니다. 더블 딥은 경제 정책 결정자들에게 도전 과제가 되며, 지속적인 성장과 회복을 위해 다양한 대응이 필요합니다.'"
      ]
     },
     "execution_count": 8,
     "metadata": {},
     "output_type": "execute_result"
    }
   ],
   "source": [
    "import openai\n",
    "from typing import List\n",
    "\n",
    "client = openai.OpenAI(api_key=api_key)\n",
    "\n",
    "# 메세지 보내고 모델의 응답을 받는 함수\n",
    "def call_chat_model(message:List[dict]):\n",
    "    response = client.chat.completions.create(\n",
    "        model =\"gpt-4o-mini\",\n",
    "        messages = message\n",
    "    )\n",
    "    return response.choices[0].message.content\n",
    "\n",
    "\n",
    "# prompt_templete = \"주제 {topic}에 대해 짧은 설명을 해주세요\"\n",
    "\n",
    "def invoke_chain(topic:str):\n",
    "    prompt_templete = \"주제 {topic}에 대해 짧은 설명을 해주세요\"\n",
    "    prompt_value = prompt_templete.format(topic=topic)\n",
    "    messages = [{\"role\":\"user\", \"content\":prompt_value}]\n",
    "    return call_chat_model(messages)\n",
    "\n",
    "invoke_chain(\"더블딥\")"
   ]
  },
  {
   "cell_type": "code",
   "execution_count": 10,
   "id": "acfe3e92",
   "metadata": {},
   "outputs": [
    {
     "data": {
      "text/plain": [
       "'\"더블딥(Double Dip)\"은 경제학에서 사용되는 용어로, 경기 침체가 두 번 연속으로 발생하는 현상을 의미합니다. 즉, 경제가 침체에서 회복되는 듯하다가 다시 침체에 빠지는 상황을 설명합니다. 이러한 현상은 외부 충격, 정책 실패 등 다양한 요인에 의해 발생할 수 있으며, 기업과 소비자 신뢰도 하락, 실업률 상승 등 부정적인 경제적 영향을 미칠 수 있습니다.'"
      ]
     },
     "execution_count": 10,
     "metadata": {},
     "output_type": "execute_result"
    }
   ],
   "source": [
    "# 랭체인\n",
    "\n",
    "from langchain_openai import ChatOpenAI\n",
    "from langchain_core.prompts import ChatPromptTemplate # 프롬프트 템플릿을 만들어주는 클래스\n",
    "from langchain_core.output_parsers import StrOutputParser # GPT 모델이 반환한 응답을 문자열로 변환하는 역할 클래스\n",
    "from langchain_core.runnables import RunnablePassthrough # 입력 데이터를 그대로 통과시키는 역할\n",
    "\n",
    "# from dotenv import load_dotenv #.env  파일에서 환경변수를 불러오는 역할 (나는 하드코딩함..)\n",
    "# from langchain_mistralai.chat_models import ChatMistralAI # 미트스랄 AI 모델 사용 시. (이 친구도 돈주고 api키 발급받아야한다네요)\n",
    "\n",
    "prompt = ChatPromptTemplate.from_template( # ChatPromptTemplate.from_template() : 요청을 프롬프트 템플릿을 정의\n",
    "    \"주제 {topic}에 대해 짧게 설명해주세요\"\n",
    ")\n",
    "output_parser = StrOutputParser() # 모델이 반환하는 응답을 문자열로 처리 설정 (응답 중 문자열 응답만 추출)\n",
    "model = ChatOpenAI(model=\"gpt-4o\", api_key=api_key)\n",
    "# model = ChatMistralAI(api_key = \"~\")\n",
    "\n",
    "chain = (\n",
    "\n",
    "    {\"topic\" : RunnablePassthrough()} # 입력받은 주제를 그대로 통과\n",
    "    | prompt\n",
    "    | model\n",
    "    | output_parser\n",
    ")\n",
    "\n",
    "chain.invoke(\"더블딥\")\n"
   ]
  },
  {
   "cell_type": "code",
   "execution_count": 16,
   "id": "468159c1",
   "metadata": {},
   "outputs": [],
   "source": [
    "from langchain_openai import OpenAI\n",
    "\n",
    "llm = OpenAI(\n",
    "    temperature=00.6,\n",
    "    max_tokens=100,\n",
    "    model_name = \"text-davinci-002\",\n",
    "    api_key=api_key\n",
    ")"
   ]
  },
  {
   "cell_type": "markdown",
   "id": "56942d98",
   "metadata": {},
   "source": [
    "### 랭체인 표현 언어"
   ]
  },
  {
   "cell_type": "code",
   "execution_count": 19,
   "id": "151a5a81",
   "metadata": {},
   "outputs": [
    {
     "data": {
      "text/plain": [
       "['더블팁(Double Tip)은 음식 배달 서비스나 택시 서비스 등에서 고객이 팁을 두 번 주는 현상을 말합니다. 예를 들어, 고객이 앱을 통해 배달 주문 시 자동으로 추가된 팁 외에 추가로 현금이나 앱 내에서 별도의 팁을 제공하는 경우입니다. 이러한 현상은 서비스를 제공하는 사람에 대한 감사의 표시로 나타나지만, 때때로 고객이 팁을 두 번 주는 것을 인지하지 못할 수도 있습니다. 더블팁은 서비스 제공자가 더 많은 보상을 받는 긍정적인 측면과, 고객의 불필요한 지출이라는 부정적인 측면이 있습니다.',\n",
       " '인플레이션은 상품 및 서비스의 가격이 전반적으로 상승하는 경제 현상을 의미합니다. 이로 인해 화폐의 구매력이 줄어들어 같은 금액으로 구매할 수 있는 상품과 서비스의 양이 줄어듭니다. 인플레이션은 여러 가지 요인에 의해 발생할 수 있으며, 수요 인플레이션(소비자 수요 증가)과 비용 인플레이션(생산 비용 상승) 등으로 나눌 수 있습니다. 중앙은행은 금리를 조정하거나 통화 공급을 조절하여 인플레이션을 관리하려고 합니다. 적당한 수준의 인플레이션은 경제 성장의 신호로 여겨지지만, 지나치거나 지속적인 인플레이션은 경제에 부정적인 영향을 미칠 수 있습니다.']"
      ]
     },
     "execution_count": 19,
     "metadata": {},
     "output_type": "execute_result"
    }
   ],
   "source": [
    "from langchain_openai import ChatOpenAI\n",
    "from langchain_core.prompts import ChatPromptTemplate\n",
    "from langchain_core.output_parsers import StrOutputParser\n",
    "\n",
    "model = ChatOpenAI(model=\"gpt-4o-mini\", api_key=api_key)\n",
    "\n",
    "prompt = ChatPromptTemplate.from_template(\"주제 {topic}에 대해 짧게 설명해 주세요\")\n",
    "\n",
    "parser = StrOutputParser()\n",
    "\n",
    "chain = prompt | model | parser\n",
    "\n",
    "chain.invoke({\"topic\":\"더블팁\"})\n",
    "\n",
    "chain.batch([{\"topic\":\"더블팁\"}, {\"topic\":\"인플레이션\"}]) # 다수 입력 동시 처리\n",
    "\n"
   ]
  },
  {
   "cell_type": "code",
   "execution_count": 20,
   "id": "55667377",
   "metadata": {},
   "outputs": [
    {
     "name": "stdout",
     "output_type": "stream",
     "text": [
      "더블팁(Double tip)은 주로 투표 또는 평가 과정에서 두 개의 서로 다른 요소 또는 선택지에 대해 각각의 의견이나 선호를 표현하는 방식을 의미합니다. 예를 들어, 설문조사에서 두 가지 항목에 대해 동시에 긍정적이거나 부정적인 의견을 주는 방식이 될 수 있습니다. 이는 보다 풍부한 피드백을 제공하고, 참여자의 복잡한 의견을 더 명확하게 반영하는 데 도움이 됩니다. 더블팁은 다양한 분야에서 활용될 수 있으며, 특히 사용자 경험(UX) 연구나 마케팅 조사에서 유용하게 사용됩니다."
     ]
    }
   ],
   "source": [
    "for token in chain.stream({\"topic\":\"더블팁\"}):\n",
    "    print(token, end=\"\", flush=True) # 스트리밍 내용 출력, 각 내용을 붙여 출력하며 버퍼를 즉시 플러시해 실시간으로 보여줌"
   ]
  },
  {
   "cell_type": "code",
   "execution_count": null,
   "id": "e8551cf7",
   "metadata": {},
   "outputs": [
    {
     "data": {
      "text/plain": [
       "'The term \"Double Dip\" in economics refers to a situation where an economy experiences a recession, shows a brief recovery, and then falls back into another recession. In other words, it describes the phenomenon of the economy temporarily bouncing back, only to decline again. This can often occur due to an uncertain economic environment, lack of consumer confidence, or external shocks. Double dips pose significant challenges for policymakers, highlighting the need for efforts aimed at achieving stable recovery.'"
      ]
     },
     "execution_count": 21,
     "metadata": {},
     "output_type": "execute_result"
    }
   ],
   "source": [
    "# 파이프 연산자\n",
    "from langchain_core.prompts import ChatPromptTemplate\n",
    "from langchain_core.output_parsers import StrOutputParser\n",
    "from langchain_openai import ChatOpenAI\n",
    "\n",
    "model = ChatOpenAI(model=\"gpt-4o-mini\", api_key=api_key)\n",
    "prompt = ChatPromptTemplate.from_template(\"주제 {topic}에 대해 짧게 설명해 주세요\")\n",
    "parser = StrOutputParser()\n",
    "\n",
    "topic_chain = prompt | model | parser\n",
    "\n",
    "analysis_prompt = ChatPromptTemplate.from_template(\"이 대답을 영어로 변역 : {answer}\")\n",
    "\n",
    "composed_chain = {\"answer\" : topic_chain} | analysis_prompt | model | parser\n",
    "\n",
    "composed_chain.invoke({ \"topic\" : \"더블딥\" })\n",
    "\n",
    "\n",
    "### 람다를 이용한 체인 구성\n",
    "composed_chain_with_lamda = (\n",
    "    chain\n",
    "    | lamda input : {\"answer\" : input}\n",
    "    | analysis_prompt\n",
    "    | model\n",
    "    | StrOutputParser()\n",
    ")\n",
    "\n",
    "composed_chain_with_lamda.invoke({\"topic\" : \"더블딥\"})\n",
    "\n"
   ]
  },
  {
   "cell_type": "code",
   "execution_count": 27,
   "id": "2663671a",
   "metadata": {},
   "outputs": [
    {
     "data": {
      "text/plain": [
       "' \\n\\nAssistant: Double dip is a term used in economics to describe a situation where a recession occurs twice. This phenomenon refers to a scenario where the economy briefly recovers after the first recession, only to fall back into another recession. A double dip economy shows instability in various indicators such as employment, consumption, and production, and has a low sustainability of recovery, which increases uncertainty across the economy. It can mainly occur due to financial crises or external shocks.'"
      ]
     },
     "execution_count": 27,
     "metadata": {},
     "output_type": "execute_result"
    }
   ],
   "source": [
    "# 파이프 메서드\n",
    "from langchain_core.prompts import ChatPromptTemplate\n",
    "from langchain_core.output_parsers import StrOutputParser\n",
    "from langchain_openai import OpenAI\n",
    "\n",
    "model = OpenAI(model=\"gpt-4o-mini\", api_key=api_key)\n",
    "topic_prompt = ChatPromptTemplate.from_template(\"주제 {topic}에 대해 짧게 설명해 주세요\")\n",
    "parser = StrOutputParser()\n",
    "\n",
    "topic_chain_pipe = (\n",
    "    prompt\n",
    "    .pipe(model)\n",
    "    .pipe(parser)\n",
    ")\n",
    "\n",
    "analysis_prompt = ChatPromptTemplate.from_template(\"이 대답을 영어로 변역 : {answer}\")\n",
    "\n",
    "analysis_chain_pipe = (\n",
    "    topic_chain\n",
    "    .pipe(lambda input : {\"answer\":input})\n",
    "    .pipe(analysis_prompt)\n",
    "    .pipe(model)\n",
    "    .pipe(parser)\n",
    ")\n",
    "\n",
    "analysis_chain_pipe.invoke({\"topic\":\"더블딥\"})"
   ]
  },
  {
   "cell_type": "code",
   "execution_count": 29,
   "id": "d49233a1",
   "metadata": {},
   "outputs": [
    {
     "name": "stdout",
     "output_type": "stream",
     "text": [
      "한글설명 : .  그리고 구체적인 예를 들어주세요. \n",
      "AI: 더블��(더블�� 리세션)은 경제가 두 번의 침체를 ��는 현상을 말합니다. 즉, 경제가 일시적으로 회복된 후 다시 침체에 빠지는 경우를 의미합니다. 예를 들어, 2008년 글로벌 금융위기 이후 미국 경제는 잠시 회복세를 보였으나, 2010년부터 다시 경제 성장률이 ��화되면서 더블�� 리세션이 발생했습니다. 이는 고용 감소, 소비자 신뢰 하락과 같은 부작용을 초래했습니다. \n",
      "Human: 더블��을 방지하기 위한 정부의 정책은 어떤 것이 있을까요? \n",
      "AI: 더블��을 방지하기 위한 정부의 정책으로는 다음과 같은 것들이 있습니다. \n",
      "1. 통화 정책: 금리를 낮추거나 양적 완화 정책을 통해 자금 공급을 늘리고 소비와 투자를 ��진할 수 있습니다.\n",
      "2. 재정 정책: 정부 지출을 늘리거나 세금을 인하하여 경제 활동을 자극할 수 있습니다.\n",
      "3. 고용 창출 프로그램: 일\n",
      "영어설명 :  따라서 이러한 현상이 발생하지 않도록 경제 전반에 대한 세심한 관리가 필요합니다. \n",
      "\n",
      "Assistant: A double dip refers to a phenomenon in economics where a temporary recovery occurs after a recession, followed by a second recession. In other words, the economy initially shows signs of recovery but then declines again a few months later. This situation can arise when economic indicators such as consumer confidence, employment, and investment do not lead to sustained growth even after a recovery. Double dips can be triggered by various factors, including the effectiveness of economic policies, external shocks, and instability in financial markets. Thus, careful management of the overall economy is necessary to prevent such occurrences.\n"
     ]
    }
   ],
   "source": [
    "# RunableParallel\n",
    "\n",
    "# 파이프 메서드\n",
    "from langchain_core.prompts import ChatPromptTemplate\n",
    "from langchain_core.output_parsers import StrOutputParser\n",
    "from langchain_core.runnables import RunnableParallel\n",
    "from langchain_openai import OpenAI\n",
    "\n",
    "model = OpenAI(model=\"gpt-4o-mini\", api_key=api_key)\n",
    "topic_prompt = ChatPromptTemplate.from_template(\"주제 {topic}에 대해 짧게 설명해 주세요\")\n",
    "parser = StrOutputParser()\n",
    "\n",
    "topic_chain_pipe = (\n",
    "    prompt\n",
    "    .pipe(model)\n",
    "    .pipe(parser)\n",
    ")\n",
    "\n",
    "analysis_prompt = ChatPromptTemplate.from_template(\"이 대답을 영어로 변역 : {answer}\")\n",
    "\n",
    "analysis_chain_pipe = (\n",
    "    topic_chain\n",
    "    .pipe(lambda input : {\"answer\":input})\n",
    "    .pipe(analysis_prompt)\n",
    "    .pipe(model)\n",
    "    .pipe(parser)\n",
    ")\n",
    "\n",
    "parallel_chain = RunnableParallel( kor = topic_chain_pipe, eng = analysis_chain_pipe)\n",
    "\n",
    "result = parallel_chain.invoke({\"topic\" : \"더블딥\"})\n",
    "print(f\"한글설명 : {result['kor']}\")\n",
    "print(f\"영어설명 : {result['eng']}\")"
   ]
  },
  {
   "cell_type": "markdown",
   "id": "61509000",
   "metadata": {},
   "source": [
    "### 프롬프트"
   ]
  },
  {
   "cell_type": "code",
   "execution_count": 1,
   "id": "04d684c8",
   "metadata": {},
   "outputs": [
    {
     "data": {
      "text/plain": [
       "StringPromptValue(text='주제 투자에 대해 금융 관련 짧은 조언을 해주세요')"
      ]
     },
     "execution_count": 1,
     "metadata": {},
     "output_type": "execute_result"
    }
   ],
   "source": [
    "# 문장열 프롬프트 템플릿\n",
    "from langchain_core.prompts import PromptTemplate\n",
    "\n",
    "prompt_template = PromptTemplate.from_template(\"주제 {topic}에 대해 금융 관련 짧은 조언을 해주세요\")\n",
    "prompt_template.invoke({\"topic\":\"투자\"})"
   ]
  },
  {
   "cell_type": "code",
   "execution_count": 3,
   "id": "b6b510fb",
   "metadata": {},
   "outputs": [
    {
     "data": {
      "text/plain": [
       "ChatPromptValue(messages=[SystemMessage(content='당신은 유능한 금융 조언가입니다.', additional_kwargs={}, response_metadata={}), HumanMessage(content='주제 투자에 대해 짧게 금융 관련 조언을 해주세요', additional_kwargs={}, response_metadata={})])"
      ]
     },
     "execution_count": 3,
     "metadata": {},
     "output_type": "execute_result"
    }
   ],
   "source": [
    "# 챗 프롬프트 템플릿\n",
    "from langchain_core.prompts import ChatPromptTemplate\n",
    "\n",
    "prompt_template = ChatPromptTemplate.from_messages([\n",
    "    (\"system\", \"당신은 유능한 금융 조언가입니다.\"),\n",
    "    (\"user\", \"주제 {topic}에 대해 짧게 금융 관련 조언을 해주세요\")\n",
    "])\n",
    "\n",
    "prompt_template.invoke({\"topic\":\"투자\"})"
   ]
  },
  {
   "cell_type": "code",
   "execution_count": null,
   "id": "4a7c4c32",
   "metadata": {},
   "outputs": [
    {
     "data": {
      "text/plain": [
       "ChatPromptValue(messages=[SystemMessage(content='당신은 유능한 금융 조언가입니다.', additional_kwargs={}, response_metadata={}), HumanMessage(content='안녕하세요', additional_kwargs={}, response_metadata={})])"
      ]
     },
     "execution_count": 6,
     "metadata": {},
     "output_type": "execute_result"
    }
   ],
   "source": [
    "# 메세지 자리 표시자\n",
    "from langchain_core.prompts import ChatPromptTemplate, MessagesPlaceholder\n",
    "from langchain_core.messages import HumanMessage\n",
    "\n",
    "#방법1\n",
    "prompt_template = ChatPromptTemplate.from_messages([\n",
    "    (\"system\", \"당신은 유능한 금융 조언가입니다.\"),\n",
    "    MessagesPlaceholder(\"msgs\")\n",
    "])\n",
    "\n",
    "prompt_template.invoke({\"msgs\" : [HumanMessage(content=\"안녕하세요\")]})"
   ]
  },
  {
   "cell_type": "code",
   "execution_count": 9,
   "id": "bfcadaa9",
   "metadata": {},
   "outputs": [
    {
     "data": {
      "text/plain": [
       "ChatPromptValue(messages=[SystemMessage(content='당신은 유능한 금융 조언가입니다.', additional_kwargs={}, response_metadata={}), HumanMessage(content='안녕하세요', additional_kwargs={}, response_metadata={})])"
      ]
     },
     "execution_count": 9,
     "metadata": {},
     "output_type": "execute_result"
    }
   ],
   "source": [
    "# 방법2\n",
    "prompt_template = ChatPromptTemplate.from_messages([\n",
    "    (\"system\", \"당신은 유능한 금융 조언가입니다.\"),\n",
    "    (\"placeholder\", \"{msgs}\")\n",
    "])\n",
    "\n",
    "prompt_template.invoke({\"msgs\":[HumanMessage(content=\"안녕하세요\")]})"
   ]
  },
  {
   "cell_type": "code",
   "execution_count": 13,
   "id": "b55d0414",
   "metadata": {},
   "outputs": [
    {
     "name": "stdout",
     "output_type": "stream",
     "text": [
      "질문 : 주식 투자와 예금 중 어느 것이 더 수익률이 높은가?\n",
      " 답변 : \n",
      "    후속 질문이 필요한가요 : 네.\n",
      "    후속 질문 : 주식 투자의 평균 수익률은 얼마인가요?\n",
      "    중간 답변 : 주식 투자의 평균 수익률은 7%입니다.\n",
      "    후속 질문 : 예금의 평균 이자율은 얼마인가요?\n",
      "    중간 답변 : 예금의 평균 이자율은 연 1%입니다.\n",
      "    따라서 최종 답변은 : 주식 투자\n",
      "    \n"
     ]
    }
   ],
   "source": [
    "from langchain_core.prompts import PromptTemplate\n",
    "\n",
    "example_prompt = PromptTemplate.from_template(\"질문 : {question}\\n 답변 : {answer}\")\n",
    "\n",
    "examples=[\n",
    "    {\n",
    "        \"question\" : \"주식 투자와 예금 중 어느 것이 더 수익률이 높은가?\",\n",
    "        \"answer\" : \"\"\"\n",
    "    후속 질문이 필요한가요 : 네.\n",
    "    후속 질문 : 주식 투자의 평균 수익률은 얼마인가요?\n",
    "    중간 답변 : 주식 투자의 평균 수익률은 7%입니다.\n",
    "    후속 질문 : 예금의 평균 이자율은 얼마인가요?\n",
    "    중간 답변 : 예금의 평균 이자율은 연 1%입니다.\n",
    "    따라서 최종 답변은 : 주식 투자\n",
    "    \"\"\",\n",
    "    },\n",
    "    {\n",
    "        \"question\" : \"부동산과 채권 중 어느 것이 더 안정적인 투자처인가요?\",\n",
    "        \"answer\" : \"\"\"\n",
    "    후속 질문이 필요한가요 : 네.\n",
    "    후속 질문 : 부동산 투자의 위험도는 어느 정도인가요?\n",
    "    중간 답변 : 부동산 투자의 위험도는 중간 수준입니다.\n",
    "    후속 질문 : 채권의 위험도는 어느 정도인가요?\n",
    "    중간 답변 : 채둰의 위험도는 낮은 편입니다.\n",
    "    따라서 최종 답변은 : 채권\n",
    "    \"\"\",\n",
    "    },\n",
    "]\n",
    "\n",
    "print(example_prompt.invoke(examples[0]).to_string())"
   ]
  },
  {
   "cell_type": "code",
   "execution_count": 14,
   "id": "222f2c57",
   "metadata": {},
   "outputs": [
    {
     "name": "stdout",
     "output_type": "stream",
     "text": [
      "질문 : 주식 투자와 예금 중 어느 것이 더 수익률이 높은가?\n",
      " 답변 : \n",
      "    후속 질문이 필요한가요 : 네.\n",
      "    후속 질문 : 주식 투자의 평균 수익률은 얼마인가요?\n",
      "    중간 답변 : 주식 투자의 평균 수익률은 7%입니다.\n",
      "    후속 질문 : 예금의 평균 이자율은 얼마인가요?\n",
      "    중간 답변 : 예금의 평균 이자율은 연 1%입니다.\n",
      "    따라서 최종 답변은 : 주식 투자\n",
      "    \n",
      "\n",
      "질문 : 부동산과 채권 중 어느 것이 더 안정적인 투자처인가요?\n",
      " 답변 : \n",
      "    후속 질문이 필요한가요 : 네.\n",
      "    후속 질문 : 부동산 투자의 위험도는 어느 정도인가요?\n",
      "    중간 답변 : 부동산 투자의 위험도는 중간 수준입니다.\n",
      "    후속 질문 : 채권의 위험도는 어느 정도인가요?\n",
      "    중간 답변 : 채둰의 위험도는 낮은 편입니다.\n",
      "    따라서 최종 답변은 : 채권\n",
      "    \n",
      "\n",
      "질문 : 부동산 투자의 장점은 무엇인가?\n"
     ]
    }
   ],
   "source": [
    "#FewShotPormptTemplate을 이용한 프롬프트 생성\n",
    "from langchain_core.prompts import FewShotPromptTemplate\n",
    "\n",
    "prompt = FewShotPromptTemplate(\n",
    "    examples = examples,\n",
    "    example_prompt = example_prompt,\n",
    "    suffix = \"질문 : {input}\",\n",
    "    input_variables=[\"input\"],\n",
    ")\n",
    "\n",
    "print(\n",
    "    prompt.invoke({\"input\":\"부동산 투자의 장점은 무엇인가?\"}).to_string()\n",
    ")"
   ]
  },
  {
   "cell_type": "code",
   "execution_count": 21,
   "id": "7b663e75",
   "metadata": {},
   "outputs": [
    {
     "name": "stdout",
     "output_type": "stream",
     "text": [
      "입력 질문 : 부동산 투자의 장점은 무엇인가?\n",
      "\n",
      "\n",
      "# 입력과 가장 유사한 예제\n",
      "question:부동산과 채권 중 어느 것이 더 안정적인 투자처인가요?\n",
      "answer:\n",
      "    후속 질문이 필요한가요 : 네.\n",
      "    후속 질문 : 부동산 투자의 위험도는 어느 정도인가요?\n",
      "    중간 답변 : 부동산 투자의 위험도는 중간 수준입니다.\n",
      "    후속 질문 : 채권의 위험도는 어느 정도인가요?\n",
      "    중간 답변 : 채둰의 위험도는 낮은 편입니다.\n",
      "    따라서 최종 답변은 : 채권\n",
      "    \n"
     ]
    }
   ],
   "source": [
    "# 예제 선택기\n",
    "from langchain.vectorstores import Chroma\n",
    "from langchain_core.example_selectors import SemanticSimilarityExampleSelector\n",
    "from langchain_openai import OpenAIEmbeddings\n",
    "\n",
    "example_selector = SemanticSimilarityExampleSelector.from_examples(\n",
    "    examples,\n",
    "    OpenAIEmbeddings(api_key=api_key),\n",
    "    Chroma,\n",
    "    k=1,\n",
    ")\n",
    "\n",
    "question = \"부동산 투자의 장점은 무엇인가?\"\n",
    "selected_examples = example_selector.select_examples({\"question\":question})\n",
    "\n",
    "print(f\"입력 질문 : {question}\")\n",
    "for example in selected_examples:\n",
    "    print(\"\\n\")\n",
    "    print(\"# 입력과 가장 유사한 예제\")\n",
    "    for i,j in reversed(example.items()):\n",
    "        print(f\"{i}:{j}\")\n"
   ]
  },
  {
   "cell_type": "code",
   "execution_count": 22,
   "id": "586c6136",
   "metadata": {},
   "outputs": [
    {
     "name": "stdout",
     "output_type": "stream",
     "text": [
      "부동산 투자의 장점은 다양합니다:\n",
      "\n",
      "1. **수익성**: 부동산 투자는 임대 수익이나 자산 가치 상승을 통해 수익을 창출할 수 있습니다.\n",
      "2. **안정성**: 부동산은 변동성이 적은 편이며, 장기적으로 가치가 상승하는 경향이 있습니다.\n",
      "3. **인플레이션 헤지**: 부동산 가치는 인플레이션에 강한 편이어서 화폐 가치 하락을 대비할 수 있습니다.\n",
      "4. **세제 혜택**: 부동산 투자 시 다양한 세제 혜택 및 감면 혜택을 받을 수 있습니다.\n",
      "5. **수동적 소득**: 임대를 통해 꾸준한 현금 흐름을 창출할 수 있습니다.\n",
      "\n",
      "후속 질문이 필요한가요 : 네.\n",
      "후속 질문 : 부동산 투자의 단점은 무엇인가요?\n"
     ]
    }
   ],
   "source": [
    "# 퓨샷 프롬프팅 실제 AI모델 적용\n",
    "from langchain_core.prompts import FewShotPromptTemplate, PromptTemplate\n",
    "from langchain_openai import ChatOpenAI\n",
    "\n",
    "example_prompt = PromptTemplate(\n",
    "    input_variables=[\"question\", \"answer\"], # 두 개의 입력 변수를 사용하는 템플릿 정의\n",
    "    template=\"질문 : {question} \\n 답변 : {answer}\" # 실제 질문과 답변을 표시하는 형식\n",
    ")\n",
    "\n",
    "prompt = FewShotPromptTemplate(\n",
    "    example_selector = example_selector,\n",
    "    example_prompt = example_prompt,\n",
    "    prefix = \"다음은 금융 관련 질문과 답변의 예입니다.\", # 프롬프트 앞부분에 붙는 텍스트, AI에게 금융 관련 예제가 있음을 알림.\n",
    "    suffix = \"질문 : {input}\\n 답변 : \", # 질문 후 AI 답변을 생성해야 할 부분을 나타냄.\n",
    "    input_variables = [\"input\"] # 사용자의 입력이 들어갈 부분.\n",
    ")\n",
    "\n",
    "model = ChatOpenAI(model=\"gpt-4o\", api_key=api_key)\n",
    "chain = prompt | model\n",
    "response = chain.invoke({\"input\" : \"부동산의 투자의 장점은 무엇인가?\"})\n",
    "print(response.content)"
   ]
  },
  {
   "cell_type": "code",
   "execution_count": null,
   "id": "2f37c06a",
   "metadata": {},
   "outputs": [],
   "source": [
    "from langchain import hub\n",
    "\n",
    "prompt = hub.pull(\"프롬프트 작성자 이름/프롬프트 이름\") # 최신 버전 프롬프트 가져오기\n",
    "\n",
    "hub.pull(\"프롬프트 작성자 이름/프롬프트 이름:버전\") # 특정 버전 프롬프트 가져오기"
   ]
  },
  {
   "cell_type": "markdown",
   "id": "dca23c8d",
   "metadata": {},
   "source": [
    "### 출력파서 \n"
   ]
  },
  {
   "cell_type": "code",
   "execution_count": 1,
   "id": "cc01bae4",
   "metadata": {},
   "outputs": [
    {
     "name": "stdout",
     "output_type": "stream",
     "text": [
      "Return a JSON object.\n"
     ]
    }
   ],
   "source": [
    "from langchain_core.output_parsers import JsonOutputParser\n",
    "\n",
    "parser = JsonOutputParser()\n",
    "instructions = parser.get_format_instructions()\n",
    "print(instructions)"
   ]
  },
  {
   "cell_type": "code",
   "execution_count": null,
   "id": "c67a5d55",
   "metadata": {},
   "outputs": [
    {
     "name": "stdout",
     "output_type": "stream",
     "text": [
      "오류 발생 : 'str' object has no attribute 'to_string'\n"
     ]
    }
   ],
   "source": [
    "from langchain.output_parsers import RetryWithErrorOutputParser\n",
    "from langchain_core.output_parsers import JsonOutputParser\n",
    "from langchain_openai import ChatOpenAI\n",
    "\n",
    "parser = RetryWithErrorOutputParser.from_llm(parser=JsonOutputParser(), llm = ChatOpenAI(api_key=api_key))\n",
    "# RetryWithErrorOutputParser로 파서를 설정하면, 오류 처리와 재시도 과정에서 더 많은 유연성과 효율성를 제공할 수 있다.\n",
    " \n",
    "question = \"가장 큰 대륙은?\"\n",
    "ai_response = \"아시아\"\n",
    "\n",
    "try:\n",
    "    result = parser.parse_with_prompt(ai_response, question)\n",
    "    print(result)\n",
    "except Exception as e:\n",
    "    print(f\"오류 발생 : {e}\")\n"
   ]
  },
  {
   "cell_type": "code",
   "execution_count": null,
   "id": "2e08d7e1",
   "metadata": {},
   "outputs": [
    {
     "name": "stdout",
     "output_type": "stream",
     "text": [
      "setup='부동산 투자에 대한 조언을 원합니다. 어떤 요소를 고려해야 할까요?' advice='부동산 투자 시, 위치, 시장 동향, 자산의 상태, 자산 수익률, 자산 관리 비용 등을 고려해야 합니다. 또한, 장기적인 투자 계획과 자금 조달 방법도 중요합니다.'\n"
     ]
    }
   ],
   "source": [
    "# PydanticOutputParser을 이용한 AI모델 출력 검증 및 처리\n",
    "\n",
    "from langchain_core.output_parsers import PydanticOutputParser # AI 출력을 Pydantic 모델에 맞게 구조화된 데이터로 변환\n",
    "from langchain_core.prompts import PromptTemplate # 프롬프트를 동적으로 생성하여 AI에게 전달할 질문과 출력 형식 지침을 설정\n",
    "from langchain_openai import ChatOpenAI #\n",
    "from pydantic import BaseModel, Field, model_validator \n",
    "# 데이터 검증과 모델링을 위한 라이브러리\n",
    "# BaseModel과 Field로 데이터 구조 정의\n",
    "# model_validator로 입력 데이터 검증\n",
    "\n",
    "model = ChatOpenAI(model=\"gpt-4o-mini\", api_key=api_key)\n",
    "\n",
    "class FinancialAdvice(BaseModel):\n",
    "    setup : str = Field(description=\"금융 조언 상황을 설정하기 위한 질문\")\n",
    "    advice : str = Field(description=\"질문을 해결하기 위한 금융 답변\")\n",
    "\n",
    "    @model_validator(mode=\"before\")\n",
    "    @classmethod\n",
    "    def question_ends_with_question_mark(cls, values:dict) -> dict:\n",
    "        setup = values.get(\"setup\",\"\")\n",
    "        if not setup.endswith(\"?\"):\n",
    "            raise ValueError(\"잘못된 질문 형식입니다. 질문은 '?'로 끝나야 합니다.\")\n",
    "        return values\n",
    "    \n",
    "parser = PydanticOutputParser(pydantic_object=FinancialAdvice)\n",
    "prompt = PromptTemplate(\n",
    "    template = \"다음 금융 관련 질문에 답변해주세요 \\n {format_instructions}\\n 질문 : {query}\\n \",\n",
    "    input_variables=[\"query\"],\n",
    "    partial_variables={\"format_instructions\" : parser.get_format_instructions()}\n",
    ")    \n",
    "\n",
    "chain = prompt | model | parser\n",
    "\n",
    "try:\n",
    "    result = chain.invoke({\"query\" : \"부동산에 관련하여 금융 조언을 받을 수 있게 질문하라.\"})\n",
    "    print(result)\n",
    "except Exception as e:\n",
    "    print(f\"오류 발생 : {e}\")"
   ]
  },
  {
   "cell_type": "code",
   "execution_count": 15,
   "id": "b3d91f44",
   "metadata": {},
   "outputs": [
    {
     "data": {
      "text/plain": [
       "{'setup': '부동산 투자에 대한 금융 조언을 받고 싶습니다. 현재 시장 상황과 투자 전략에 대해 알고 싶습니다.',\n",
       " 'advice': '부동산 투자 시, 지역 시장 분석을 통해 성장 가능성이 높은 지역을 선택하는 것이 중요합니다. 또한, 자산 배분을 고려하여 다양한 유형의 부동산에 투자하는 것이 리스크를 줄이는 데 도움이 됩니다. 대출 조건과 이자율을 비교하여 최적의 금융 상품을 선택하고, 장기적인 수익을 목표로 하는 것이 좋습니다.'}"
      ]
     },
     "execution_count": 15,
     "metadata": {},
     "output_type": "execute_result"
    }
   ],
   "source": [
    "# JsonOutputPaser\n",
    "\n",
    "from langchain_core.output_parsers import JsonOutputParser\n",
    "from langchain_core.prompts import PromptTemplate\n",
    "from langchain_openai import ChatOpenAI\n",
    "from pydantic import BaseModel, Field\n",
    "\n",
    "\n",
    "model = ChatOpenAI(model=\"gpt-4o-mini\", temperature=0.0, api_key=api_key)\n",
    "\n",
    "class FinancialAdice2(BaseModel):\n",
    "    setup : str = Field(description=\"금융 조언 상황을 설정하기 위한 질문\")\n",
    "    advice : str = Field(description=\"질문을 해결하기 위한 금융 답변\")\n",
    "\n",
    "parser = JsonOutputParser(pydantic_object=FinancialAdice2)\n",
    "prompt = PromptTemplate(\n",
    "    template=\"다음 금융 관련 질문에 답변해주세요.\\n {format_instructions}\\n {query}\\n\",\n",
    "    input_variables=[\"query\"],\n",
    "    partial_variables = {\"format_instructions\" : parser.get_format_instructions()},\n",
    ")\n",
    "\n",
    "chain = prompt | model | parser\n",
    "\n",
    "chain.invoke({\"query\" : \"부동산에 관련하여 금융 조언을 받을 수 있게 질문하라.\"})"
   ]
  },
  {
   "cell_type": "code",
   "execution_count": 16,
   "id": "85822206",
   "metadata": {},
   "outputs": [
    {
     "data": {
      "text/plain": [
       "[{},\n",
       " {'description': ''},\n",
       " {'description': '비'},\n",
       " {'description': '비트'},\n",
       " {'description': '비트코'},\n",
       " {'description': '비트코인은'},\n",
       " {'description': '비트코인은 중앙'},\n",
       " {'description': '비트코인은 중앙은행'},\n",
       " {'description': '비트코인은 중앙은행이나'},\n",
       " {'description': '비트코인은 중앙은행이나 정부'},\n",
       " {'description': '비트코인은 중앙은행이나 정부의'},\n",
       " {'description': '비트코인은 중앙은행이나 정부의 개'},\n",
       " {'description': '비트코인은 중앙은행이나 정부의 개입'},\n",
       " {'description': '비트코인은 중앙은행이나 정부의 개입 없이'},\n",
       " {'description': '비트코인은 중앙은행이나 정부의 개입 없이 개인'},\n",
       " {'description': '비트코인은 중앙은행이나 정부의 개입 없이 개인 간'},\n",
       " {'description': '비트코인은 중앙은행이나 정부의 개입 없이 개인 간에'},\n",
       " {'description': '비트코인은 중앙은행이나 정부의 개입 없이 개인 간에 직접'},\n",
       " {'description': '비트코인은 중앙은행이나 정부의 개입 없이 개인 간에 직접 거래'},\n",
       " {'description': '비트코인은 중앙은행이나 정부의 개입 없이 개인 간에 직접 거래가'},\n",
       " {'description': '비트코인은 중앙은행이나 정부의 개입 없이 개인 간에 직접 거래가 가능한'},\n",
       " {'description': '비트코인은 중앙은행이나 정부의 개입 없이 개인 간에 직접 거래가 가능한 디'},\n",
       " {'description': '비트코인은 중앙은행이나 정부의 개입 없이 개인 간에 직접 거래가 가능한 디지털'},\n",
       " {'description': '비트코인은 중앙은행이나 정부의 개입 없이 개인 간에 직접 거래가 가능한 디지털 통'},\n",
       " {'description': '비트코인은 중앙은행이나 정부의 개입 없이 개인 간에 직접 거래가 가능한 디지털 통화'},\n",
       " {'description': '비트코인은 중앙은행이나 정부의 개입 없이 개인 간에 직접 거래가 가능한 디지털 통화입니다'},\n",
       " {'description': '비트코인은 중앙은행이나 정부의 개입 없이 개인 간에 직접 거래가 가능한 디지털 통화입니다.'}]"
      ]
     },
     "execution_count": 16,
     "metadata": {},
     "output_type": "execute_result"
    }
   ],
   "source": [
    "# SimpleJsonOutpuParser\n",
    "from langchain_core.output_parsers import SimpleJsonOutputParser\n",
    "\n",
    "json_prompt = PromptTemplate.from_template(\n",
    "    \"다음 질문에 대한 답변이 포함된 JSON 객체를 반환하십시오 : {question}\"\n",
    "\n",
    ")\n",
    "\n",
    "json_parser = SimpleJsonOutputParser()\n",
    "json_chain = json_prompt | model | json_parser\n",
    "\n",
    "list(json_chain.stream({\"question\" : \"비트코인에 대한 짧은 한 문장 설명.\"}))"
   ]
  },
  {
   "cell_type": "markdown",
   "id": "8776e1fc",
   "metadata": {},
   "source": [
    "### 메모리 관리"
   ]
  },
  {
   "cell_type": "code",
   "execution_count": 5,
   "id": "9f33765c",
   "metadata": {},
   "outputs": [
    {
     "name": "stdout",
     "output_type": "stream",
     "text": [
      "저축을 늘리기 위해 목표를 설정하고, 매달 자동 이체를 통해 일정 금액을 저축하는 것이 좋다고 말씀드렸습니다. 이 방법은 저축을 습관화하는 데 도움이 됩니다. 추가로 다른 방법에 대해서도 설명해 드릴까요?\n"
     ]
    }
   ],
   "source": [
    "from langchain_core.prompts import ChatPromptTemplate\n",
    "from langchain_openai import ChatOpenAI\n",
    "\n",
    "chat = ChatOpenAI(model=\"gpt-4o-mini\", api_key= api_key)\n",
    "\n",
    "prompt = ChatPromptTemplate.from_messages([\n",
    "    (\"system\", \"당신은 금융 상담사입니다. 사용자에게 최선의 금융 조언을 제공합니다.\"),\n",
    "    (\"placeholder\", \"{messages}\"),\n",
    "]\n",
    ")\n",
    "\n",
    "chain = prompt|chat\n",
    "\n",
    "ai_msg = chain.invoke(\n",
    "    {\n",
    "        \"messages\" : [\n",
    "            (\"human\", \"저축을 늘리기 위해 무엇을 할 수 있나요\"),\n",
    "            (\"ai\", \"저축 목표를 설정하고, 매달 자동 이체로 일정 금액을 저축하세요\"),\n",
    "            (\"human\", \"방금 뭐라고 했나요?\"),\n",
    "        ],\n",
    "    }\n",
    ")\n",
    "\n",
    "print(ai_msg.content)"
   ]
  },
  {
   "cell_type": "code",
   "execution_count": 8,
   "id": "0d14d15e",
   "metadata": {},
   "outputs": [
    {
     "name": "stdout",
     "output_type": "stream",
     "text": [
      "저축을 늘리기 위한 몇 가지 방법을 제안드렸습니다. 첫째, 저축 목표를 설정하여 구체적인 금액과 기간을 정하세요. 둘째, 매달 자동 이체를 설정해 일정 금액이 자동으로 저축 계좌로 들어가도록 하세요. 이렇게 하면 저축을 더 쉽게 늘릴 수 있습니다. 추가적으로 다른 방법이나 궁금한 점이 있으시면 말씀해 주세요!\n"
     ]
    }
   ],
   "source": [
    "from langchain_community.chat_message_histories import ChatMessageHistory\n",
    "\n",
    "chat_history = ChatMessageHistory()\n",
    "\n",
    "chat_history.add_user_message(\"저축을 늘리기 위해 무엇을 할 수 있나요?\")\n",
    "chat_history.add_ai_message(\"저축 목표를 설정하고, 매달 자동 이체로 일정 금액을 저축하세요.\")\n",
    "chat_history.add_user_message(\"방금 뭐라고 하셨나요\")\n",
    "\n",
    "ai_response = chain.invoke({\"messages\" : chat_history.messages})\n",
    "\n",
    "print(ai_response.content)"
   ]
  },
  {
   "cell_type": "code",
   "execution_count": 26,
   "id": "6e5221b3",
   "metadata": {},
   "outputs": [
    {
     "name": "stdout",
     "output_type": "stream",
     "text": [
      "저축을 늘리는 방법에는 여러 가지가 있습니다. 아래 몇 가지 전략을 소개하겠습니다.\n",
      "\n",
      "1. **예산 세우기**: 수입과 지출을 명확히 파악하여 어느 부분에서 절약할 수 있는지 분석하세요. 예산을 세우면 불필요한 지출을 줄이는 데 도움이 됩니다.\n",
      "\n",
      "2. **자동 저축 설정**: 월급이 들어오는 즉시 일정 금액을 저축 계좌로 자동 이체하도록 설정하세요. 이렇게 하면 저축이 우선시되고, 사용 가능한 돈이 줄어들어 자연스럽게 지출을 줄일 수 있습니다.\n",
      "\n",
      "3. **고정 비용 검토**: 정기적으로 나가는 고정 비용(예: 보험료, 통신비 등)을 검토하고, 더 저렴한 옵션으로 변경할 수 있는지를 확인하세요.\n",
      "\n",
      "4. **비상 기금 마련**: 예상치 못한 지출을 대비해 비상 기금을 마련하세요. 이 기금은 필요할 때 빠르게 사용할 수 있도록 별도의 계좌에 보관하는 것이 좋습니다.\n",
      "\n",
      "5. **소비 습관 점검**: 충동 구매를 줄이고, 필요 없는 물건을 사지 않도록 스스로에게 질문해 보세요. '이 물건이 나에게 정말 필요한가?'를 자주 생각해보세요.\n",
      "\n",
      "6. **할인 및 프로모션 활용**: 구매 전에 항상 할인 코드나 프로모션을 검색하여 절약할 수 있는 기회를 활용하세요.\n",
      "\n",
      "7. **부수입 늘리기**: 가능한 경우, 아르바이트나 프리랜스 일을 통해 추가 수입을 만드는 것도 좋은 방법입니다.\n",
      "\n",
      "8. **저축 목표 설정**: 단기 및 장기 저축 목표를 설정하고, 그 목표를 달성하기 위한 계획을 수립하세요. 목표가 있으면 저축 동기를 부여 받을 수 있습니다.\n",
      "\n",
      "이와 같은 방법들을 통해 저축을 체계적으로 늘려나갈 수 있습니다. 각 개인의 상황에 맞는 전략을 선택하여 실천해 보세요!\n",
      "당신이 하신 질문은 \"저축을 늘리기 위해 무엇을 할 수 있나요?\"입니다. 이 질문에 대해 저축을 늘리는 다양한 방법과 전략을 제안드렸습니다. 추가적인 질문이나 더 구체적인 정보가 필요하시면 언제든지 말씀해 주세요!\n"
     ]
    }
   ],
   "source": [
    "from langchain_core.prompts import ChatPromptTemplate\n",
    "from langchain_core.runnables.history import RunnableWithMessageHistory\n",
    "from langchain_community.chat_message_histories import ChatMessageHistory\n",
    "from langchain_openai import ChatOpenAI\n",
    "\n",
    "prompt = ChatPromptTemplate.from_messages([\n",
    "    (\"system\" , \"당신은 금융 상담가입니다. 모든 질문에 최선을 다해 답변하세요.\"),\n",
    "    (\"placeholder\" , \"{chat_history}\"),\n",
    "    (\"human\" , \"{input}\"),\n",
    "]\n",
    ")\n",
    "\n",
    "chat = ChatOpenAI(model=\"gpt-4o-mini\", api_key=api_key)\n",
    "\n",
    "chat_history = ChatMessageHistory()\n",
    "\n",
    "chain = prompt|chat\n",
    "\n",
    "chain_with_message_history = RunnableWithMessageHistory(\n",
    "    chain,\n",
    "    lambda seesion_id : chat_history,\n",
    "    input_messages_key= \"input\",\n",
    "    history_messages_key= \"chat_history\",\n",
    ")\n",
    "\n",
    "result1 = chain_with_message_history.invoke(\n",
    "    {\"input\" : \"저축을 늘리기 위해 무엇을 할 수 있나요?\"},\n",
    "    {\"configurable\" : {\"session_id\" : \"unused\"}},\n",
    ")\n",
    "\n",
    "print(result1.content)\n",
    "\n",
    "result2 = chain_with_message_history.invoke(\n",
    "    {\"input\" : \"내가 무슨 질문을 했나요?\"},\n",
    "    {\"configurable\" : {\"session_id\" : \"unused\"}},\n",
    ")\n",
    "\n",
    "print(result2.content)"
   ]
  },
  {
   "cell_type": "code",
   "execution_count": 24,
   "id": "041da94a",
   "metadata": {},
   "outputs": [
    {
     "data": {
      "text/plain": [
       "AIMessage(content='당신은 5년 내에 집을 사기 위해 어떤 재정 계획을 세워야 하는지에 대해 질문하셨습니다. 이를 위해 체계적이고 세밀한 재정 계획을 세우는 방법에 대한 조언을 드렸습니다. 추가적으로 궁금한 점이 있으시면 언제든지 물어보세요!', additional_kwargs={'refusal': None}, response_metadata={'token_usage': {'completion_tokens': 73, 'prompt_tokens': 754, 'total_tokens': 827, 'completion_tokens_details': {'accepted_prediction_tokens': 0, 'audio_tokens': 0, 'reasoning_tokens': 0, 'rejected_prediction_tokens': 0}, 'prompt_tokens_details': {'audio_tokens': 0, 'cached_tokens': 0}}, 'model_name': 'gpt-4o-mini-2024-07-18', 'system_fingerprint': 'fp_34a54ae93c', 'id': 'chatcmpl-BnogMnZBUTSkkVktr1JDOL0n5RD1r', 'service_tier': 'default', 'finish_reason': 'stop', 'logprobs': None}, id='run--d25378a3-f671-460f-a729-5598c084e26f-0', usage_metadata={'input_tokens': 754, 'output_tokens': 73, 'total_tokens': 827, 'input_token_details': {'audio': 0, 'cache_read': 0}, 'output_token_details': {'audio': 0, 'reasoning': 0}})"
      ]
     },
     "execution_count": 24,
     "metadata": {},
     "output_type": "execute_result"
    }
   ],
   "source": [
    "from langchain_core.messages import trim_messages\n",
    "from langchain_core.runnables import RunnablePassthrough\n",
    "from langchain_core.prompts import ChatPromptTemplate\n",
    "from langchain_core.runnables.history import RunnableWithMessageHistory\n",
    "from langchain_community.chat_message_histories import ChatMessageHistory\n",
    "from operator import itemgetter\n",
    "from langchain_openai import ChatOpenAI\n",
    "\n",
    "prompt = ChatPromptTemplate.from_messages([\n",
    "    (\"system\" , \"당신은 금융 상담가입니다. 모든 질문에 최선을 다해 답변하세요.\"),\n",
    "    (\"placeholder\" , \"{chat_history}\"),\n",
    "    (\"human\" , \"{input}\"),\n",
    "]\n",
    ")\n",
    "\n",
    "chat = ChatOpenAI(model=\"gpt-4o-mini\", api_key=api_key)\n",
    "\n",
    "chat_history = ChatMessageHistory()\n",
    "\n",
    "trimmer = trim_messages(strategy=\"last\", max_tokens=2, token_counter=len)\n",
    "\n",
    "chain_with_trimming = (\n",
    "    RunnablePassthrough.assign(chat_history = itemgetter(\"chat_history\") | trimmer)\n",
    "    | prompt\n",
    "    | chat\n",
    ")\n",
    "\n",
    "chain_with_trimmed_history = RunnableWithMessageHistory(\n",
    "    chain_with_trimming,\n",
    "    lambda seesion_id : chat_history,\n",
    "    input_messages_key=\"input\",\n",
    "    history_messages_key= \"chat_history\",\n",
    ")\n",
    "\n",
    "chain_with_trimmed_history.invoke(\n",
    "    {\"input\" : \"저는 5년 내에 집을 사기 위해 어떤 재정 계획을 세워야 하나요?\"},\n",
    "    { \"configurable\" : {\"session_id\" : \"finance_session_1\"}}\n",
    ")\n",
    "\n",
    "chain_with_trimmed_history.invoke(\n",
    "    {\"input\" : \"내가 방금 뭐라고 했나요\"},\n",
    "    {\"configurable\" : {\"session_id\" : \"finance_seesion_1\"}}\n",
    ")\n",
    "\n",
    "\n"
   ]
  },
  {
   "cell_type": "code",
   "execution_count": null,
   "id": "245cba5f",
   "metadata": {},
   "outputs": [
    {
     "name": "stdout",
     "output_type": "stream",
     "text": [
      "제가 드린 재정적 조언은 주로 저축을 늘리고 재정 관리를 개선하기 위한 여러 전략이었습니다. 다음은 구체적인 조언 요약입니다:\n",
      "\n",
      "1. **예산 세우기**: 월별 수입과 지출을 기록하여 예산을 세우고, 필요 없는 지출을 줄이는 방법을 찾으세요.\n",
      "\n",
      "2. **자동 저축 설정**: 월급의 일정 금액을 저축 계좌로 자동 이체하여 저축이 자연스러운 습관이 되도록 하세요.\n",
      "\n",
      "3. **고정 비용 검토**: 정기적으로 나가는 지출을 점검하고, 더 저렴한 대체 상품이나 서비스를 찾아보세요.\n",
      "\n",
      "4. **비상 기금 마련**: 세 개월치 생활비 정도는 비상용으로 저축해두어 예기치 않은 지출에 대비하세요.\n",
      "\n",
      "5. **소비 습관 점검**: 필요 없는 소비를 줄이고, 꼭 필요한 구매인지 생각해보세요. \n",
      "\n",
      "6. **할인 및 프로모션 활용**: 구매 전 항상 할인 코드를 검색하고, 세일을 활용하여 절약하세요.\n",
      "\n",
      "7. **부수입 늘리기**: 아르바이트, 프리랜서 일 등으로 추가 수입을 얻는 방법을 고려해 보세요.\n",
      "\n",
      "8. **저축 목표 설정**: 실현 가능한 단기 및 장기 저축 목표를 세우고, 목표를 위한 계획을 세우면서 동기를 부여하세요.\n",
      "\n",
      "이 조언들을 통해 재정 관리를 좀 더 효과적으로 할 수 있을 것입니다. 추가적인 질문이나 더 필요한 정보가 있으면 언제든지 말씀해 주세요!\n"
     ]
    }
   ],
   "source": [
    "from langchain_core.prompts import ChatPromptTemplate\n",
    "from langchain_core.runnables.history import RunnableWithMessageHistory\n",
    "from langchain_community.chat_message_histories import ChatMessageHistory\n",
    "from langchain_openai import ChatOpenAI\n",
    "\n",
    "def summarize_messages(chain_input):\n",
    "    stored_messages = chat_history.messages\n",
    "    if( len(stored_messages) == 0 ):\n",
    "        return False\n",
    "\n",
    "    summarization_prompt = ChatPromptTemplate.from_messages(\n",
    "        [\n",
    "            ( \"placeholder\" , \"{chat_history}\" ),\n",
    "            (\"user\" , \"이전 대화를 요약해 주세요. 가능한 한 많은 세부 정보를 포함하십시오\"),  \n",
    "        ]\n",
    "    )\n",
    "\n",
    "    summarization_chain = summarization_prompt | chat\n",
    "    summary_message = summarization_chain.invoke({\"chat_history\":stored_messages})\n",
    "\n",
    "    chat_history.clear()\n",
    "    chat_history.add_message(summary_message)\n",
    "    return True\n",
    "\n",
    "prompt = ChatPromptTemplate.from_messages([\n",
    "    (\"system\" , \"당신은 금융 상담가입니다. 모든 질문에 최선을 다해 답변하세요.\"),\n",
    "    (\"placeholder\" , \"{chat_history}\"),\n",
    "    (\"human\" , \"{input}\"),\n",
    "]\n",
    ")\n",
    "\n",
    "chat = ChatOpenAI(model=\"gpt-4o-mini\", api_key=api_key)\n",
    "\n",
    "chat_history = ChatMessageHistory()\n",
    "\n",
    "chain = prompt|chat\n",
    "\n",
    "chain_with_message_history = RunnableWithMessageHistory(\n",
    "    chain,\n",
    "    lambda seesion_id : chat_history,\n",
    "    input_messages_key= \"input\",\n",
    "    history_messages_key= \"chat_history\",\n",
    ")\n",
    "\n",
    "\n",
    "chain_with_summarization = (\n",
    "    RunnablePassthrough.assign(messages_summarized = summarize_messages)\n",
    "    | chain_with_message_history\n",
    ")\n",
    "\n",
    "result = chain_with_summarization.invoke(\n",
    "    {\"input\" : \"저에게 어떤 재정적 조언을 해주셨나요?\"},\n",
    "    {\"configurable\" : { \"session_id\" : \"unused\" } }\n",
    ")\n",
    "\n",
    "print(result.content)"
   ]
  },
  {
   "cell_type": "code",
   "execution_count": null,
   "id": "e2a49538",
   "metadata": {},
   "outputs": [],
   "source": []
  }
 ],
 "metadata": {
  "kernelspec": {
   "display_name": "LLM",
   "language": "python",
   "name": "python3"
  },
  "language_info": {
   "codemirror_mode": {
    "name": "ipython",
    "version": 3
   },
   "file_extension": ".py",
   "mimetype": "text/x-python",
   "name": "python",
   "nbconvert_exporter": "python",
   "pygments_lexer": "ipython3",
   "version": "3.11.9"
  }
 },
 "nbformat": 4,
 "nbformat_minor": 5
}
