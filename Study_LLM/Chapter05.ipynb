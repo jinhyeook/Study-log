{
 "cells": [
  {
   "cell_type": "code",
   "execution_count": null,
   "id": "c53b08a5",
   "metadata": {},
   "outputs": [],
   "source": [
    "import os\n",
    "from dotenv import load_dotenv\n",
    "\n",
    "load_dotenv()\n",
    "api_key = os.getenv(\"open_api_key\")"
   ]
  },
  {
   "cell_type": "markdown",
   "id": "7c0c9ca3",
   "metadata": {},
   "source": [
    "## 그래프 DB"
   ]
  },
  {
   "cell_type": "markdown",
   "id": "fc864d52",
   "metadata": {},
   "source": [
    "### 환경 세팅"
   ]
  },
  {
   "cell_type": "code",
   "execution_count": 2,
   "id": "237660f9",
   "metadata": {},
   "outputs": [],
   "source": [
    "from pathlib import Path\n",
    "working_dir = Path('working_directory')\n",
    "working_dir.mkdir(parents=True, exist_ok=True)"
   ]
  },
  {
   "cell_type": "code",
   "execution_count": null,
   "id": "bdd71d11",
   "metadata": {},
   "outputs": [],
   "source": [
    "!graphrag init --root ./working_directory"
   ]
  },
  {
   "cell_type": "markdown",
   "id": "86069864",
   "metadata": {},
   "source": [
    "### 그래프 DB 구축"
   ]
  },
  {
   "cell_type": "code",
   "execution_count": 4,
   "id": "a8f98240",
   "metadata": {},
   "outputs": [],
   "source": [
    "input_dir = working_dir / 'input'\n",
    "input_dir.mkdir(parents=True, exist_ok=True)"
   ]
  },
  {
   "cell_type": "code",
   "execution_count": null,
   "id": "69e3bd4f",
   "metadata": {},
   "outputs": [],
   "source": [
    "import shutil\n",
    "import os\n",
    "source_path = r\"data\\How_to_invest_money.txt\"\n",
    "destination_path = r\"working_directory\\input\\How_to_invest_money.txt\"\n",
    "\n",
    "shutil.copy(source_path, destination_path)\n",
    "\n",
    "if os.path.exists(destination_path):\n",
    "    print(f\"파일이 {destination_path}에 성공적으로 복사됨\")\n",
    "else:\n",
    "    print(\"복사 실패\")"
   ]
  },
  {
   "cell_type": "code",
   "execution_count": null,
   "id": "158293de",
   "metadata": {},
   "outputs": [],
   "source": [
    "!graphrag index --root ./working_directory"
   ]
  },
  {
   "cell_type": "code",
   "execution_count": null,
   "id": "f7b185c0",
   "metadata": {},
   "outputs": [],
   "source": [
    "!graphrag query --query \"돈을 투자하는 방법은?\" --method local --root ./working_directory"
   ]
  },
  {
   "cell_type": "markdown",
   "id": "3d630afb",
   "metadata": {},
   "source": [
    "## Graph RAG 질의"
   ]
  },
  {
   "cell_type": "code",
   "execution_count": 7,
   "id": "5df48e35",
   "metadata": {},
   "outputs": [
    {
     "name": "stdout",
     "output_type": "stream",
     "text": [
      "C:\\Users\\kimji\\Desktop\\ProgramFile\\Study\\Study_LLM\\working_directory\n"
     ]
    }
   ],
   "source": [
    "import os\n",
    "os.chdir(r'C:\\Users\\kimji\\Desktop\\ProgramFile\\Study\\Study_LLM\\working_directory')\n",
    "print(os.getcwd()) "
   ]
  },
  {
   "cell_type": "code",
   "execution_count": 9,
   "id": "e5debf6b",
   "metadata": {},
   "outputs": [
    {
     "data": {
      "text/html": [
       "<div>\n",
       "<style scoped>\n",
       "    .dataframe tbody tr th:only-of-type {\n",
       "        vertical-align: middle;\n",
       "    }\n",
       "\n",
       "    .dataframe tbody tr th {\n",
       "        vertical-align: top;\n",
       "    }\n",
       "\n",
       "    .dataframe thead th {\n",
       "        text-align: right;\n",
       "    }\n",
       "</style>\n",
       "<table border=\"1\" class=\"dataframe\">\n",
       "  <thead>\n",
       "    <tr style=\"text-align: right;\">\n",
       "      <th></th>\n",
       "      <th>id</th>\n",
       "      <th>human_readable_id</th>\n",
       "      <th>title</th>\n",
       "      <th>type</th>\n",
       "      <th>description</th>\n",
       "      <th>text_unit_ids</th>\n",
       "      <th>frequency</th>\n",
       "      <th>degree</th>\n",
       "      <th>x</th>\n",
       "      <th>y</th>\n",
       "    </tr>\n",
       "  </thead>\n",
       "  <tbody>\n",
       "    <tr>\n",
       "      <th>0</th>\n",
       "      <td>3e1bb492-df06-4ac2-83aa-ad18de50f007</td>\n",
       "      <td>0</td>\n",
       "      <td>PROJECT GUTENBERG</td>\n",
       "      <td>ORGANIZATION</td>\n",
       "      <td>Project Gutenberg is a pioneering digital libr...</td>\n",
       "      <td>[7a17fa7360ff1646ca4683384ceb616e20e1ed70c35f4...</td>\n",
       "      <td>3</td>\n",
       "      <td>9</td>\n",
       "      <td>0</td>\n",
       "      <td>0</td>\n",
       "    </tr>\n",
       "    <tr>\n",
       "      <th>1</th>\n",
       "      <td>bc3b004c-6409-4e4e-9994-5a4022467528</td>\n",
       "      <td>1</td>\n",
       "      <td>UNITED STATES</td>\n",
       "      <td>GEO</td>\n",
       "      <td>The United States is prominently featured in v...</td>\n",
       "      <td>[7a17fa7360ff1646ca4683384ceb616e20e1ed70c35f4...</td>\n",
       "      <td>4</td>\n",
       "      <td>3</td>\n",
       "      <td>0</td>\n",
       "      <td>0</td>\n",
       "    </tr>\n",
       "    <tr>\n",
       "      <th>2</th>\n",
       "      <td>6d70b351-8195-4868-8db0-83eb85aecac5</td>\n",
       "      <td>2</td>\n",
       "      <td>GEORGE GARR HENRY</td>\n",
       "      <td>PERSON</td>\n",
       "      <td>Author of the eBook 'How to Invest Money', Vic...</td>\n",
       "      <td>[7a17fa7360ff1646ca4683384ceb616e20e1ed70c35f4...</td>\n",
       "      <td>1</td>\n",
       "      <td>2</td>\n",
       "      <td>0</td>\n",
       "      <td>0</td>\n",
       "    </tr>\n",
       "    <tr>\n",
       "      <th>3</th>\n",
       "      <td>7caac12b-56c7-4cf2-859a-33632354a261</td>\n",
       "      <td>3</td>\n",
       "      <td>GUARANTY TRUST COMPANY</td>\n",
       "      <td>ORGANIZATION</td>\n",
       "      <td>Financial institution associated with George G...</td>\n",
       "      <td>[7a17fa7360ff1646ca4683384ceb616e20e1ed70c35f4...</td>\n",
       "      <td>1</td>\n",
       "      <td>1</td>\n",
       "      <td>0</td>\n",
       "      <td>0</td>\n",
       "    </tr>\n",
       "    <tr>\n",
       "      <th>4</th>\n",
       "      <td>25220760-e44f-41b0-84cf-9801ab62d36a</td>\n",
       "      <td>4</td>\n",
       "      <td>JULIA NEUFELD</td>\n",
       "      <td>PERSON</td>\n",
       "      <td>Individual credited with producing the eBook '...</td>\n",
       "      <td>[7a17fa7360ff1646ca4683384ceb616e20e1ed70c35f4...</td>\n",
       "      <td>1</td>\n",
       "      <td>1</td>\n",
       "      <td>0</td>\n",
       "      <td>0</td>\n",
       "    </tr>\n",
       "  </tbody>\n",
       "</table>\n",
       "</div>"
      ],
      "text/plain": [
       "                                     id  human_readable_id  \\\n",
       "0  3e1bb492-df06-4ac2-83aa-ad18de50f007                  0   \n",
       "1  bc3b004c-6409-4e4e-9994-5a4022467528                  1   \n",
       "2  6d70b351-8195-4868-8db0-83eb85aecac5                  2   \n",
       "3  7caac12b-56c7-4cf2-859a-33632354a261                  3   \n",
       "4  25220760-e44f-41b0-84cf-9801ab62d36a                  4   \n",
       "\n",
       "                    title          type  \\\n",
       "0       PROJECT GUTENBERG  ORGANIZATION   \n",
       "1           UNITED STATES           GEO   \n",
       "2       GEORGE GARR HENRY        PERSON   \n",
       "3  GUARANTY TRUST COMPANY  ORGANIZATION   \n",
       "4           JULIA NEUFELD        PERSON   \n",
       "\n",
       "                                         description  \\\n",
       "0  Project Gutenberg is a pioneering digital libr...   \n",
       "1  The United States is prominently featured in v...   \n",
       "2  Author of the eBook 'How to Invest Money', Vic...   \n",
       "3  Financial institution associated with George G...   \n",
       "4  Individual credited with producing the eBook '...   \n",
       "\n",
       "                                       text_unit_ids  frequency  degree  x  y  \n",
       "0  [7a17fa7360ff1646ca4683384ceb616e20e1ed70c35f4...          3       9  0  0  \n",
       "1  [7a17fa7360ff1646ca4683384ceb616e20e1ed70c35f4...          4       3  0  0  \n",
       "2  [7a17fa7360ff1646ca4683384ceb616e20e1ed70c35f4...          1       2  0  0  \n",
       "3  [7a17fa7360ff1646ca4683384ceb616e20e1ed70c35f4...          1       1  0  0  \n",
       "4  [7a17fa7360ff1646ca4683384ceb616e20e1ed70c35f4...          1       1  0  0  "
      ]
     },
     "execution_count": 9,
     "metadata": {},
     "output_type": "execute_result"
    }
   ],
   "source": [
    "import pandas as pd\n",
    "pd.read_parquet(\"output/entities.parquet\").head()\n"
   ]
  },
  {
   "cell_type": "code",
   "execution_count": 10,
   "id": "439be0ed",
   "metadata": {},
   "outputs": [
    {
     "data": {
      "text/html": [
       "<div>\n",
       "<style scoped>\n",
       "    .dataframe tbody tr th:only-of-type {\n",
       "        vertical-align: middle;\n",
       "    }\n",
       "\n",
       "    .dataframe tbody tr th {\n",
       "        vertical-align: top;\n",
       "    }\n",
       "\n",
       "    .dataframe thead th {\n",
       "        text-align: right;\n",
       "    }\n",
       "</style>\n",
       "<table border=\"1\" class=\"dataframe\">\n",
       "  <thead>\n",
       "    <tr style=\"text-align: right;\">\n",
       "      <th></th>\n",
       "      <th>id</th>\n",
       "      <th>human_readable_id</th>\n",
       "      <th>community</th>\n",
       "      <th>level</th>\n",
       "      <th>parent</th>\n",
       "      <th>children</th>\n",
       "      <th>title</th>\n",
       "      <th>entity_ids</th>\n",
       "      <th>relationship_ids</th>\n",
       "      <th>text_unit_ids</th>\n",
       "      <th>period</th>\n",
       "      <th>size</th>\n",
       "    </tr>\n",
       "  </thead>\n",
       "  <tbody>\n",
       "    <tr>\n",
       "      <th>0</th>\n",
       "      <td>4636e29d-a7ce-46a5-ad9b-f57da47343c5</td>\n",
       "      <td>0</td>\n",
       "      <td>0</td>\n",
       "      <td>0</td>\n",
       "      <td>-1</td>\n",
       "      <td>[]</td>\n",
       "      <td>Community 0</td>\n",
       "      <td>[6d70b351-8195-4868-8db0-83eb85aecac5, 7caac12...</td>\n",
       "      <td>[c1a92ce5-241c-4231-8846-aba483e10114, d4138a7...</td>\n",
       "      <td>[7a17fa7360ff1646ca4683384ceb616e20e1ed70c35f4...</td>\n",
       "      <td>2025-07-22</td>\n",
       "      <td>3</td>\n",
       "    </tr>\n",
       "    <tr>\n",
       "      <th>1</th>\n",
       "      <td>0c739455-b77e-45a5-8930-c115084b9413</td>\n",
       "      <td>1</td>\n",
       "      <td>1</td>\n",
       "      <td>0</td>\n",
       "      <td>-1</td>\n",
       "      <td>[]</td>\n",
       "      <td>Community 1</td>\n",
       "      <td>[3e1bb492-df06-4ac2-83aa-ad18de50f007, 08d7c49...</td>\n",
       "      <td>[183ff3b8-ded5-4618-9682-0526f328731b, 368b284...</td>\n",
       "      <td>[669db14d2067fedadc9d38968ded78f06dca694348465...</td>\n",
       "      <td>2025-07-22</td>\n",
       "      <td>7</td>\n",
       "    </tr>\n",
       "    <tr>\n",
       "      <th>2</th>\n",
       "      <td>e32d2c3d-2a61-4938-b9e6-b275eb1a50a1</td>\n",
       "      <td>2</td>\n",
       "      <td>2</td>\n",
       "      <td>0</td>\n",
       "      <td>-1</td>\n",
       "      <td>[]</td>\n",
       "      <td>Community 2</td>\n",
       "      <td>[73f22cb2-0cff-448d-bcbf-205dc0f18240, 97ae2b6...</td>\n",
       "      <td>[304ad92f-4c76-4a5f-989b-487d94bf06b6, 4fb361d...</td>\n",
       "      <td>[34c815fec7550459d4cd710d8d4650a94a9b25f1cc44e...</td>\n",
       "      <td>2025-07-22</td>\n",
       "      <td>6</td>\n",
       "    </tr>\n",
       "  </tbody>\n",
       "</table>\n",
       "</div>"
      ],
      "text/plain": [
       "                                     id  human_readable_id  community  level  \\\n",
       "0  4636e29d-a7ce-46a5-ad9b-f57da47343c5                  0          0      0   \n",
       "1  0c739455-b77e-45a5-8930-c115084b9413                  1          1      0   \n",
       "2  e32d2c3d-2a61-4938-b9e6-b275eb1a50a1                  2          2      0   \n",
       "\n",
       "   parent children        title  \\\n",
       "0      -1       []  Community 0   \n",
       "1      -1       []  Community 1   \n",
       "2      -1       []  Community 2   \n",
       "\n",
       "                                          entity_ids  \\\n",
       "0  [6d70b351-8195-4868-8db0-83eb85aecac5, 7caac12...   \n",
       "1  [3e1bb492-df06-4ac2-83aa-ad18de50f007, 08d7c49...   \n",
       "2  [73f22cb2-0cff-448d-bcbf-205dc0f18240, 97ae2b6...   \n",
       "\n",
       "                                    relationship_ids  \\\n",
       "0  [c1a92ce5-241c-4231-8846-aba483e10114, d4138a7...   \n",
       "1  [183ff3b8-ded5-4618-9682-0526f328731b, 368b284...   \n",
       "2  [304ad92f-4c76-4a5f-989b-487d94bf06b6, 4fb361d...   \n",
       "\n",
       "                                       text_unit_ids      period  size  \n",
       "0  [7a17fa7360ff1646ca4683384ceb616e20e1ed70c35f4...  2025-07-22     3  \n",
       "1  [669db14d2067fedadc9d38968ded78f06dca694348465...  2025-07-22     7  \n",
       "2  [34c815fec7550459d4cd710d8d4650a94a9b25f1cc44e...  2025-07-22     6  "
      ]
     },
     "execution_count": 10,
     "metadata": {},
     "output_type": "execute_result"
    }
   ],
   "source": [
    "import pandas as pd\n",
    "pd.read_parquet(\"output/communities.parquet\").head()"
   ]
  },
  {
   "cell_type": "code",
   "execution_count": null,
   "id": "170982cf",
   "metadata": {},
   "outputs": [
    {
     "name": "stdout",
     "output_type": "stream",
     "text": [
      "2025-07-25 21:44:42.0451 - INFO - graphrag.storage.file_pipeline_storage - Creating file storage at C:\\Users\\kimji\\Desktop\\ProgramFile\\Study\\Study_LLM\\working_directory\\output\n",
      "2025-07-25 21:44:42.0452 - INFO - graphrag.utils.storage - reading table from storage: entities.parquet\n",
      "2025-07-25 21:44:42.0477 - INFO - graphrag.utils.storage - reading table from storage: communities.parquet\n",
      "2025-07-25 21:44:42.0495 - INFO - graphrag.utils.storage - reading table from storage: community_reports.parquet\n",
      "2025-07-25 21:44:45.0910 - WARNING - graphrag.query.structured_search.global_search.search - Warning: All map responses have score 0 (i.e., no relevant information found from the dataset), returning a canned 'I do not know' answer. You can try enabling `allow_general_knowledge` to encourage the LLM to incorporate relevant general knowledge, at the risk of increasing hallucinations.\n",
      "2025-07-25 21:44:45.0917 - INFO - graphrag.cli.query - Global Search Response:\n",
      "I am sorry but I am unable to answer this question given the provided data.\n"
     ]
    }
   ],
   "source": [
    "!graphrag query\\\n",
    "--root ./ \\\n",
    "--method global \\\n",
    "--query \"부동산 담보 대출(real-estate mortgages)의 위험 요소는 무엇인가?\"\n"
   ]
  },
  {
   "cell_type": "code",
   "execution_count": null,
   "id": "6102e946",
   "metadata": {},
   "outputs": [
    {
     "name": "stdout",
     "output_type": "stream",
     "text": [
      "2025-07-25 21:45:00.0970 - INFO - graphrag.storage.file_pipeline_storage - Creating file storage at C:\\Users\\kimji\\Desktop\\ProgramFile\\Study\\Study_LLM\\working_directory\\output\n",
      "2025-07-25 21:45:00.0972 - INFO - graphrag.utils.storage - reading table from storage: communities.parquet\n",
      "2025-07-25 21:45:00.0997 - INFO - graphrag.utils.storage - reading table from storage: community_reports.parquet\n",
      "2025-07-25 21:45:01.0019 - INFO - graphrag.utils.storage - reading table from storage: text_units.parquet\n",
      "2025-07-25 21:45:01.0039 - INFO - graphrag.utils.storage - reading table from storage: relationships.parquet\n",
      "2025-07-25 21:45:01.0058 - INFO - graphrag.utils.storage - reading table from storage: entities.parquet\n",
      "2025-07-25 21:45:33.0470 - INFO - graphrag.cli.query - Local Search Response:\n",
      "부동산 담보 대출은 개인이나 기업이 부동산을 구매하거나 개발하기 위해 금융 기관으로부터 자금을 빌리는 과정에서 발생합니다. 이러한 대출은 부동산 자체를 담보로 사용하여 대출을 보장합니다. 부동산 담보 대출은 많은 이점을 제공하지만, 여러 위험 요소도 내포하고 있습니다. 아래에서는 부동산 담보 대출의 주요 위험 요소들을 살펴보겠습니다.\n",
      "\n",
      "### 시장 가치 변동성\n",
      "\n",
      "부동산 시장은 경제 상황, 이자율 변화, 지역 개발 계획 및 기타 외부 요인에 따라 크게 영향을 받습니다. 이러한 변화는 부동산의 가치에 직접적인 영향을 미치며, 대출 기간 동안 부동산 가치가 대출 금액보다 하락할 경우 금융 기관과 대출자 모두에게 손실을 초래할 수 있습니다.\n",
      "\n",
      "### 이자율 위험\n",
      "\n",
      "변동 이자율 대출의 경우, 이자율의 상승은 대출자의 월별 상환 금액을 증가시킬 수 있습니다. 이는 대출자의 상환 능력에 부담을 줄 수 있으며, 궁극적으로는 대출 기관에게 손실을 초래할 수 있습니다.\n",
      "\n",
      "### 임대 수익 불안정성\n",
      "\n",
      "투자 목적으로 부동산을 구매하는 경우, 임대 수익은 대출 상환의 주요 수단 중 하나입니다. 그러나 임대 시장의 변동성으로 인해 예상치 못한 공실률 증가나 임대료 하락이 발생할 수 있으며, 이는 대출 상환 능력에 영향을 미칠 수 있습니다.\n",
      "\n",
      "### 관리 및 유지 보수 비용\n",
      "\n",
      "부동산의 가치를 유지하고 임대 가능성을 높이기 위해서는 지속적인 관리와 유지 보수가 필요합니다. 이러한 비용은 예상보다 높을 수 있으며, 특히 오래된 건물이나 관리가 소홀한 부동산의 경우 더욱 그렇습니다. 이는 대출자의 재정적 부담을 증가시키고, 대출 상환 능력에 부정적인 영향을 미칠 수 있습니다.\n",
      "\n",
      "### 법적 및 규제 위험\n",
      "\n",
      "부동산 관련 법률 및 규제는 지역에 따라 크게 다를 수 있으며, 이는 대출 과정과 부동산의 사용에 직접적인 영향을 미칩니다. 예를 들어, 환경 보호 규제로 인해 특정 개발 계획이 제한될 수 있으며, 이는 부동산 가치에 영향을 미칠 수 있습니다.\n",
      "\n",
      "부동산 담보 대출은 이러한 위험 요소들을 면밀히 고려하여 신중하게 접근해야 합니다. 대출 기관은 대출 승인 과정에서 이러한 위험 요소들을 평가하고, 대출자는 자신의 재정 상황과 부동산 시장의 동향을 주의 깊게 분석해야 합니다.\n"
     ]
    }
   ],
   "source": [
    "!graphrag query\\\n",
    "--root ./ \\\n",
    "--method local \\\n",
    "--query \"부동산 담보 대출(real-estate mortgages)의 위험 요소는 무엇인가?\""
   ]
  },
  {
   "cell_type": "code",
   "execution_count": 14,
   "id": "6f8f9709",
   "metadata": {},
   "outputs": [
    {
     "name": "stdout",
     "output_type": "stream",
     "text": [
      "2025-07-25 21:48:05.0651 - INFO - graphrag.storage.file_pipeline_storage - Creating file storage at C:\\Users\\kimji\\Desktop\\ProgramFile\\Study\\Study_LLM\\working_directory\\output\n",
      "2025-07-25 21:48:05.0653 - INFO - graphrag.utils.storage - reading table from storage: entities.parquet\n",
      "2025-07-25 21:48:05.0678 - INFO - graphrag.utils.storage - reading table from storage: communities.parquet\n",
      "2025-07-25 21:48:05.0696 - INFO - graphrag.utils.storage - reading table from storage: community_reports.parquet\n",
      "2025-07-25 21:48:09.0745 - WARNING - graphrag.query.structured_search.global_search.search - Warning: All map responses have score 0 (i.e., no relevant information found from the dataset), returning a canned 'I do not know' answer. You can try enabling `allow_general_knowledge` to encourage the LLM to incorporate relevant general knowledge, at the risk of increasing hallucinations.\n",
      "2025-07-25 21:48:09.0755 - INFO - graphrag.cli.query - Global Search Response:\n",
      "I am sorry but I am unable to answer this question given the provided data.\n"
     ]
    }
   ],
   "source": [
    "!graphrag query\\\n",
    "--root ./ \\\n",
    "--method global \\\n",
    "--query \"산업채권 평가  시 순유동자산(net quick assets)을 어떻게 분석해야 하나요\"\n"
   ]
  }
 ],
 "metadata": {
  "kernelspec": {
   "display_name": "LLM2 (3.11.0)",
   "language": "python",
   "name": "python3"
  },
  "language_info": {
   "codemirror_mode": {
    "name": "ipython",
    "version": 3
   },
   "file_extension": ".py",
   "mimetype": "text/x-python",
   "name": "python",
   "nbconvert_exporter": "python",
   "pygments_lexer": "ipython3",
   "version": "3.11.0"
  }
 },
 "nbformat": 4,
 "nbformat_minor": 5
}
