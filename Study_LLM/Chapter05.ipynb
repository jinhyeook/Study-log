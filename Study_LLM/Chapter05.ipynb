{
 "cells": [
  {
   "cell_type": "code",
   "execution_count": null,
   "id": "c53b08a5",
   "metadata": {},
   "outputs": [],
   "source": [
    "import os\n",
    "from dotenv import load_dotenv\n",
    "\n",
    "load_dotenv()\n",
    "api_key = os.getenv(\"open_api_key\")"
   ]
  },
  {
   "cell_type": "markdown",
   "id": "7c0c9ca3",
   "metadata": {},
   "source": [
    "## 그래프 DB"
   ]
  },
  {
   "cell_type": "markdown",
   "id": "fc864d52",
   "metadata": {},
   "source": [
    "### 환경 세팅"
   ]
  },
  {
   "cell_type": "code",
   "execution_count": 2,
   "id": "237660f9",
   "metadata": {},
   "outputs": [],
   "source": [
    "from pathlib import Path\n",
    "working_dir = Path('working_directory')\n",
    "working_dir.mkdir(parents=True, exist_ok=True)"
   ]
  },
  {
   "cell_type": "code",
   "execution_count": null,
   "id": "bdd71d11",
   "metadata": {},
   "outputs": [],
   "source": [
    "!graphrag init --root ./working_directory"
   ]
  },
  {
   "cell_type": "code",
   "execution_count": 4,
   "id": "a8f98240",
   "metadata": {},
   "outputs": [],
   "source": [
    "input_dir = working_dir / 'input'\n",
    "input_dir.mkdir(parents=True, exist_ok=True)"
   ]
  },
  {
   "cell_type": "code",
   "execution_count": null,
   "id": "69e3bd4f",
   "metadata": {},
   "outputs": [],
   "source": [
    "import shutil\n",
    "import os\n",
    "source_path = r\"data\\How_to_invest_money.txt\"\n",
    "destination_path = r\"working_directory\\input\\How_to_invest_money.txt\"\n",
    "\n",
    "shutil.copy(source_path, destination_path)\n",
    "\n",
    "if os.path.exists(destination_path):\n",
    "    print(f\"파일이 {destination_path}에 성공적으로 복사됨\")\n",
    "else:\n",
    "    print(\"복사 실패\")"
   ]
  },
  {
   "cell_type": "markdown",
   "id": "86069864",
   "metadata": {},
   "source": [
    "### 그래프 DB 구축"
   ]
  },
  {
   "cell_type": "code",
   "execution_count": null,
   "id": "158293de",
   "metadata": {},
   "outputs": [],
   "source": [
    "!graphrag index --root ./working_directory"
   ]
  },
  {
   "cell_type": "code",
   "execution_count": null,
   "id": "f7b185c0",
   "metadata": {},
   "outputs": [],
   "source": [
    "!graphrag query --query \"돈을 투자하는 방법은?\" --method local --root ./working_directory\n",
    "\n"
   ]
  }
 ],
 "metadata": {
  "kernelspec": {
   "display_name": "LLM2",
   "language": "python",
   "name": "python3"
  },
  "language_info": {
   "codemirror_mode": {
    "name": "ipython",
    "version": 3
   },
   "file_extension": ".py",
   "mimetype": "text/x-python",
   "name": "python",
   "nbconvert_exporter": "python",
   "pygments_lexer": "ipython3",
   "version": "3.11.0"
  }
 },
 "nbformat": 4,
 "nbformat_minor": 5
}
