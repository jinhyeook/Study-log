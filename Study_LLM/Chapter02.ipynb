{
 "cells": [
  {
   "cell_type": "markdown",
   "id": "436eb8f7",
   "metadata": {},
   "source": [
    "## CODE"
   ]
  },
  {
   "cell_type": "code",
   "execution_count": 8,
   "id": "b629d6a0",
   "metadata": {},
   "outputs": [],
   "source": [
    "import os\n",
    "from dotenv import load_dotenv\n",
    "\n",
    "load_dotenv()\n",
    "api_key = os.getenv(\"open_api_key\")"
   ]
  },
  {
   "cell_type": "markdown",
   "id": "2d8299cf",
   "metadata": {},
   "source": [
    "### 검색 증강 생성 개요"
   ]
  },
  {
   "cell_type": "code",
   "execution_count": null,
   "id": "22a3a0c6",
   "metadata": {},
   "outputs": [],
   "source": [
    "# 코사인 유사도\n",
    "import numpy as np\n",
    "from numpy import dot\n",
    "from numpy.linalg import norm\n",
    "\n",
    "def cos_sim(A,B):\n",
    "    return dot(A,B)/(norm(A)*norm(B))\n",
    "\n",
    "vec1 = np.array([0,1,1,1])\n",
    "vec2 = np.array([1,0,2,1])\n",
    "vec3 = np.array([2,0,4,2])\n",
    "\n",
    "print(f\"벡터1과 벡터2의 유사도 : {cos_sim(vec1,vec2)}\")\n",
    "print(f\"벡터2과 벡터3의 유사도 : {cos_sim(vec2,vec3)}\")"
   ]
  },
  {
   "cell_type": "code",
   "execution_count": null,
   "id": "4af255be",
   "metadata": {},
   "outputs": [],
   "source": [
    "# OpenAI 임베딩 모델\n",
    "import os\n",
    "import numpy as np\n",
    "from numpy import dot\n",
    "from numpy.linalg import norm\n",
    "import pandas as pd\n",
    "\n",
    "from langchain.embeddings import OpenAIEmbeddings\n",
    "from langchain_openai import OpenAI\n",
    "\n",
    "embeddings = OpenAIEmbeddings(model=\"text-embedding-ada-002\", api_key=api_key)\n",
    "query_result = embeddings.embed_query('저는 배가 고파요')\n",
    "print(query_result)"
   ]
  },
  {
   "cell_type": "code",
   "execution_count": null,
   "id": "b36ef21b",
   "metadata": {},
   "outputs": [],
   "source": [
    "data = [\n",
    "    '주식 시장이 급등했어요',\n",
    "    '시장 물가가 올랐어요',\n",
    "    '전통 시장에는 다양한 물품들을 팔아요',\n",
    "    '저는 빠른 비트를 좋아해요',\n",
    "    '최근 비트코인 가격이 많이 반등했어요',\n",
    "]\n",
    "\n",
    "df = pd.DataFrame(data,columns=['text'])\n",
    "# print(df)\n",
    "\n",
    "# 텍스트 -> 임베딩 벡터 변환 함수\n",
    "def get_embedding(text):\n",
    "    return embeddings.embed_query(text)\n",
    "\n",
    "df['embeddings'] = df.apply(\n",
    "    lambda row : get_embedding(row.text),\n",
    "    axis=1\n",
    ")\n",
    "# print(df)\n",
    "\n",
    "# 코사인 유사도 계산 함수\n",
    "def cos_sim(A,B):\n",
    "    return dot(A,B)/(norm(A)*norm(B))\n",
    "\n",
    "\n",
    "def return_answer_candidate(df,query):\n",
    "    query_embedding = get_embedding(query)\n",
    "\n",
    "    df['similarity'] = df.embeddings.apply(lambda x : cos_sim(np.array(x), np.array(query_embedding)))\n",
    "\n",
    "    top_three_doc = df.sort_values(\"similarity\", ascending=False).head(3)\n",
    "\n",
    "    return top_three_doc\n",
    "\n",
    "sim_result = return_answer_candidate(df,'과일 값이 비싸다')\n",
    "print(sim_result)\n"
   ]
  },
  {
   "cell_type": "code",
   "execution_count": 2,
   "id": "5bf7647a",
   "metadata": {},
   "outputs": [
    {
     "name": "stderr",
     "output_type": "stream",
     "text": [
      "C:\\Users\\kimji\\AppData\\Local\\Temp\\ipykernel_39312\\2227364096.py:30: LangChainDeprecationWarning: The class `HuggingFaceBgeEmbeddings` was deprecated in LangChain 0.2.2 and will be removed in 1.0. An updated version of the class exists in the :class:`~langchain-huggingface package and should be used instead. To use it run `pip install -U :class:`~langchain-huggingface` and import as `from :class:`~langchain_huggingface import HuggingFaceEmbeddings``.\n",
      "  embeddings = HuggingFaceBgeEmbeddings(model_name = 'BAAI/bge-m3')\n"
     ]
    },
    {
     "name": "stdout",
     "output_type": "stream",
     "text": [
      "                   text                                         embeddings  \\\n",
      "1           시장 물가가 올랐어요  [0.013636118732392788, 0.05754704773426056, -0...   \n",
      "4  최근 비트코인 가격이 많이 반등했어요  [0.01619962975382805, 0.036948565393686295, -0...   \n",
      "2  전통 시장에는 다양한 물품들을 팔아요  [0.01703060232102871, 0.04437505826354027, -0....   \n",
      "\n",
      "   similarity  \n",
      "1    0.702341  \n",
      "4    0.673596  \n",
      "2    0.667758  \n"
     ]
    }
   ],
   "source": [
    "# 허깅페이스 제공 임베딩 모델\n",
    "#from langchain.embeddings import HuggingFaceEmbeddings\n",
    "from langchain.embeddings import HuggingFaceBgeEmbeddings\n",
    "from sentence_transformers import SentenceTransformer\n",
    "import numpy as np\n",
    "from numpy import dot\n",
    "from numpy.linalg import norm\n",
    "import pandas as pd\n",
    "\n",
    "\n",
    "# 텍스트 -> 임베딩 벡터 변환 함수\n",
    "def get_embedding(text):\n",
    "    return embeddings.embed_query(text)\n",
    "\n",
    "# 코사인 유사도 계산 함수\n",
    "def cos_sim(A,B):\n",
    "    return dot(A,B)/(norm(A)*norm(B))\n",
    "\n",
    "\n",
    "def return_answer_candidate(df,query):\n",
    "    query_embedding = get_embedding(query)\n",
    "\n",
    "    df['similarity'] = df.embeddings.apply(lambda x : cos_sim(np.array(x), np.array(query_embedding)))\n",
    "\n",
    "    top_three_doc = df.sort_values(\"similarity\", ascending=False).head(3)\n",
    "\n",
    "    return top_three_doc\n",
    "\n",
    "embeddings = SentenceTransformer('BAAI/bge-m3')\n",
    "embeddings = HuggingFaceBgeEmbeddings(model_name = 'BAAI/bge-m3')\n",
    "# embeddings = HuggingFaceEmbeddings(model_name = 'BAAI/bge-m3')\n",
    "\n",
    "data = [\n",
    "    '주식 시장이 급등했어요',\n",
    "    '시장 물가가 올랐어요',\n",
    "    '전통 시장에는 다양한 물품들을 팔아요',\n",
    "    '저는 빠른 비트를 좋아해요',\n",
    "    '최근 비트코인 가격이 많이 반등했어요',\n",
    "]\n",
    "\n",
    "hugging_df = pd.DataFrame(data, columns=['text'])\n",
    "hugging_df['embeddings'] = hugging_df['text'].apply(get_embedding)\n",
    "# print(df)\n",
    "\n",
    "\n",
    "sim_result = return_answer_candidate(hugging_df,'과일 값이 비싸다')\n",
    "print(sim_result)\n"
   ]
  },
  {
   "cell_type": "markdown",
   "id": "f7aac047",
   "metadata": {},
   "source": [
    "### 문서로더"
   ]
  },
  {
   "cell_type": "code",
   "execution_count": null,
   "id": "beb6c078",
   "metadata": {},
   "outputs": [],
   "source": [
    "import os\n",
    "os.environ[\"USER_AGENT\"] = \"MyApp/1.0 (Custom Langchain Application)\"\n",
    "\n",
    "from langchain_community.document_loaders import WebBaseLoader\n",
    "\n",
    "loader = WebBaseLoader(\"https://docs.smith.langchain.com/\")\n",
    "\n",
    "loader_multiple_pages = WebBaseLoader(\n",
    "    [\"https://python.langchain.com/docs/introduction/\",\n",
    "     \"https://langchain-ai.github.io/langgraph\"]\n",
    ")\n",
    "\n",
    "single_doc = loader.load()\n",
    "print(single_doc[0].metadata)\n",
    "\n",
    "docs = loader_multiple_pages.load()\n",
    "print(docs[0].page_content)"
   ]
  },
  {
   "cell_type": "markdown",
   "id": "de53188e",
   "metadata": {},
   "source": [
    "실습 pdf 파일 다운 : https://www.kbfg.com/kbresearch/report/reportView.do?reportId=2000450"
   ]
  },
  {
   "cell_type": "code",
   "execution_count": null,
   "id": "d3b38525",
   "metadata": {},
   "outputs": [],
   "source": [
    "from langchain_community.document_loaders import PyPDFLoader\n",
    "from langchain_community.document_loaders import PyMuPDFLoader\n",
    "from langchain_community.document_loaders import PDFPlumberLoader\n",
    "\n",
    "loader = PyPDFLoader(r\"pdf주소\")\n",
    "pages = loader.load_and_split()\n",
    "print(f\"청크의 수 : {len(pages)}\")\n",
    "print(pages[10])"
   ]
  },
  {
   "cell_type": "code",
   "execution_count": null,
   "id": "74054c01",
   "metadata": {},
   "outputs": [],
   "source": [
    "from langchain_community.document_loaders import PyMuPDFLoader\n",
    "\n",
    "loader = PyMuPDFLoader(r\"pdf주소\")\n",
    "pages = loader.load_and_split()\n",
    "print(f\"청크의 수 : {len(pages)}\")\n",
    "print(pages[10])"
   ]
  },
  {
   "cell_type": "code",
   "execution_count": null,
   "id": "b32dd2a2",
   "metadata": {},
   "outputs": [],
   "source": [
    "from langchain_community.document_loaders import PDFPlumberLoader\n",
    "\n",
    "loader = PDFPlumberLoader(r\"C:\\Users\\kimji\\Desktop\\ProgramFile\\Study\\2024 KB 부동산 보고서_최종.pdf\")\n",
    "pages = loader.load_and_split()\n",
    "print(f\"청크의 수 : {len(pages)}\")\n",
    "print(pages[10])"
   ]
  },
  {
   "cell_type": "code",
   "execution_count": null,
   "id": "5c9e7109",
   "metadata": {},
   "outputs": [],
   "source": [
    "from langchain_community.document_loaders import CSVLoader\n",
    "\n",
    "loader = CSVLoader(r\"CSV파일 경로\")\n",
    "documents = loader.load()\n",
    "print(f\"청크의 수 : {len(pages)}\")\n",
    "print(documents[5])"
   ]
  },
  {
   "cell_type": "code",
   "execution_count": null,
   "id": "76148097",
   "metadata": {},
   "outputs": [],
   "source": [
    "from langchain_community.document_loaders import UnstructuredCSVLoader\n",
    "\n",
    "loader = UnstructuredCSVLoader(r\"CSV파일 경로\")\n",
    "documents = loader.load()\n",
    "print(f\"청크의 수 : {len(pages)}\")\n",
    "print(str(documents[0].metadata)[:500])\n",
    "print(str(documents[0].page_content)[:500])"
   ]
  },
  {
   "cell_type": "markdown",
   "id": "f39c8c99",
   "metadata": {},
   "source": [
    "### 텍스트 분할"
   ]
  },
  {
   "cell_type": "code",
   "execution_count": null,
   "id": "ac884f2b",
   "metadata": {},
   "outputs": [],
   "source": [
    "# RecursiveCharacterTextSplitter\n",
    "from langchain.text_splitter import RecursiveCharacterTextSplitter\n",
    "from langchain_community.document_loaders import PyPDFLoader\n",
    "\n",
    "url = r\"C:\\Users\\kimji\\Desktop\\ProgramFile\\Study\\2024 KB 부동산 보고서_최종.pdf\"\n",
    "\n",
    "loader = PyPDFLoader(url)\n",
    "pages = loader.load()\n",
    "print(f\"총 글자 수 : {len(''.join([i.page_content for i in pages]))}\")\n",
    "\n",
    "text_splitter = RecursiveCharacterTextSplitter(chunk_size = 500, chunk_overlap=50)\n",
    "texts = text_splitter.split_documents(pages) # 단순히 긴 문자열 (텍스트파일) 분할 : .split_text()\n",
    "print(f\"분할된 청크의 수 : {len(texts)}\")\n",
    "\n",
    "print(texts[1])\n",
    "print(texts[1].page_content)\n",
    "print(texts[2].page_content)\n",
    "print(len(texts[1].page_content))\n",
    "print(len(texts[2].page_content))"
   ]
  },
  {
   "cell_type": "code",
   "execution_count": 9,
   "id": "5422dd03",
   "metadata": {},
   "outputs": [
    {
     "name": "stdout",
     "output_type": "stream",
     "text": [
      "분할된 청크의 수 : 164\n"
     ]
    }
   ],
   "source": [
    "from langchain_experimental.text_splitter import SemanticChunker\n",
    "from langchain_openai.embeddings import OpenAIEmbeddings\n",
    "from langchain_community.document_loaders import PyPDFLoader\n",
    "\n",
    "loader = PyPDFLoader(url)\n",
    "pages = loader.load()\n",
    "\n",
    "text_splitter = SemanticChunker(embeddings=OpenAIEmbeddings(api_key=api_key))\n",
    "chunks = text_splitter.split_documents(pages)\n",
    "print(f\"분할된 청크의 수 : {len(chunks)}\")\n"
   ]
  },
  {
   "cell_type": "code",
   "execution_count": null,
   "id": "074c6000",
   "metadata": {},
   "outputs": [],
   "source": [
    "print(chunks[3])\n",
    "print(chunks[4])\n",
    "print(chunks[5])"
   ]
  },
  {
   "cell_type": "code",
   "execution_count": 11,
   "id": "2b6132e5",
   "metadata": {},
   "outputs": [
    {
     "name": "stdout",
     "output_type": "stream",
     "text": [
      "분할된 청크의 수 : 84\n"
     ]
    }
   ],
   "source": [
    "text_splitter = SemanticChunker(\n",
    "\tOpenAIEmbeddings(api_key=api_key),\n",
    "\tbreakpoint_threshold_type=\"standard_deviation\",\n",
    "\tbreakpoint_threshold_amount=3,\n",
    ")\n",
    "chunks = text_splitter.split_documents(pages)\n",
    "print(f\"분할된 청크의 수 : {len(chunks)}\")"
   ]
  },
  {
   "cell_type": "code",
   "execution_count": 12,
   "id": "3cd0349b",
   "metadata": {},
   "outputs": [
    {
     "name": "stdout",
     "output_type": "stream",
     "text": [
      "분할된 청크의 수 : 142\n"
     ]
    }
   ],
   "source": [
    "text_splitter = SemanticChunker(\n",
    "\tOpenAIEmbeddings(api_key=api_key),\n",
    "\tbreakpoint_threshold_type=\"interquartile\",\n",
    "\tbreakpoint_threshold_amount=1.5,\n",
    ")\n",
    "chunks = text_splitter.split_documents(pages)\n",
    "print(f\"분할된 청크의 수 : {len(chunks)}\")"
   ]
  },
  {
   "cell_type": "code",
   "execution_count": null,
   "id": "fa8f6adc",
   "metadata": {},
   "outputs": [],
   "source": []
  }
 ],
 "metadata": {
  "kernelspec": {
   "display_name": "LLM",
   "language": "python",
   "name": "python3"
  },
  "language_info": {
   "codemirror_mode": {
    "name": "ipython",
    "version": 3
   },
   "file_extension": ".py",
   "mimetype": "text/x-python",
   "name": "python",
   "nbconvert_exporter": "python",
   "pygments_lexer": "ipython3",
   "version": "3.11.9"
  }
 },
 "nbformat": 4,
 "nbformat_minor": 5
}
