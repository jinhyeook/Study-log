{
 "cells": [
  {
   "cell_type": "markdown",
   "id": "436eb8f7",
   "metadata": {},
   "source": [
    "## CODE"
   ]
  },
  {
   "cell_type": "code",
   "execution_count": null,
   "id": "b629d6a0",
   "metadata": {},
   "outputs": [],
   "source": [
    "import os\n",
    "from dotenv import load_dotenv\n",
    "\n",
    "load_dotenv()\n",
    "api_key = os.getenv(\"open_api_key\")"
   ]
  },
  {
   "cell_type": "markdown",
   "id": "2d8299cf",
   "metadata": {},
   "source": [
    "### 검색 증강 생성 개요"
   ]
  },
  {
   "cell_type": "code",
   "execution_count": null,
   "id": "22a3a0c6",
   "metadata": {},
   "outputs": [],
   "source": [
    "# 코사인 유사도\n",
    "import numpy as np\n",
    "from numpy import dot\n",
    "from numpy.linalg import norm\n",
    "\n",
    "def cos_sim(A,B):\n",
    "    return dot(A,B)/(norm(A)*norm(B))\n",
    "\n",
    "vec1 = np.array([0,1,1,1])\n",
    "vec2 = np.array([1,0,2,1])\n",
    "vec3 = np.array([2,0,4,2])\n",
    "\n",
    "print(f\"벡터1과 벡터2의 유사도 : {cos_sim(vec1,vec2)}\")\n",
    "print(f\"벡터2과 벡터3의 유사도 : {cos_sim(vec2,vec3)}\")"
   ]
  },
  {
   "cell_type": "code",
   "execution_count": null,
   "id": "4af255be",
   "metadata": {},
   "outputs": [],
   "source": [
    "# OpenAI 임베딩 모델\n",
    "import os\n",
    "import numpy as np\n",
    "from numpy import dot\n",
    "from numpy.linalg import norm\n",
    "import pandas as pd\n",
    "\n",
    "from langchain.embeddings import OpenAIEmbeddings\n",
    "from langchain_openai import OpenAI\n",
    "\n",
    "embeddings = OpenAIEmbeddings(model=\"text-embedding-ada-002\", api_key=api_key)\n",
    "query_result = embeddings.embed_query('저는 배가 고파요')\n",
    "print(query_result)"
   ]
  },
  {
   "cell_type": "code",
   "execution_count": null,
   "id": "b36ef21b",
   "metadata": {},
   "outputs": [],
   "source": [
    "data = [\n",
    "    '주식 시장이 급등했어요',\n",
    "    '시장 물가가 올랐어요',\n",
    "    '전통 시장에는 다양한 물품들을 팔아요',\n",
    "    '저는 빠른 비트를 좋아해요',\n",
    "    '최근 비트코인 가격이 많이 반등했어요',\n",
    "]\n",
    "\n",
    "df = pd.DataFrame(data,columns=['text'])\n",
    "# print(df)\n",
    "\n",
    "# 텍스트 -> 임베딩 벡터 변환 함수\n",
    "def get_embedding(text):\n",
    "    return embeddings.embed_query(text)\n",
    "\n",
    "df['embeddings'] = df.apply(\n",
    "    lambda row : get_embedding(row.text),\n",
    "    axis=1\n",
    ")\n",
    "# print(df)\n",
    "\n",
    "# 코사인 유사도 계산 함수\n",
    "def cos_sim(A,B):\n",
    "    return dot(A,B)/(norm(A)*norm(B))\n",
    "\n",
    "\n",
    "def return_answer_candidate(df,query):\n",
    "    query_embedding = get_embedding(query)\n",
    "\n",
    "    df['similarity'] = df.embeddings.apply(lambda x : cos_sim(np.array(x), np.array(query_embedding)))\n",
    "\n",
    "    top_three_doc = df.sort_values(\"similarity\", ascending=False).head(3)\n",
    "\n",
    "    return top_three_doc\n",
    "\n",
    "sim_result = return_answer_candidate(df,'과일 값이 비싸다')\n",
    "print(sim_result)\n"
   ]
  },
  {
   "cell_type": "code",
   "execution_count": 2,
   "id": "5bf7647a",
   "metadata": {},
   "outputs": [
    {
     "name": "stderr",
     "output_type": "stream",
     "text": [
      "C:\\Users\\kimji\\AppData\\Local\\Temp\\ipykernel_39312\\2227364096.py:30: LangChainDeprecationWarning: The class `HuggingFaceBgeEmbeddings` was deprecated in LangChain 0.2.2 and will be removed in 1.0. An updated version of the class exists in the :class:`~langchain-huggingface package and should be used instead. To use it run `pip install -U :class:`~langchain-huggingface` and import as `from :class:`~langchain_huggingface import HuggingFaceEmbeddings``.\n",
      "  embeddings = HuggingFaceBgeEmbeddings(model_name = 'BAAI/bge-m3')\n"
     ]
    },
    {
     "name": "stdout",
     "output_type": "stream",
     "text": [
      "                   text                                         embeddings  \\\n",
      "1           시장 물가가 올랐어요  [0.013636118732392788, 0.05754704773426056, -0...   \n",
      "4  최근 비트코인 가격이 많이 반등했어요  [0.01619962975382805, 0.036948565393686295, -0...   \n",
      "2  전통 시장에는 다양한 물품들을 팔아요  [0.01703060232102871, 0.04437505826354027, -0....   \n",
      "\n",
      "   similarity  \n",
      "1    0.702341  \n",
      "4    0.673596  \n",
      "2    0.667758  \n"
     ]
    }
   ],
   "source": [
    "# 허깅페이스 제공 임베딩 모델\n",
    "#from langchain.embeddings import HuggingFaceEmbeddings\n",
    "from langchain.embeddings import HuggingFaceBgeEmbeddings\n",
    "from sentence_transformers import SentenceTransformer\n",
    "import numpy as np\n",
    "from numpy import dot\n",
    "from numpy.linalg import norm\n",
    "import pandas as pd\n",
    "\n",
    "\n",
    "# 텍스트 -> 임베딩 벡터 변환 함수\n",
    "def get_embedding(text):\n",
    "    return embeddings.embed_query(text)\n",
    "\n",
    "# 코사인 유사도 계산 함수\n",
    "def cos_sim(A,B):\n",
    "    return dot(A,B)/(norm(A)*norm(B))\n",
    "\n",
    "\n",
    "def return_answer_candidate(df,query):\n",
    "    query_embedding = get_embedding(query)\n",
    "\n",
    "    df['similarity'] = df.embeddings.apply(lambda x : cos_sim(np.array(x), np.array(query_embedding)))\n",
    "\n",
    "    top_three_doc = df.sort_values(\"similarity\", ascending=False).head(3)\n",
    "\n",
    "    return top_three_doc\n",
    "\n",
    "embeddings = SentenceTransformer('BAAI/bge-m3')\n",
    "embeddings = HuggingFaceBgeEmbeddings(model_name = 'BAAI/bge-m3')\n",
    "# embeddings = HuggingFaceEmbeddings(model_name = 'BAAI/bge-m3')\n",
    "\n",
    "data = [\n",
    "    '주식 시장이 급등했어요',\n",
    "    '시장 물가가 올랐어요',\n",
    "    '전통 시장에는 다양한 물품들을 팔아요',\n",
    "    '저는 빠른 비트를 좋아해요',\n",
    "    '최근 비트코인 가격이 많이 반등했어요',\n",
    "]\n",
    "\n",
    "hugging_df = pd.DataFrame(data, columns=['text'])\n",
    "hugging_df['embeddings'] = hugging_df['text'].apply(get_embedding)\n",
    "# print(df)\n",
    "\n",
    "\n",
    "sim_result = return_answer_candidate(hugging_df,'과일 값이 비싸다')\n",
    "print(sim_result)\n"
   ]
  },
  {
   "cell_type": "code",
   "execution_count": null,
   "id": "beb6c078",
   "metadata": {},
   "outputs": [],
   "source": []
  }
 ],
 "metadata": {
  "kernelspec": {
   "display_name": "LLM",
   "language": "python",
   "name": "python3"
  },
  "language_info": {
   "codemirror_mode": {
    "name": "ipython",
    "version": 3
   },
   "file_extension": ".py",
   "mimetype": "text/x-python",
   "name": "python",
   "nbconvert_exporter": "python",
   "pygments_lexer": "ipython3",
   "version": "3.11.9"
  }
 },
 "nbformat": 4,
 "nbformat_minor": 5
}
