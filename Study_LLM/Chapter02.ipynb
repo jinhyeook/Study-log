{
 "cells": [
  {
   "cell_type": "markdown",
   "id": "436eb8f7",
   "metadata": {},
   "source": [
    "## CODE"
   ]
  },
  {
   "cell_type": "code",
   "execution_count": 1,
   "id": "b629d6a0",
   "metadata": {},
   "outputs": [],
   "source": [
    "import os\n",
    "from dotenv import load_dotenv\n",
    "\n",
    "load_dotenv()\n",
    "api_key = os.getenv(\"open_api_key\")"
   ]
  },
  {
   "cell_type": "markdown",
   "id": "2d8299cf",
   "metadata": {},
   "source": [
    "### 검색 증강 생성 개요"
   ]
  },
  {
   "cell_type": "code",
   "execution_count": null,
   "id": "22a3a0c6",
   "metadata": {},
   "outputs": [],
   "source": [
    "# 코사인 유사도\n",
    "import numpy as np\n",
    "from numpy import dot\n",
    "from numpy.linalg import norm\n",
    "\n",
    "def cos_sim(A,B):\n",
    "    return dot(A,B)/(norm(A)*norm(B))\n",
    "\n",
    "vec1 = np.array([0,1,1,1])\n",
    "vec2 = np.array([1,0,2,1])\n",
    "vec3 = np.array([2,0,4,2])\n",
    "\n",
    "print(f\"벡터1과 벡터2의 유사도 : {cos_sim(vec1,vec2)}\")\n",
    "print(f\"벡터2과 벡터3의 유사도 : {cos_sim(vec2,vec3)}\")"
   ]
  },
  {
   "cell_type": "code",
   "execution_count": null,
   "id": "4af255be",
   "metadata": {},
   "outputs": [],
   "source": [
    "# OpenAI 임베딩 모델\n",
    "import os\n",
    "import numpy as np\n",
    "from numpy import dot\n",
    "from numpy.linalg import norm\n",
    "import pandas as pd\n",
    "\n",
    "from langchain.embeddings import OpenAIEmbeddings\n",
    "from langchain_openai import OpenAI\n",
    "\n",
    "embeddings = OpenAIEmbeddings(model=\"text-embedding-ada-002\", api_key=api_key)\n",
    "query_result = embeddings.embed_query('저는 배가 고파요')\n",
    "print(query_result)"
   ]
  },
  {
   "cell_type": "code",
   "execution_count": null,
   "id": "b36ef21b",
   "metadata": {},
   "outputs": [],
   "source": [
    "data = [\n",
    "    '주식 시장이 급등했어요',\n",
    "    '시장 물가가 올랐어요',\n",
    "    '전통 시장에는 다양한 물품들을 팔아요',\n",
    "    '저는 빠른 비트를 좋아해요',\n",
    "    '최근 비트코인 가격이 많이 반등했어요',\n",
    "]\n",
    "\n",
    "df = pd.DataFrame(data,columns=['text'])\n",
    "# print(df)\n",
    "\n",
    "# 텍스트 -> 임베딩 벡터 변환 함수\n",
    "def get_embedding(text):\n",
    "    return embeddings.embed_query(text)\n",
    "\n",
    "df['embeddings'] = df.apply(\n",
    "    lambda row : get_embedding(row.text),\n",
    "    axis=1\n",
    ")\n",
    "# print(df)\n",
    "\n",
    "# 코사인 유사도 계산 함수\n",
    "def cos_sim(A,B):\n",
    "    return dot(A,B)/(norm(A)*norm(B))\n",
    "\n",
    "\n",
    "def return_answer_candidate(df,query):\n",
    "    query_embedding = get_embedding(query)\n",
    "\n",
    "    df['similarity'] = df.embeddings.apply(lambda x : cos_sim(np.array(x), np.array(query_embedding)))\n",
    "\n",
    "    top_three_doc = df.sort_values(\"similarity\", ascending=False).head(3)\n",
    "\n",
    "    return top_three_doc\n",
    "\n",
    "sim_result = return_answer_candidate(df,'과일 값이 비싸다')\n",
    "print(sim_result)\n"
   ]
  },
  {
   "cell_type": "code",
   "execution_count": 2,
   "id": "5bf7647a",
   "metadata": {},
   "outputs": [
    {
     "name": "stderr",
     "output_type": "stream",
     "text": [
      "C:\\Users\\kimji\\AppData\\Local\\Temp\\ipykernel_39312\\2227364096.py:30: LangChainDeprecationWarning: The class `HuggingFaceBgeEmbeddings` was deprecated in LangChain 0.2.2 and will be removed in 1.0. An updated version of the class exists in the :class:`~langchain-huggingface package and should be used instead. To use it run `pip install -U :class:`~langchain-huggingface` and import as `from :class:`~langchain_huggingface import HuggingFaceEmbeddings``.\n",
      "  embeddings = HuggingFaceBgeEmbeddings(model_name = 'BAAI/bge-m3')\n"
     ]
    },
    {
     "name": "stdout",
     "output_type": "stream",
     "text": [
      "                   text                                         embeddings  \\\n",
      "1           시장 물가가 올랐어요  [0.013636118732392788, 0.05754704773426056, -0...   \n",
      "4  최근 비트코인 가격이 많이 반등했어요  [0.01619962975382805, 0.036948565393686295, -0...   \n",
      "2  전통 시장에는 다양한 물품들을 팔아요  [0.01703060232102871, 0.04437505826354027, -0....   \n",
      "\n",
      "   similarity  \n",
      "1    0.702341  \n",
      "4    0.673596  \n",
      "2    0.667758  \n"
     ]
    }
   ],
   "source": [
    "# 허깅페이스 제공 임베딩 모델\n",
    "#from langchain.embeddings import HuggingFaceEmbeddings\n",
    "from langchain.embeddings import HuggingFaceBgeEmbeddings\n",
    "from sentence_transformers import SentenceTransformer\n",
    "import numpy as np\n",
    "from numpy import dot\n",
    "from numpy.linalg import norm\n",
    "import pandas as pd\n",
    "\n",
    "\n",
    "# 텍스트 -> 임베딩 벡터 변환 함수\n",
    "def get_embedding(text):\n",
    "    return embeddings.embed_query(text)\n",
    "\n",
    "# 코사인 유사도 계산 함수\n",
    "def cos_sim(A,B):\n",
    "    return dot(A,B)/(norm(A)*norm(B))\n",
    "\n",
    "\n",
    "def return_answer_candidate(df,query):\n",
    "    query_embedding = get_embedding(query)\n",
    "\n",
    "    df['similarity'] = df.embeddings.apply(lambda x : cos_sim(np.array(x), np.array(query_embedding)))\n",
    "\n",
    "    top_three_doc = df.sort_values(\"similarity\", ascending=False).head(3)\n",
    "\n",
    "    return top_three_doc\n",
    "\n",
    "embeddings = SentenceTransformer('BAAI/bge-m3')\n",
    "embeddings = HuggingFaceBgeEmbeddings(model_name = 'BAAI/bge-m3')\n",
    "# embeddings = HuggingFaceEmbeddings(model_name = 'BAAI/bge-m3')\n",
    "\n",
    "data = [\n",
    "    '주식 시장이 급등했어요',\n",
    "    '시장 물가가 올랐어요',\n",
    "    '전통 시장에는 다양한 물품들을 팔아요',\n",
    "    '저는 빠른 비트를 좋아해요',\n",
    "    '최근 비트코인 가격이 많이 반등했어요',\n",
    "]\n",
    "\n",
    "hugging_df = pd.DataFrame(data, columns=['text'])\n",
    "hugging_df['embeddings'] = hugging_df['text'].apply(get_embedding)\n",
    "# print(df)\n",
    "\n",
    "\n",
    "sim_result = return_answer_candidate(hugging_df,'과일 값이 비싸다')\n",
    "print(sim_result)\n"
   ]
  },
  {
   "cell_type": "markdown",
   "id": "f7aac047",
   "metadata": {},
   "source": [
    "### 문서로더"
   ]
  },
  {
   "cell_type": "code",
   "execution_count": null,
   "id": "beb6c078",
   "metadata": {},
   "outputs": [],
   "source": [
    "import os\n",
    "os.environ[\"USER_AGENT\"] = \"MyApp/1.0 (Custom Langchain Application)\"\n",
    "\n",
    "from langchain_community.document_loaders import WebBaseLoader\n",
    "\n",
    "loader = WebBaseLoader(\"https://docs.smith.langchain.com/\")\n",
    "\n",
    "loader_multiple_pages = WebBaseLoader(\n",
    "    [\"https://python.langchain.com/docs/introduction/\",\n",
    "     \"https://langchain-ai.github.io/langgraph\"]\n",
    ")\n",
    "\n",
    "single_doc = loader.load()\n",
    "print(single_doc[0].metadata)\n",
    "\n",
    "docs = loader_multiple_pages.load()\n",
    "print(docs[0].page_content)"
   ]
  },
  {
   "cell_type": "markdown",
   "id": "de53188e",
   "metadata": {},
   "source": [
    "실습 pdf 파일 다운 : https://www.kbfg.com/kbresearch/report/reportView.do?reportId=2000450"
   ]
  },
  {
   "cell_type": "code",
   "execution_count": null,
   "id": "d3b38525",
   "metadata": {},
   "outputs": [],
   "source": [
    "from langchain_community.document_loaders import PyPDFLoader\n",
    "from langchain_community.document_loaders import PyMuPDFLoader\n",
    "from langchain_community.document_loaders import PDFPlumberLoader\n",
    "\n",
    "loader = PyPDFLoader(r\"pdf주소\")\n",
    "pages = loader.load_and_split()\n",
    "print(f\"청크의 수 : {len(pages)}\")\n",
    "print(pages[10])"
   ]
  },
  {
   "cell_type": "code",
   "execution_count": null,
   "id": "74054c01",
   "metadata": {},
   "outputs": [],
   "source": [
    "from langchain_community.document_loaders import PyMuPDFLoader\n",
    "\n",
    "loader = PyMuPDFLoader(r\"pdf주소\")\n",
    "pages = loader.load_and_split()\n",
    "print(f\"청크의 수 : {len(pages)}\")\n",
    "print(pages[10])"
   ]
  },
  {
   "cell_type": "code",
   "execution_count": null,
   "id": "b32dd2a2",
   "metadata": {},
   "outputs": [],
   "source": [
    "from langchain_community.document_loaders import PDFPlumberLoader\n",
    "\n",
    "url = r\"파일경로\"\n",
    "\n",
    "loader = PDFPlumberLoader(url)\n",
    "pages = loader.load_and_split()\n",
    "print(f\"청크의 수 : {len(pages)}\")\n",
    "print(pages[10])"
   ]
  },
  {
   "cell_type": "code",
   "execution_count": null,
   "id": "5c9e7109",
   "metadata": {},
   "outputs": [],
   "source": [
    "from langchain_community.document_loaders import CSVLoader\n",
    "\n",
    "loader = CSVLoader(url)\n",
    "documents = loader.load()\n",
    "print(f\"청크의 수 : {len(pages)}\")\n",
    "print(documents[5])"
   ]
  },
  {
   "cell_type": "code",
   "execution_count": null,
   "id": "76148097",
   "metadata": {},
   "outputs": [],
   "source": [
    "from langchain_community.document_loaders import UnstructuredCSVLoader\n",
    "\n",
    "loader = UnstructuredCSVLoader(url)\n",
    "documents = loader.load()\n",
    "print(f\"청크의 수 : {len(pages)}\")\n",
    "print(str(documents[0].metadata)[:500])\n",
    "print(str(documents[0].page_content)[:500])"
   ]
  },
  {
   "cell_type": "markdown",
   "id": "f39c8c99",
   "metadata": {},
   "source": [
    "### 텍스트 분할"
   ]
  },
  {
   "cell_type": "code",
   "execution_count": null,
   "id": "ac884f2b",
   "metadata": {},
   "outputs": [],
   "source": [
    "# RecursiveCharacterTextSplitter\n",
    "from langchain.text_splitter import RecursiveCharacterTextSplitter\n",
    "from langchain_community.document_loaders import PyPDFLoader\n",
    "\n",
    "url = r\"파일경로\"\n",
    "\n",
    "loader = PyPDFLoader(url)\n",
    "pages = loader.load()\n",
    "print(f\"총 글자 수 : {len(''.join([i.page_content for i in pages]))}\")\n",
    "\n",
    "text_splitter = RecursiveCharacterTextSplitter(chunk_size = 500, chunk_overlap=50)\n",
    "texts = text_splitter.split_documents(pages) # 단순히 긴 문자열 (텍스트파일) 분할 : .split_text()\n",
    "print(f\"분할된 청크의 수 : {len(texts)}\")\n",
    "\n",
    "print(texts[1])\n",
    "print(texts[1].page_content)\n",
    "print(texts[2].page_content)\n",
    "print(len(texts[1].page_content))\n",
    "print(len(texts[2].page_content))"
   ]
  },
  {
   "cell_type": "code",
   "execution_count": 9,
   "id": "5422dd03",
   "metadata": {},
   "outputs": [
    {
     "name": "stdout",
     "output_type": "stream",
     "text": [
      "분할된 청크의 수 : 164\n"
     ]
    }
   ],
   "source": [
    "from langchain_experimental.text_splitter import SemanticChunker\n",
    "from langchain_openai.embeddings import OpenAIEmbeddings\n",
    "from langchain_community.document_loaders import PyPDFLoader\n",
    "\n",
    "loader = PyPDFLoader(url)\n",
    "pages = loader.load()\n",
    "\n",
    "text_splitter = SemanticChunker(embeddings=OpenAIEmbeddings(api_key=api_key))\n",
    "chunks = text_splitter.split_documents(pages)\n",
    "print(f\"분할된 청크의 수 : {len(chunks)}\")\n"
   ]
  },
  {
   "cell_type": "code",
   "execution_count": null,
   "id": "074c6000",
   "metadata": {},
   "outputs": [],
   "source": [
    "print(chunks[3])\n",
    "print(chunks[4])\n",
    "print(chunks[5])"
   ]
  },
  {
   "cell_type": "code",
   "execution_count": 11,
   "id": "2b6132e5",
   "metadata": {},
   "outputs": [
    {
     "name": "stdout",
     "output_type": "stream",
     "text": [
      "분할된 청크의 수 : 84\n"
     ]
    }
   ],
   "source": [
    "text_splitter = SemanticChunker(\n",
    "\tOpenAIEmbeddings(api_key=api_key),\n",
    "\tbreakpoint_threshold_type=\"standard_deviation\",\n",
    "\tbreakpoint_threshold_amount=3,\n",
    ")\n",
    "chunks = text_splitter.split_documents(pages)\n",
    "print(f\"분할된 청크의 수 : {len(chunks)}\")"
   ]
  },
  {
   "cell_type": "code",
   "execution_count": 12,
   "id": "3cd0349b",
   "metadata": {},
   "outputs": [
    {
     "name": "stdout",
     "output_type": "stream",
     "text": [
      "분할된 청크의 수 : 142\n"
     ]
    }
   ],
   "source": [
    "text_splitter = SemanticChunker(\n",
    "\tOpenAIEmbeddings(api_key=api_key),\n",
    "\tbreakpoint_threshold_type=\"interquartile\",\n",
    "\tbreakpoint_threshold_amount=1.5,\n",
    ")\n",
    "chunks = text_splitter.split_documents(pages)\n",
    "print(f\"분할된 청크의 수 : {len(chunks)}\")"
   ]
  },
  {
   "cell_type": "markdown",
   "id": "ca0fafae",
   "metadata": {},
   "source": [
    "### VectorDB"
   ]
  },
  {
   "cell_type": "code",
   "execution_count": null,
   "id": "fa8f6adc",
   "metadata": {},
   "outputs": [],
   "source": [
    "# Chroma\n",
    "from langchain_community.document_loaders import PyPDFLoader\n",
    "from langchain_text_splitters import RecursiveCharacterTextSplitter\n",
    "from langchain_openai import OpenAIEmbeddings\n",
    "from langchain_chroma import Chroma\n",
    "\n",
    "url = r\"파일경로\"\n",
    "\n",
    "loader = PyPDFLoader(url)\n",
    "pages = loader.load()\n",
    "print(f\"청크의 수 : {len(pages)}\")\n",
    "\n",
    "text_splitter = RecursiveCharacterTextSplitter(chunk_size = 1000, chunk_overlap=200)\n",
    "splits = text_splitter.split_documents(pages)\n",
    "print(f\"분할된 청크의 수 : {len(splits)}\")\n",
    "\n",
    "chunk_lengths = [len(chunk.page_content) for chunk in splits]\n",
    "max_length = max(chunk_lengths)\n",
    "min_length = min(chunk_lengths)\n",
    "avg_length = sum(chunk_lengths)/len(chunk_lengths)\n",
    "\n",
    "print(f\"청크의 최대 길이 : {max_length}\")\n",
    "print(f\"청크의 최소 길이 : {min_length}\")\n",
    "print(f\"청크의 평균 길이 : {avg_length}\")\n",
    "\n",
    "\n",
    "embdiing_function = OpenAIEmbeddings(api_key=api_key)\n",
    "\n",
    "persist_directory = r\"VectorDB\"\n",
    "vector_store = Chroma.from_documents(documents=splits, embedding=embdiing_function, persist_directory=persist_directory ) # from_document를 반복해서 호출할 경우, 메모리가 중복으로 쌓일 수 있음.\n",
    "print(f\"문서의 수 : {vector_store._collection.count()}\") # _collection.count() : Chroma DB에 적재된 문서 수 확인\n",
    "\n",
    "vector_load = Chroma( embedding_function= embdiing_function, persist_directory=persist_directory)\n",
    "print(f\"문서의 수 : {vector_load._collection.count()}\")\n",
    "\n",
    "\n",
    "question = \"수도권 주택 매매 전망\"\n",
    "top_three_docs = vector_load.similarity_search(question, k=2) # 상위 k개의 청크 검색\n",
    "for i, doc in enumerate(top_three_docs, 1):\n",
    "    print(f\"문서 {i}\")\n",
    "    print(f\"내용 : {doc.page_content[:150]}\")\n",
    "    print(f\"메타데이터 : {doc.metadata}\")\n",
    "    print(\"--\"*20)\n",
    "\n"
   ]
  },
  {
   "cell_type": "code",
   "execution_count": null,
   "id": "fa922978",
   "metadata": {},
   "outputs": [
    {
     "name": "stdout",
     "output_type": "stream",
     "text": [
      "문서의 수 : 135\n",
      "문서 1\n",
      "내용 : 8 \n",
      "2024 KB 부동산 보고서: 2024년 주택시장 진단과 전망 \n",
      " \n",
      "실 등에 따른 주택 경기 불안을 이유로 매매를 망설이며 시세 대비 저렴한 매물에만 관심을 보였다. 결\n",
      "국 매도자와 매수자 간 희망가격 차이로 인한 매매 거래 위축 현상은 2023년 거래 침체의 가\n",
      "메타데이터 : {'producer': 'Microsoft® Word 2016', 'creator': 'Microsoft® Word 2016', 'creationdate': '2024-03-04T15:30:01+09:00', 'title': 'Morning Meeting', 'author': '손은경', 'moddate': '2024-03-04T15:30:01+09:00', 'source': 'C:\\\\Users\\\\kimji\\\\Desktop\\\\ProgramFile\\\\Study\\\\2024 KB 부동산 보고서_최종.pdf', 'total_pages': 84, 'page': 14, 'page_label': '15'}\n",
      "----------------------------------------\n",
      "문서 2\n",
      "내용 : 18 \n",
      "2024 KB 부동산 보고서: 2024년 주택시장 진단과 전망 \n",
      " \n",
      "그림Ⅰ-30. 수도권 입주물량과 전세가격 변동률 추이  그림Ⅰ-31. 기타지방 입주물량과 전세가격 변동률 추이 \n",
      " \n",
      " \n",
      " \n",
      "자료: KB국민은행, 부동산114  자료: KB국민은행, 부동산114\n",
      "메타데이터 : {'producer': 'Microsoft® Word 2016', 'creator': 'Microsoft® Word 2016', 'creationdate': '2024-03-04T15:30:01+09:00', 'title': 'Morning Meeting', 'author': '손은경', 'moddate': '2024-03-04T15:30:01+09:00', 'source': 'C:\\\\Users\\\\kimji\\\\Desktop\\\\ProgramFile\\\\Study\\\\2024 KB 부동산 보고서_최종.pdf', 'total_pages': 84, 'page': 24, 'page_label': '25'}\n",
      "----------------------------------------\n",
      "문서 3\n",
      "내용 : 3 \n",
      "2024 KB 부동산 보고서: 2024년 주택시장 진단과 전망 \n",
      " \n",
      "  \n",
      " \n",
      " \n",
      "Executive Summary 3 \n",
      " 수도권 주택시장 전반적 침체, 강남권 등 선호 지역 상대적 강세 \n",
      "과거와는 달리 높은 기준금리와 주택 매매가격, DSR 규제 등으로 매수자들의\n",
      "메타데이터 : {'producer': 'Microsoft® Word 2016', 'creator': 'Microsoft® Word 2016', 'creationdate': '2024-03-04T15:30:01+09:00', 'title': 'Morning Meeting', 'author': '손은경', 'moddate': '2024-03-04T15:30:01+09:00', 'source': 'C:\\\\Users\\\\kimji\\\\Desktop\\\\ProgramFile\\\\Study\\\\2024 KB 부동산 보고서_최종.pdf', 'total_pages': 84, 'page': 3, 'page_label': '4'}\n",
      "----------------------------------------\n",
      "문서 4\n",
      "내용 : 30 \n",
      "2024 KB 부동산 보고서: 주택시장 설문조사 \n",
      " \n",
      " \n",
      "■ 주택 전세가격, 비수도권 하락 전망이 우세한 가운데 수도권 전망은 엇갈려 \n",
      "2024년 전국 주택 전세가격에 대해 전문가의 53%, 공인중개사의 61%가 하락을 전망하였다. 하락\n",
      "폭에 대해서는 3% 이하\n",
      "메타데이터 : {'producer': 'Microsoft® Word 2016', 'creator': 'Microsoft® Word 2016', 'creationdate': '2024-03-04T15:30:01+09:00', 'title': 'Morning Meeting', 'author': '손은경', 'moddate': '2024-03-04T15:30:01+09:00', 'source': 'C:\\\\Users\\\\kimji\\\\Desktop\\\\ProgramFile\\\\Study\\\\2024 KB 부동산 보고서_최종.pdf', 'total_pages': 84, 'page': 36, 'page_label': '37'}\n",
      "----------------------------------------\n"
     ]
    }
   ],
   "source": [
    "# FAISS\n",
    "from langchain_community.vectorstores import FAISS\n",
    "\n",
    "faiss_db = FAISS.from_documents(documents=splits, embedding=embdiing_function)\n",
    "print(f\"문서의 수 : {faiss_db.index.ntotal}\")\n",
    "\n",
    "faiss_directory = r\"FAISS\"\n",
    "faiss_db.save_local(faiss_directory)\n",
    "\n",
    "new_db_faiss = FAISS.load_local(faiss_directory, embdiing_function , allow_dangerous_deserialization=True )\n",
    "\n",
    "question = \"수도권 주택 매매 전망\"\n",
    "docs = new_db_faiss.similarity_search(question)\n",
    "for i, doc in enumerate(docs, 1):\n",
    "    print(f\"문서 {i}\")\n",
    "    print(f\"내용 : {doc.page_content[:150]}\")\n",
    "    print(f\"메타데이터 : {doc.metadata}\")\n",
    "    print(\"--\"*20)\n",
    "\n"
   ]
  },
  {
   "cell_type": "code",
   "execution_count": null,
   "id": "a8489147",
   "metadata": {},
   "outputs": [],
   "source": []
  },
  {
   "cell_type": "markdown",
   "id": "d9190ad4",
   "metadata": {},
   "source": [
    "### RAG 실습"
   ]
  },
  {
   "cell_type": "code",
   "execution_count": null,
   "id": "9b56dc2d",
   "metadata": {},
   "outputs": [],
   "source": [
    "from langchain_community.document_loaders import PyPDFLoader\n",
    "from langchain.text_splitter import RecursiveCharacterTextSplitter\n",
    "from langchain_openai import OpenAIEmbeddings, ChatOpenAI\n",
    "from langchain_chroma import Chroma\n",
    "from langchain_core.prompts import ChatPromptTemplate\n",
    "from langchain.schema.output_parser import StrOutputParser\n",
    "from langchain_core.runnables import RunnablePassthrough, RunnableWithMessageHistory\n",
    "from langchain.memory import ChatMessageHistory\n",
    "\n",
    "url = r\"파일경로\"\n",
    "\n",
    "# 인덱싱 과정\n",
    "# 1) 문서 로드 및 텍스트 분할\n",
    "loader = PyMuPDFLoader(url)\n",
    "documents = loader.load()\n",
    "text_splitter = RecursiveCharacterTextSplitter(chunk_size = 1000, chunk_overlap=200)\n",
    "chunks = text_splitter.split_documents(documents)\n",
    "print(f\"분할된 청크 수 : {len(chunks)}\")\n",
    "\n",
    "# 2) 임베딩 생성과 DB 적재,관리\n",
    "embdiing_function = OpenAIEmbeddings(api_key=api_key)\n",
    "persist_directory = r\"Study_LLM\\VectorDB\"\n",
    "vector_store = Chroma.from_documents(\n",
    "    documents = chunks,\n",
    "    embedding=embdiing_function,\n",
    "    persist_directory=persist_directory,\n",
    ")\n",
    "print(f\"문서의 수 : {vector_store._collection.count}\")\n",
    "\n",
    "\n",
    "# 쿼리 과정\n",
    "# 1) 검색 및 재정렬\n",
    "retriever = vector_store.as_retriever(search_kwards={\"k\":3})\n",
    "\n",
    "# 2) 프롬프트 템플릿 설정\n",
    "template = \"\"\" 당신은 KB 부동산 보고서 전문가 입니다. 다음 정보를 바탕으로 사용자의 질문에 답변해주세요. 컨텍스트 ; {context} \"\"\"\n",
    "prompt = ChatPromptTemplate.from_messages(\n",
    "    [\n",
    "        (\"system\", template),\n",
    "        (\"placeholder\", \"{chat_history}\"), # 대화 기록용, 이전 대화 내용을 삽입.\n",
    "        (\"human\", \"{qustion}\")\n",
    "    ]\n",
    ")\n",
    "\n",
    "model = ChatOpenAI(model_name = \"gpt-4o-mini\", temperature=0, api_key=api_key)\n",
    "\n",
    "def format_docs(docs):\n",
    "    return \"\\n\\n\".join(doc.page_content for doc in docs)\n",
    "\n",
    "chain = (\n",
    "    RunnablePassthrough.assing(\n",
    "        context = lambda x : format_docs(retriever.invoke(x[\"question\"]))\n",
    "    )\n",
    "    | prompt\n",
    "    | model\n",
    "    | StrOutputParser()\n",
    ")\n",
    "\n",
    "# 메모리 설정 및 챗봇 실행\n",
    "chat_history = ChatMessageHistory()\n",
    "chain_with_memory = RunnableWithMessageHistory(\n",
    "    chain,\n",
    "    lambda session_id : chat_history,\n",
    "    input_messages_key=\"question\",\n",
    "    history_messages_key = \"chat_history\",\n",
    ")\n",
    "\n",
    "\n",
    "\n",
    "def chat_with_bot():\n",
    "    session_id = \"user_session\",\n",
    "    print(\"KB 부동산 챗봇 / 종료는 \\\"quit\\\"입력\")\n",
    "    while True:\n",
    "        user_input = input(\"사용자 : \")\n",
    "        if user_input.lower() == \"quit\":\n",
    "            break\n",
    "        response = chain_with_memory.invoke(\n",
    "            {\"question\" : user_input},\n",
    "            {\"configurable\" : {\"session_id\" : session_id}}\n",
    "        )\n",
    "\n",
    "        print(f\"챗봇 : {response}\")\n"
   ]
  },
  {
   "cell_type": "code",
   "execution_count": null,
   "id": "4281f5ae",
   "metadata": {},
   "outputs": [
    {
     "name": "stderr",
     "output_type": "stream",
     "text": [
      "'ngrok'��(��) ���� �Ǵ� �ܺ� ����, ������ �� �ִ� ���α׷�, �Ǵ�\n",
      "��ġ ������ �ƴմϴ�.\n"
     ]
    }
   ],
   "source": [
    "!ngrok config add-authtoken <본인 코드>"
   ]
  },
  {
   "cell_type": "code",
   "execution_count": null,
   "id": "80c8a175",
   "metadata": {},
   "outputs": [],
   "source": [
    "from pyngrok import ngrok\n",
    "\n",
    "ngrok.kill() "
   ]
  },
  {
   "cell_type": "code",
   "execution_count": null,
   "id": "94c8b7c9",
   "metadata": {},
   "outputs": [],
   "source": [
    "from pyngrok import ngrok\n",
    "\n",
    "public_url = ngrok.connect(8501)\n",
    "print(f\"앱 접속 url : {public_url}\")\n",
    "\n",
    "!streamlit run app.py"
   ]
  },
  {
   "cell_type": "code",
   "execution_count": null,
   "id": "ec2abaf6",
   "metadata": {},
   "outputs": [],
   "source": []
  }
 ],
 "metadata": {
  "kernelspec": {
   "display_name": "LLM",
   "language": "python",
   "name": "python3"
  },
  "language_info": {
   "codemirror_mode": {
    "name": "ipython",
    "version": 3
   },
   "file_extension": ".py",
   "mimetype": "text/x-python",
   "name": "python",
   "nbconvert_exporter": "python",
   "pygments_lexer": "ipython3",
   "version": "3.13.5"
  }
 },
 "nbformat": 4,
 "nbformat_minor": 5
}
