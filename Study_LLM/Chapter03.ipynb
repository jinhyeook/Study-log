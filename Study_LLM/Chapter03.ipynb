{
 "cells": [
  {
   "cell_type": "code",
   "execution_count": 23,
   "id": "9b9876a2",
   "metadata": {},
   "outputs": [],
   "source": [
    "import os\n",
    "from dotenv import load_dotenv\n",
    "\n",
    "load_dotenv()\n",
    "api_key = os.getenv(\"open_api_key\")"
   ]
  },
  {
   "cell_type": "markdown",
   "id": "3238ebc9",
   "metadata": {},
   "source": [
    "### 멀티모달 RAG 구현"
   ]
  },
  {
   "cell_type": "markdown",
   "id": "368bea07",
   "metadata": {},
   "source": [
    "데이터 전처리"
   ]
  },
  {
   "cell_type": "code",
   "execution_count": null,
   "id": "bc2c4164",
   "metadata": {},
   "outputs": [],
   "source": [
    "import nltk\n",
    "\n",
    "nltk.download('punkt_tab')\n",
    "nltk.download('averaged_perceptron_tagger_eng')"
   ]
  },
  {
   "cell_type": "code",
   "execution_count": null,
   "id": "504cebc8",
   "metadata": {},
   "outputs": [],
   "source": [
    "from unstructured.partition.pdf import partition_pdf\n",
    "import os\n",
    "\n",
    "fpath = r\"pdf위치폴더경로\"\n",
    "fname = r\"2025년 말라리아 주간소식지(27주차).pdf\"\n",
    "\n",
    "raw_pdf_elements = partition_pdf(\n",
    "    filename = os.path.join(fpath,fname),\n",
    "    extract_images_in_pdf = True,\n",
    "    infer_table_structure=True,\n",
    "    chunking_strategy = \"by_title\",\n",
    "    extract_image_block_output_dir = r\"이미지저장폴더경로\",\n",
    ")"
   ]
  },
  {
   "cell_type": "code",
   "execution_count": 54,
   "id": "287d0a5a",
   "metadata": {},
   "outputs": [
    {
     "name": "stdout",
     "output_type": "stream",
     "text": [
      "[<unstructured.documents.elements.CompositeElement object at 0x0000015109FF9940>, <unstructured.documents.elements.CompositeElement object at 0x0000015109FF86E0>, <unstructured.documents.elements.CompositeElement object at 0x00000151085E6900>, <unstructured.documents.elements.CompositeElement object at 0x0000015109FF82F0>, <unstructured.documents.elements.CompositeElement object at 0x00000151085E5710>, <unstructured.documents.elements.CompositeElement object at 0x00000151085E4C20>, <unstructured.documents.elements.TableChunk object at 0x00000151085E5F60>, <unstructured.documents.elements.TableChunk object at 0x00000151085E6350>, <unstructured.documents.elements.CompositeElement object at 0x00000151085E50F0>, <unstructured.documents.elements.CompositeElement object at 0x00000151085E51D0>, <unstructured.documents.elements.CompositeElement object at 0x00000151085E7230>, <unstructured.documents.elements.TableChunk object at 0x0000015108DCCE50>, <unstructured.documents.elements.TableChunk object at 0x0000015108DCCF30>, <unstructured.documents.elements.CompositeElement object at 0x0000015108DCCFA0>, <unstructured.documents.elements.CompositeElement object at 0x0000015108DCD080>, <unstructured.documents.elements.CompositeElement object at 0x0000015108DCD160>, <unstructured.documents.elements.CompositeElement object at 0x0000015108DCD2B0>, <unstructured.documents.elements.CompositeElement object at 0x0000015108DCD240>, <unstructured.documents.elements.CompositeElement object at 0x0000015108DCD470>]\n"
     ]
    }
   ],
   "source": [
    "print(raw_pdf_elements)"
   ]
  },
  {
   "cell_type": "code",
   "execution_count": 15,
   "id": "b7f7ada6",
   "metadata": {},
   "outputs": [],
   "source": [
    "tables = []\n",
    "texts = []\n",
    "for elements in raw_pdf_elements:\n",
    "    if \"unstructured.documents.elements.Table\" in str(type(elements)):\n",
    "        tables.append(str(elements))\n",
    "    elif \"unstructured.documents.elements.CompositeElement\" in str(type(elements)):\n",
    "        texts.append(str(elements))"
   ]
  },
  {
   "cell_type": "code",
   "execution_count": 19,
   "id": "e18371d8",
   "metadata": {},
   "outputs": [
    {
     "data": {
      "text/plain": [
       "'202444 (1. 1.~12. 31) A CHY|(272= HH|(2725) 202414 (1. 1.~7. 6) (1. 1.~7. 5.) Al 659 (100) 251 (100.0) 214 (100.0) A16.7 ae xt 551 (83.6) 213 (84.9) 168 (78.5) A211 O4Rt 108 (16.4) 38 (15.1) 46 (21.5) 21.1 ag 0-94 2 (0.3) 1 (0.4) 1 (0.5) 0.0 10-194 21 (3.2) 10 (4.0) 9 (4.2) A10.0 20-294 217 (32.9) 83 (33.1) 72 (33.6) A13.3 30-39 97 (14.7) 33 (13.1) 20 (9.3) 39.4 40-494 103 (15.6) 37 (14.7) 29 (13.6) A216 50-59 100 (15.2) 30 (12.0) 35 (16.4) 16.7 60-69 74 (11.2) 35 (13.9) 30 (14.0) A143'"
      ]
     },
     "execution_count": 19,
     "metadata": {},
     "output_type": "execute_result"
    }
   ],
   "source": [
    "tables[0]"
   ]
  },
  {
   "cell_type": "code",
   "execution_count": 20,
   "id": "b75ed6e7",
   "metadata": {},
   "outputs": [
    {
     "data": {
      "text/plain": [
       "'v fa 2! | Bat AS 38.2M(HS] 15-S8a/)O|GH, 20CH 72H(33.6%)O= 7 HRT, SOL (16.4%), GOCH 302(14.0%), 40CH 298(13.6%), 301 208(9.3%) rom By wo a (ed rm At\\n\\nv DIZH0l 1514(70.5%), HAAS! 38H(17.8%), MICS! 254(11.7%) AOR SAH JI 42\\n\\n> B7| 1268(68.9%), Cl 41B(19.2%), MES 22H(10.3%), GH 11B(5.1%), SAt 4B (1.9%), HAL, Bs, SS 2} 280.076), CHE, BE, CH, Bet 2} 120.5%) Oe wre\\n\\n— SSPE} Aa} Sle] SAZATIAS Z7| 1453(67.8%), CA 38H(17.8%), AH 153 (7.0%), MB 88C.7%) FOB BY, BANS BAS 8A(3.7%)\\n\\nBepeor oH7He7| Al SSt(26%)'"
      ]
     },
     "execution_count": 20,
     "metadata": {},
     "output_type": "execute_result"
    }
   ],
   "source": [
    "texts[1]"
   ]
  },
  {
   "cell_type": "markdown",
   "id": "c30ff0a1",
   "metadata": {},
   "source": [
    "텍스트 테이블 요약"
   ]
  },
  {
   "cell_type": "code",
   "execution_count": null,
   "id": "3d0ce7e4",
   "metadata": {},
   "outputs": [],
   "source": [
    "# 텍스트 및 테이블 요약\n",
    "from langchain_core.output_parsers import StrOutputParser\n",
    "from langchain_core.prompts import ChatPromptTemplate\n",
    "from langchain_openai import ChatOpenAI\n",
    "\n",
    "\n",
    "prompts_text = \"\"\"\n",
    "    당신은 표와 텍스트를 요약하여 검색할 수 있도록 돕는 역할을 맡은 어시스턴트입니다.\n",
    "    이 요약은 임베딩되어 원본 텍스트나 표 요소를 검색하는 데 사용될 것입니다.\n",
    "    표 또는 텍스트에 대한 간결한 요약을 제공하여 검색에 최적화된 형태로 만들어 주세요.\n",
    "    표 또는 텍스트 : {element}\n",
    "\"\"\"\n",
    "\n",
    "prompts = ChatPromptTemplate.from_template(prompts_text)\n",
    "\n",
    "model = ChatOpenAI(temperature=0, model = \"gpt-4\", api_key=api_key)\n",
    "summarize_chain = {\"element\" : lambda x : x}|prompts | model | StrOutputParser()\n",
    "\n",
    "text_summaries = summarize_chain.batch(texts, {\"max_concurrency\" : 5})\n",
    "\n",
    "table_summaries = summarize_chain.batch(tables, {\"max_concurrency\" : 5})"
   ]
  },
  {
   "cell_type": "code",
   "execution_count": 25,
   "id": "a3f6daa0",
   "metadata": {},
   "outputs": [
    {
     "name": "stdout",
     "output_type": "stream",
     "text": [
      "이 텍스트는 특정 기간 동안의 다양한 범위(0-94, 10-194, 20-294 등)에 대한 데이터를 제공합니다. 각 범위는 특정 수치(예: 2 (0.3), 21 (3.2), 217 (32.9) 등)를 가지며, 이는 아마도 해당 범위에 속하는 개체 또는 사건의 수를 나타내는 것으로 보입니다. 이 정보는 특정 기간 동안의 분포, 빈도, 또는 비율을 파악하는 데 사용될 수 있습니다.\n",
      "이 텍스트는 주간 보고서에 대한 내용을 담고 있으나, 특정 정보나 데이터를 파악하기 어렵습니다. 표의 내용이 불분명하며, 텍스트는 불완전하고 혼란스러운 정보를 제공하고 있습니다. 이러한 형태로는 요약이나 검색 최적화가 어렵습니다. 원본 텍스트나 표의 명확한 정보가 필요합니다.\n"
     ]
    }
   ],
   "source": [
    "print(table_summaries[0])\n",
    "print(text_summaries[0])"
   ]
  },
  {
   "cell_type": "markdown",
   "id": "e65d0ecf",
   "metadata": {},
   "source": [
    "이미지 요약"
   ]
  },
  {
   "cell_type": "code",
   "execution_count": null,
   "id": "c349e787",
   "metadata": {},
   "outputs": [],
   "source": [
    "import base64\n",
    "from langchain_core.messages import HumanMessage\n",
    "\n",
    "def encode_image(image_path) -> str:\n",
    "    with open(image_path, \"rb\") as image_file:\n",
    "        return base64.b64encode(image_file.read()).decode('utf-8')\n",
    "    \n",
    "img_base64_list = []\n",
    "img_path = r\"이미지폴더경로\"\n",
    "\n",
    "for img_file in sorted(os.listdir(img_path)):\n",
    "    if img_file.endswith('.jpg'):\n",
    "        path = os.path.join(img_path,img_file)\n",
    "        base64_img = encode_image(path)\n",
    "        img_base64_list.append(base64_img)\n",
    "\n",
    "def image_summarize(img_base64:str) -> str:\n",
    "    chat = ChatOpenAI(model=\"gpt-4o\", api_key=api_key, max_tokens=1024)\n",
    "    prompt = \"\"\"\n",
    "        당신은 이미지를 요약하여 검색을 위해 사용할 수 있도록 돕는 어시스턴트입니다.\n",
    "        이 요약은 임베딩되어 원본 이미지를 검색하는 데 사용됩니다.\n",
    "        이미지 검색에 최적화된 간결한 요약을 작성하세요.\n",
    "    \"\"\"\n",
    "\n",
    "    msg = chat.invoke(\n",
    "        [\n",
    "            HumanMessage(\n",
    "                content = [\n",
    "                    {\"type\" : \"text\", \"text\":prompt},\n",
    "                    {\n",
    "                        \"type\" : \"image_url\",\n",
    "                        \"image_url\" : {\"url\" : f\"data:image/jpeg;base64,{img_base64}\"},\n",
    "                    },\n",
    "                ]\n",
    "\n",
    "            )\n",
    "        ]\n",
    "        \n",
    "    )\n",
    "    return msg.content\n",
    "\n",
    "\n",
    "image_summarizes = []\n",
    "\n",
    "for img_base64 in img_base64_list:\n",
    "    image_summary = image_summarize(img_base64)\n",
    "    image_summarizes.append(image_summary)\n"
   ]
  },
  {
   "cell_type": "code",
   "execution_count": 42,
   "id": "1ef385ca",
   "metadata": {},
   "outputs": [
    {
     "data": {
      "text/plain": [
       "['\"2025 말라리아 주간 소식지 표지, 27주차(6.29~7.5), 말라리아 감시 주간 보고서, 모기와 연구자 그림 포함, www.kdca.go.kr\"',\n",
       " '질병관리청 로고, 태극 문양, KDCA 텍스트 포함.',\n",
       " '국내발생 및 해외유입에 따른 2021년부터 2025년까지의 발병 수 바 그래프. 각 연도별 국내발생과 해외유입 수치가 표시되어 있으며, 2023년에 가장 높은 수치를 기록함. 2025년 수치는 1주부터 27주까지 기록됨.',\n",
       " '2024년과 2025년의 주별 발생 수 비교 그래프. X축은 주차, Y축은 발생 수(명)를 나타냄. 2024년은 파란색, 2025년은 빨간색으로 표시됨. 2025년 초에 급증하고, 중반에 최고점을 이룸. 2024년에는 더 큰 변동이 있는 패턴을 보임.',\n",
       " '남녀 연령대별 발병 수 비교 바 차트: 2024년과 2025년 각 연령층(0-9세부터 70세 이상)에서의 남성과 여성 발병 수를 나타냄. 20-29세 남성의 발병이 두드러짐.',\n",
       " '말라리아 발생 분포 지도, 한국의 27주차 환자 수 컬러 코딩: 0-0 명(흰색), 0-1 명(연한 분홍색), 1-5 명(더 진한 분홍색), 5-12 명(연한 빨강), 12-52 명(진한 빨강). 북한 접경 지역에서 높은 발생.',\n",
       " '한국 지도에서 말라리아 발생 분포를 색으로 표시한 이미지. 북서쪽 지역에서 감염이 집중된 모습이며, 진한 빨간색일수록 높은 발생률을 나타냄.',\n",
       " '평년(2022~2024), 2024년, 2025년 매개모기 발생 추세 그래프. X축은 주 단위(4월-10월), Y축은 모기지수(개체 수 채집기수/일). 2025년은 낮은 모기지수 유지, 2024년은 6월 초 급증 후 감소, 평년은 완만한 증가 후 감소.',\n",
       " '```\\n두 캐릭터가 있는 일러스트: 왼쪽 캐릭터는 모기기피제를 사용, 오른쪽 캐릭터는 활동 자제 표시. 배경에 \"3시간마다 모기기피제 사용\", \"일몰 후부터 일출 전까지 활동 자제\"라는 문구.\\n```',\n",
       " '밝은색 긴 옷 착용, 야외활동 후 샤워 권장하는 일러스트. 사람 두 명: 뛰는 아이, 샤워 중인 사람.',\n",
       " '방역 스프레이를 뿌리며 여행 준비를 하는 커플, 캐리어를 끌고 있으며 모기가 주변에 있음.',\n",
       " '말라리아 예방 캠페인 포스터, 사람들이 모기 퇴치 스프레이를 뿌리는 모습, 질병관리청 로고 포함.',\n",
       " '말라리아 예방을 위한 기피제 사용 안내 배너: 모기기피제 사용, 밝은색 긴 옷 착용, 야외활동 후 샤워 강조. 질병관리청 로고 포함.',\n",
       " '말라리아 발생현황 텍스트와 캐릭터 일러스트.',\n",
       " '그래프는 2019년부터 2024년까지 연도별 전체, 국내 발생, 해외 유입 수치를 보여줍니다. 전체 수치는 빨간색, 국내 발생은 녹색, 해외 유입은 파란색으로 표시되어 있으며, 2019년 559명에서 시작해 2023년 747명으로 증가 후 2024년 소폭 감소하여 713명을 기록합니다. 국내 발생과 해외 유입은 각각 별도로 표시되며, 연도에 따라 변화 추이가 다르게 나타납니다.',\n",
       " 'A cartoon illustration of a person with sweat and a worried expression, holding their forehead. The character is wearing a yellow vest.',\n",
       " '만화 스타일의 여성 캐릭터가 땀을 흘리며 당황한 표정으로 트림하는 장면.',\n",
       " '대한민국 수도권과 강원도를 색상으로 구분한 지도. 서울은 녹색, 인천은 주황색, 경기는 파란색, 강원은 보라색으로 표시됨. 각 지역에 레이블이 있음.',\n",
       " '10개 지역의 막대그래프: 파주시(308), 김포시(141), 인천시(86), 고양시 일산서구(60), 강화군(59), 고양시 덕양구(40), 고양시 일산동구(40), 서울 강서구(38), 연천군(36), 횡성군(32).']"
      ]
     },
     "execution_count": 42,
     "metadata": {},
     "output_type": "execute_result"
    }
   ],
   "source": [
    "image_summarizes"
   ]
  },
  {
   "cell_type": "markdown",
   "id": "74c07179",
   "metadata": {},
   "source": [
    "VectorDB 추가"
   ]
  },
  {
   "cell_type": "code",
   "execution_count": 43,
   "id": "76f67523",
   "metadata": {},
   "outputs": [
    {
     "name": "stderr",
     "output_type": "stream",
     "text": [
      "C:\\Users\\kimji\\AppData\\Local\\Temp\\ipykernel_2496\\3789183265.py:6: LangChainDeprecationWarning: The class `Chroma` was deprecated in LangChain 0.2.9 and will be removed in 1.0. An updated version of the class exists in the :class:`~langchain-chroma package and should be used instead. To use it run `pip install -U :class:`~langchain-chroma` and import as `from :class:`~langchain_chroma import Chroma``.\n",
      "  vectorstore = Chroma(collection_name=\"multi_modal_rag\", embedding_function=OpenAIEmbeddings(api_key=api_key))\n"
     ]
    }
   ],
   "source": [
    "from langchain.retrievers import MultiVectorRetriever\n",
    "from langchain_core.stores import InMemoryStore\n",
    "from langchain_openai import OpenAIEmbeddings\n",
    "from langchain_community.vectorstores import Chroma\n",
    "\n",
    "vectorstore = Chroma(collection_name=\"multi_modal_rag\", embedding_function=OpenAIEmbeddings(api_key=api_key))\n",
    "docstore = InMemoryStore()\n",
    "id_key = \"doc_id\"\n",
    "\n",
    "retriever = MultiVectorRetriever(\n",
    "    vectorstore= vectorstore,\n",
    "    docstore= docstore,\n",
    "    id_key=id_key,\n",
    ")"
   ]
  },
  {
   "cell_type": "code",
   "execution_count": 44,
   "id": "e0f7267e",
   "metadata": {},
   "outputs": [],
   "source": [
    "import uuid\n",
    "\n",
    "doc_ids = [str(uuid.uuid4()) for _ in texts]\n",
    "retriever.docstore.mset(list(zip(doc_ids, texts)))\n",
    "\n",
    "table_ids = [str(uuid.uuid4()) for _ in tables]\n",
    "retriever.docstore.mset(list(zip(table_ids, tables)))\n",
    "\n",
    "img_ids = [str(uuid.uuid4()) for _ in img_base64_list]\n",
    "retriever.docstore.mset(list(zip(img_ids, img_base64_list)))"
   ]
  },
  {
   "cell_type": "code",
   "execution_count": 45,
   "id": "db4df168",
   "metadata": {},
   "outputs": [
    {
     "data": {
      "text/plain": [
       "['f36fe3e2-1cb4-4ad6-a100-254b41efd6b6',\n",
       " 'bd656dc5-759c-4a29-ad9a-6673ed9ea4ac',\n",
       " 'd628c12a-06a5-4fe5-b083-98d79c9c0dc8',\n",
       " 'd9a4da5c-ddb3-4cbd-8197-16abd343d29b',\n",
       " 'bd4a5b6a-7a3c-4dab-8257-f64580b952fa',\n",
       " 'c7eee61d-83b3-4a17-a90f-c7db0635f1f7',\n",
       " 'cffaf7b5-4418-4013-b0cb-8cbacc83f548',\n",
       " '9f133a96-b038-4b45-a228-7c11532eef0b',\n",
       " 'a0c5f799-aaae-4923-ad86-ae1234a6534b',\n",
       " '3d486cf4-f71f-4e32-a303-c1e2327738c6',\n",
       " '3491b6ea-a887-44be-803b-90ced194967b',\n",
       " '05e2259c-d0eb-494c-8fe4-14cdbaf7fa4d',\n",
       " '705c6d25-bb49-4aac-84a5-0b4a3ea1d48b',\n",
       " '0401f94f-596a-495a-aa39-c7da3a327443',\n",
       " '410334ad-7706-4d9a-a536-6703ae24038c',\n",
       " '8e7c065c-a85f-4f22-89f4-9161e22be2b4',\n",
       " '44f7da85-7ca4-414d-8418-99a0b89dba64',\n",
       " '72d22127-6cff-4fa8-8437-ee9a898dbb43',\n",
       " '7b940f09-d20f-46f4-bd26-3736b762acb6']"
      ]
     },
     "execution_count": 45,
     "metadata": {},
     "output_type": "execute_result"
    }
   ],
   "source": [
    "from langchain.schema.document import Document\n",
    "\n",
    "summary_texts = [\n",
    "    Document(page_content=s, metadata={id_key : doc_ids[i]})\n",
    "    for i,s in enumerate(text_summaries)\n",
    "]\n",
    "retriever.vectorstore.add_documents(summary_texts)\n",
    "\n",
    "summary_tables = [\n",
    "    Document(page_content=s, metadata={id_key : table_ids[i]})\n",
    "    for i,s in enumerate(table_summaries)\n",
    "]\n",
    "retriever.vectorstore.add_documents(summary_tables)\n",
    "\n",
    "summary_img = [\n",
    "    Document(page_content=s, metadata={id_key : img_ids[i]})\n",
    "    for i,s in enumerate(image_summarizes)\n",
    "]\n",
    "retriever.vectorstore.add_documents(summary_img)\n",
    "\n"
   ]
  },
  {
   "cell_type": "markdown",
   "id": "00b2982f",
   "metadata": {},
   "source": [
    "검색확인"
   ]
  },
  {
   "cell_type": "code",
   "execution_count": 46,
   "id": "6778d07e",
   "metadata": {},
   "outputs": [
    {
     "name": "stdout",
     "output_type": "stream",
     "text": [
      "4\n"
     ]
    }
   ],
   "source": [
    "docs = retriever.invoke(\"말라리아 군집 사례는 어떤 건가요?\")\n",
    "print(len(docs))"
   ]
  },
  {
   "cell_type": "code",
   "execution_count": 47,
   "id": "fa01f085",
   "metadata": {},
   "outputs": [
    {
     "name": "stdout",
     "output_type": "stream",
     "text": [
      "4\n",
      "0\n"
     ]
    }
   ],
   "source": [
    "from base64 import b64decode\n",
    "def split_image_text_types(docs):\n",
    "    b64 = []\n",
    "    text=[]\n",
    "    for doc in docs:\n",
    "        try:\n",
    "            b64decode(doc)\n",
    "            b64.append(doc)\n",
    "        except Exception as e:\n",
    "            text.append(doc)\n",
    "    \n",
    "    return {\n",
    "        \"images\" : b64,\n",
    "        \"texts\" : text\n",
    "    }\n",
    "\n",
    "docs_by_type = split_image_text_types(docs)\n",
    "\n",
    "print(len(docs_by_type[\"images\"]))\n",
    "print(len(docs_by_type[\"texts\"]))"
   ]
  },
  {
   "cell_type": "code",
   "execution_count": 48,
   "id": "4e966fe0",
   "metadata": {},
   "outputs": [
    {
     "data": {
      "text/html": [
       "<img src =\"data:image/jpeg;base64,/9j/4AAQSkZJRgABAQAAAQABAAD/2wBDAAgGBgcGBQgHBwcJCQgKDBQNDAsLDBkSEw8UHRofHh0aHBwgJC4nICIsIxwcKDcpLDAxNDQ0Hyc5PTgyPC4zNDL/2wBDAQkJCQwLDBgNDRgyIRwhMjIyMjIyMjIyMjIyMjIyMjIyMjIyMjIyMjIyMjIyMjIyMjIyMjIyMjIyMjIyMjIyMjL/wAARCABUAZYDASIAAhEBAxEB/8QAHwAAAQUBAQEBAQEAAAAAAAAAAAECAwQFBgcICQoL/8QAtRAAAgEDAwIEAwUFBAQAAAF9AQIDAAQRBRIhMUEGE1FhByJxFDKBkaEII0KxwRVS0fAkM2JyggkKFhcYGRolJicoKSo0NTY3ODk6Q0RFRkdISUpTVFVWV1hZWmNkZWZnaGlqc3R1dnd4eXqDhIWGh4iJipKTlJWWl5iZmqKjpKWmp6ipqrKztLW2t7i5usLDxMXGx8jJytLT1NXW19jZ2uHi4+Tl5ufo6erx8vP09fb3+Pn6/8QAHwEAAwEBAQEBAQEBAQAAAAAAAAECAwQFBgcICQoL/8QAtREAAgECBAQDBAcFBAQAAQJ3AAECAxEEBSExBhJBUQdhcRMiMoEIFEKRobHBCSMzUvAVYnLRChYkNOEl8RcYGRomJygpKjU2Nzg5OkNERUZHSElKU1RVVldYWVpjZGVmZ2hpanN0dXZ3eHl6goOEhYaHiImKkpOUlZaXmJmaoqOkpaanqKmqsrO0tba3uLm6wsPExcbHyMnK0tPU1dbX2Nna4uPk5ebn6Onq8vP09fb3+Pn6/9oADAMBAAIRAxEAPwD3+iiigApMilqMnDZ9aAOa8a+NLHwZpJu7rMk8hK28CnmRsfovqTXztrvxM8U69cM0mpzWsWciC0cxhPbIwT+NWPixrcus+P71Wf8Ac2RNvCvZcAbv/Ht35LXP6R4evtZIEJhgt9+w3F1MIot3pk9T7DNF0txpXH2vizxFYzLNba5fK2eCZ2Iz6EEkH8Qa9J8PfHS/tpI7fxBYrPHnDTwfK49yvQ/hWx4V+CdhZTxX+uXi35ADLBCMRHvyerD/ADzXmvjjwwuma3ez6UrT6aGJJWFkEJPYgjgenale24JXdkfUOk6tZ6xpsN/YyiW2mG5GXn8/Q+1X68Q+AesSyLqejs5aOMCeP0HOG/mK9uXpTE9BaKKKACiiigAooooAKKKKACiiigAooooAKKKKACiiigAooooAKKKKACiiigAooooAKKKKACiiigAooooAKKKKACiiigAooooAKKKKACiiigAooooAKKTI9aMj1oAWoZZFjR3cgKoJJPapdwHevJfjP42Ok6eNBsJNt3doTM4PKRnjH49PpmgNeh45dafd+J9f1i+sEV1e8eRcsBuMjsQFz3wD+VeoNJaeF/BlrLqNrM9vayraJbQttO8/eZj6kivOPBPiy38M3c0V9p8d7Y3DxtIjDlGjJwyn15NfRF7ottqMLX9ncg29wqyspUSI3H3wPXFY1Yt6o6KE1HTbzMoavqVhBNYwN5sa7BHNIcsofp+IBrNs5tL1nUtZ0WFrxb+wQmS4dztk9eKxbvxh4YuLWGCW41OHM/myTm2J80dMZ7V0uuWh0Pwzf6r9tjWB4NxYRbZZePlBNYKE76nTKrBqy0/U5L4P6edI+IGq20isivY74t38Slxgj8j+Ve6qcivmDwl45nT4jadqV9tSIotm4XoqEYH6nNfScGqWM17JZR3UTXMYy0QbkCuuGxwT+K5dooBzRmqJCikyKMigBaKTcPWlyKACijIpMigBaKTIoyPWgBaKTIoyKAFopMijI9aAFopMijI9aAFopMjOM0ZHrQAtFJketGR60ALRSZHrS5FABRSZHrRketAC0UZFJketAC0UmRRkUALRSZHrRuHrQAtFJketGR60ALRSbh60bh60ALRSbh60ZHrQAtFGaTI9aAFooyKTI9aAFooooAq3l3bWNrJc3MyRQxgszscAVzMHxG0GXktcxxnpK9uwQ++cdKs+OdKuNX8OTRWqb5YnWcJuxv25O0HBwfwNedaPpk17Ol9bafJcCP5njVomfcP4CymJ1P8AvA0AdTpHjee5nkv7toG0WWZ4BMikfZ2H3d/sfWvGfi4Jh8RNQaUgxssbQt/sbR0P1Br3+zmvLlmsr/wy1nb3KnzH3xyLnHRtp/XmvP7/AMEWPjTwq8sN9HDe6TNNbxzSnIEascK/fAHQ+nahruHoeEkELg9e+fyNer/C34g6pYyR6BLZzajbkExCMZkjAGTj1Fc/oPhODyxdXv70HmOMcADtn19a67Snfw/q8Op6VBbiVEMbxEbVkQ9QWwSDwDnBrilj6canIenHLK0qXOkdP9g8L/bhOLLW3CyeYunG2fYH/wB3Gf6V5p8RviFeeKpf7OhtpLTToGI8mT7zsP72OmPSvUpviVdvEUt9DdZyMB5Zl8sH8Mn8wK4prRLhXN3HHPJM5kk3LwWPpRWx9KmtNRYfLa9d9ku55HCCJowmd2RjA5znivonwhEY5fDU9wUF5cSXssz9C2MoOvX+GvPLXSNJ8P62urz2z3FuikxQdhN/Bn1XP9O1amu2sWj3cNlqF5qEk0cbTTSrZlFgRcuVgZu5dlXfgj5uorppVY1Y80Tkr0Z0J8kz6CUjOD19KDz0/OvP/A+talNcWtjd3yahFPavMkwjIMZRlG0v0kGHGGHXBrvxgDrWhgeP+OvizqvhfxVc6XbWdvJFGFIZyc8iud/4Xxr466Za9M/xVg/GEj/hY197Ih/Su21nxB4Pl+F8llb3WnHU/sQUIsY378fzoA1vhz8TdT8ZeIpdPu7SCKNIGkBjJzkED+tc741+LHibw/4w1HS7I2f2eCRVTzIcscqpPOfesr4Ef8jxPwf+PNz+q1znxR/5KXrf/XVeM9fkXigD6U1DWHtPClzqkTRyzw2pl2g8ZxmvFf8AhfWu/wDQOtPzNdL8HfDGs6amrrrtlIttdQxLGJmDCQfNnH5ivQf+EO8MEZ/sPT+e/kLn+VAHjJ+Peu4z/Z1p+Zr0mDxlqF38KZ/E6xxx3i28kirjK5UnH8q8s+NemafpniCwj0+0gt0a3JZYkC859q7HS+f2dbj/AK9Zf5mgZH8MPiT4g8WeKX0/UvspgW2aUeVFtOQwHXPoa7f4heJbnwn4YbU7SJJZBKqbX6YIJ/pXifwVvrTT/G8k15cw28X2J13yuFGcrxk19FXVpp2tWKpcxW95aSYkXcA6MCOCPzoEeD/8L613Gf7Ns8fU0f8AC+9cOP8AiXWmM4PJr2c+DfDHT+w9PH/bFa+bvihaWtj48voLSCOCBdpVIxgD8KB2PcfHXi/UtB8B2Ws2IiW5m8osHTco3AE8cVU+E/jbV/GcOqvqvkE2rRCPyY9v3t2c8/7NZfxUIPwj0vB/ht//AEEVS/Z5/wCPTX/9+D+T0BYvfEP4t3HhrW30fSbeOWaEAzTS8hSeQuPxriE+OPixXzItg6jJ2+SR+ua5/wCJfPxF135uTcY5/wBwV7T8QvDOiWnw01Ge20mzhmhhRkkjgVWBLKCcgZ9aBFv4b/EI+NYLiC6gWC+t8F1RsqynuK4TxF8WvE2meMrzSrc2f2aG58pN0JJ28dTmqfwFY/8ACV3w55t+fzrkfGZC/EnUiSABe5JP1FA7H1fAzPBGx6soJ/Gs/wAS6lLovhrUdSgVXktbd5VDdCVBPNT6VqVjqFqos7yC4MaKH8qQNtJHGcdOlZnjz/kQdex1+xS/+gmgR5r4W+NkmoawIdcS1s7HyifOGc7hjA/nUvi741jT9Tij8P8A2a+tTHl3bIw2eleS+ENN0fVtdFrrmoiwtPKY+cWA5GMdfqam8ZaRoej6pFBoGqf2jatFueQMDhsnjigdj3yXxjqMnwnbxNEkUd55BkCkZUHNc78MfiTrXirX57PVpLRYEgMi+XHsO4Ed80qkH9nbGf8Al1/rXimh6Nq+t3clvo9vLNcKm5ljOCFoCx9c6xqkWkaHfalIQY7aBpevXAyPzrwv/hfeuf8AQOs/zNdP8TtSm0b4TaXpUu5Ly7ihgkTOSNqgvn8QB+NeOP4bnHgePxJyI2vmtsY7BBg/TIagR9I+JPFcun/D1vEenrG7tCkqB+R8xH+NcToHxR1zWPCviLUZIraOfT7cSQ7U43Zwc+orIsdY/tP9n7ULZ2BksXEPPXbuBH6GvK7QambK7+x/a/sm0favILBNv+3g4x9aB2PefhV8QNc8Y6zfWuqfZvKhtxInkxbTncBzzVbU/jnBp+pXlj/Y8rNbzPEGDjGVYjP6Vgfs/n/ipdW/68x/6GKPid4i0nRPEc2nab4d0xpx+9uLm4iLZJ54AI55oCxhWXxf8Sw6tDPc3jTWSSh2t8DLLnpmvR/DnxptNd1+00x9Ne2WdiDLJINqgKT/AE/WvMJr7xDb2H2+fwZZR2e0P9ofTXCYPQ7icdx+db3hx9N8eeGtX0kaPpdjrUcSvDcqCkZG4ZPU4OBj8aAsaPjT4teINF8WXlhpktjJaRkBGMW4nj1zXsMmqtb+G/7TkTzJFthOyLxuO3OK+R9d0afQtWm064likmiIBeI7gfoa+urAhfDdq20MRaIcEZzhBQI8g1T45XNxps0Wn6PPb3LDCSschfwrH8P/ABk8Q2V876zBJfQGIqqImwh8jn8gfzrnbvxVq+teJHhutVi0u2aZk3CHakQz3Cgk/jUuv3U+hxwS6f4yi1N2baUhGSv5rjFA7HsWkfEmXxD4W13UrWwNnNp0O9BL8wY4J6enFc18OPid4i8UeLYtM1L7J5DRO5EUO05GO+aueF9bvNd+DOvXV9DGtxFFND5qRhPNUICCccfxEfhXinh3xDfeF9VXUdOMSzqpQGVSykH2BoCx9lL0orE8G6pca14Q0vUrrb59zAsj7RgZNFAjaIyf6isLUvC2lajcm6MD294Ol1ayGGUf8CUjP45rfpvrQFu54teav4kgur/SZtevPLt5THwkYdk6j5goI+vWsR72bRra6srXetvqiC3mIb7pLZLfUgsM+pFdj8QdONj4hg1NB+4vE8mT2kH3fzFcrNDHcxeVLzyPwI7/AJ14mKrVKVezeh9FgsNRr4VuK1AyFb0QYULsLcexxUoGAKq8NqmB2gJxnn7wq4DmvNqLXm6s9mi3d9tBKQ+/A9R1p1NbGeenpUptSTN99zIdw2k3kchkcxM4z1bPUAfnXpkHirQ9QfTtcvtUtbOWytJhc2kxCylnC5Cg8sPlbpnPFeZKN37tW4nu95xzwuCf0XFaV00cME00iqViUs2R2r1aOJ9jLlS3PAxGEeKgql9kep+GFl1fUJvE0kYit7mBIbCIEErbjJ3HHGWJzgdsV1XPoT9KyPClmdP8J6RaPnfDZxI2fUIAf1rZFe0fOvc8R+KfhzwxD4kGpa5qeowS3iDalvCrjA47kVwf9n/DoDnW9c4/6dU/+Kr0z40arp+nXemi90S31EtGxUyuy7Rn2IrzSO9W7UT2Pw8t5bc/ddYrhwfxDYoEdF4M17wF4M1eTUrbUdWuXeIxbJLZQMEg/wB72rL8TXXgnxH4hvNXbW9Uga5cN5S2QIBCgYzu9qha01KeNWT4dQKuc58qf+Rasefwd4lvbuS4h8OXNumeY0jwqj2zzQOx9K65I1r4CvZbOWRDHYlopFO1hheDkdK+Y9Nn8U+JNQWwsb6/u7pwSEe7Y5A68sQK+mtfRo/hxfxuCGXTmBB7HZXzn8OPEFj4b8YxajqDutuiOrbFycnHagRpp8JPHV4Q1xZY7fv7pWYfkxFeoT6LeeH/AIGX2m34QXMVpJvCHI70+b44eEonKqL+Q/7MIwf1qtqnjzTfGfw+8TfYIZ4xbWh3ebgdQff2oHc8O8NeGdR8V6kbDTFjadYjKRI+0bRgdfxFe4+PV1Hw98GdMtFuZre7tktreR4JSpJVMEZHbIrg/gT/AMj7L/14v/Na9K+Nv/JPJOf+XmP+RoEeIaLpXjLxaJTpr3t6sRAfddBQp/4E3NbKfBrxrMxaS1t0Y8kvOCT9SDWj8JvHGieEbTUI9VklRppAyhE3dBXeTfHTwqvMcWoOc4/1KgfzoHcq/F23ez+F9jaykeZCYY2we4AB/lWd+zz/AMeuv/78H8np3xI8TWfi34WJqlkjpCbwR4k4OR/+umfs9HFrr/8AvwfyegLnm/xK/wCSja3/ANfH9BX0B8SyP+FVat/17x/+hrXz/wDExCvxF1xWBXdP390GDXpvjb4m+GtY8A32m2d1I13cQoioUIAIYHr+FAjn/gL/AMjbff8AXt/WuN8dIZPiDq8a9Wuyoz6nFdn8BUc+Kb5wMqLbk/jXI+Mv+Sl6j/1/f1FAz2n4Q+D9W8J2epjVVjBu2iaPY+7hQ3P6iu613SxrWhX2mNIY1uoGiLgZKhhjOO9XLX/j1h/3F/kKlb7px6UCPlmbw/4FgleKXxVfq6HYQLDIyD65ph0XwEP+Zr1Af9uH/wBeorrU9Bl1e4gj8IRzTtMy/Jcz7pDk5OFaiS0fd+6+Hcir/tC7P8noKO8fxh4L/wCFeHwomtXIXyfK+0NZs2Oeu3OP1pfg9pug2fie5fS9fl1CX7Md0TWRhCjI5yWNcDc6Fql1bEQeBntWYfLLGZ2YfgzEfpXbfBbw7q2leK7u4v8ATbi3ja2Kh5Uxk5FAHbfEj4eXPjgWkttqS28lsrBYpUyj5xySOR0rMu9D0e2+FK+D59c0i21JIw5aW8VQJt+4nk7uuRXWfEO/n0zwHq93bOY5lh2qw6jJxkfnXzT4X8NSeK9UmtV1C2tHRPMaS5fAbnoMn3oJPRrPwjpuk+CtX02Dxnolzd34T92buNI0YHOclien8qq+G/DqaT4U8R6fP4g8PtcahAscJj1FMZBzye1VP+FNzf8AQzaR/wB/B/8AFVla/wDDOXQdHn1Fte0y58oZEUbjc305oKPRPhD4L1Tw7qt7qF5LaS21xbCONracSAncD1Fcn8YPDGsr4ym1aCymntbhV2SQoX2EAdcCrvwG1G5OvahYGZzbNbh/KZicNkcj04rf+MPjHXPDOo6dDpd75Ec8TtINitnBA7j3oFc4rVPiD4y1nw1LoVxoUa2rxpE0iWcokABGD94jPy+lSeB/AHiDU/DuvMbVrdru3SCD7TmMud6uTyDxgda9M8AeN7G+8IWs+u6vZ/2gzOX811VsBjjj6V1K+LfDYGBrdj/3+FAXPk3XtEuvD2rz6bemL7TCQGMZJB+hr6j1TXX8NeAY9WS3FwYLWNvLLbQflHcA15p4u8E6J4n8S3eqp42023W4OREQG2/jur2O0tbW40O3tJfJu7fyUTJXKOAMZxQI+afE/jfSPEUcz/8ACI2drey8/ao5mVgfUgYz+Nczo+oW2m3Ty3OmW+oAx7FiuGYKD1z8hXPQ9fWvQvHPjm40/wAS3WkaDY6fZwWriPetqhZz+IPemQaj8Uwm6CynCuNwYWsfI7Y4oKNrw3411HX/AAj4g0ybSbGwsoNNkeBbK3aJTjr1Yg1yHwksLTU/HUdvfWlvdwGByYp41dCeMZUjBrWuNZ+KsVrM9xBcrAEJk3W0eNo654/StT4W+O72/wDFMOl6haWjtKGWO4jt0R1IGeSoFArnutpbw2lrHBbQxwwxjakcahVUegA6UVMvK0UCFpvrTqKAMrWtHttc06axulzHJ0IHKkdCPcV543w819ZTFHeWjRZwJWU7tvuPWvWKaevSsqlGE/iRtRxFSlpTdjwrU9Dj0TxNdWqSvMy20O+V+rPlycegwVH4U0EYH0rR8eXdvZeOLpLuZYmmhhaPfwGA3A/rWQLmBhkTRkHodwrwcdTarNpaH1OWVouglKWpPmmn5uKj+0QgczRj/gQqtPq+nW2RNeRKeuC1c0KcnJaHdOtTjFtyINMhlsrGKa8TEE7yNDOR8o+Y5U+hrStbP+37+30i3/ei4kVZihyEi/jJP+7kCus+F+qadr2jajphWK4jt7jcFdAQVYeh9wfzr0Gy0yx09WFnaQwbuvloBn6mvcjg4ykqjZ8s8xnTpulH7y2gwo9vSnikXvTq9A8o8y+KngLVfGdzYPpzwqIEYN5jY5zXBx/BbxjCmyPUIVTsFmKj8q+iaKBnzz/wpvxp/wBBOP8A8CGpD8HPGoII1KPPb/SGr6HooC5iTaRJeeFG0iaTY8lp5DyAZwduCa8wj/Z/tORJrU/XqqD+te1UUAeRw/APQkz5mp30n1CitVfhbZ6R4Y1nTtFlkM2oW5hJmbjNej0UAeQfDT4aa14R8UPqOoSwPE1u8eImzySp/pXdeNvC48YeH20prg24aVX3hc9AeP1rpaKAPGIvgBYbgZdauiDydsa1ch+AmgRgeZf3shByScD+Vet0UAeY+IPhkT4CHhzQZDj7V5+Z2+mf5VN8LPA2p+C4tVTUZIW+1GIp5Jzjbvz/AOhCvSKKAPPPGvwr07xhqI1AXD2d6QFeRBkOBwMj1wBXLH9n+ID/AJDkn/fuvbKKAOR8FeBbDwVZyRWjPNNMf3sz9Wx0H0rzfX/hFr+p+LrvVYZLUQzXPmqGY5xxXu1FAXIYFMcEaHGQoBx61KehpaKAPne5+CnieTUJ7mG4tULyl1IfBXJPenf8Kb8af9BOP/wIavoaigdz55/4U340/wCgnH/4ENXW/Dz4feIvDPiFr3VbxJoDCV2rKW+btwa9ZooC5la9pEWv6DeaXOxWO5jMe4dVz0P514JdfA3xTBMRZzWkycjd5uz9K+kKKBHzT/wpbxt/06f+BX/1qP8AhSnjNzh/sgXPObjP9K+lqKB3PNvhp8N5vBrXN5eTpLezrsCp91F61W+KPw+1XxjqNhPp7wqlvE6N5rY6kH+lepUUCPm//hRXif8A57WX/fdH/CivE/8Az2s/++6+kKKAPm//AIUV4n/57WePZ6990Gxl07QbGyn2+bBEqNt5GRWnRQB4l44+Depax4iutV0i5hK3DeYYpTja/sfSucHwh8f4H+kQj6Xpr6QooC583H4QePmBVpoSp65vTyPTFdf8PPhPf+G9fj1fVLmMvEpEcMXPJ7k17FRQAi9KKWigArJuNSmiuJEVUwpwMg/40UUCZH/a0/8Acj/I/wCNNOr3H92P8j/jRRTIZ4L8YriS/wDGkBmwBHaKqheB94n+teeCJSoyT0ooq5JFRk+4vkr70eSvvRRSikOUnbc9K+DF1LY+JbxYiCslthg3T7wr3JNWuMfdj/I/40UU5GUdx39rT/3I/wAj/jR/a0/9yP8AI/40UVBYf2tP/cj/ACP+NH9rT/3I/wAj/jRRQAf2tP8A3I/yP+NH9rT/ANyP8j/jRRQAf2tP/cj/ACP+NH9rT/3I/wAj/jRRQAf2tP8A3I/yP+NH9rT/ANyP8j/jRRQAf2tP/cj/ACP+NH9rT/3I/wAj/jRRQAf2tP8A3I/yP+NH9rT/ANyP8j/jRRQAf2tP/cj/ACP+NH9rT/3I/wAj/jRRQAf2tP8A3I/yP+NH9rT/ANyP8j/jRRQAf2tP/cj/ACP+NH9rT/3I/wAj/jRRQAf2tP8A3I/yP+NH9rT/ANyP8j/jRRQAf2tP/cj/ACP+NH9rT/3I/wAj/jRRQAf2tP8A3I/yP+NH9rT/ANyP8j/jRRQAf2tP/cj/ACP+NH9rT/3I/wAj/jRRQAf2tP8A3I/yP+NH9rT/ANyP8j/jRRQAf2tP/cj/ACP+NH9rT/3I/wAj/jRRQAf2tP8A3I/yP+NH9rT/ANyP8j/jRRQAf2tP/cj/ACP+NH9rT/3I/wAj/jRRQAf2tP8A3I/yP+NH9rT/ANyP8j/jRRQAf2tP/cj/ACP+NH9rT/3I/wAj/jRRQBasrl7oSM6qCpA4zRRRSLR//9k=\"/>"
      ],
      "text/plain": [
       "<IPython.core.display.HTML object>"
      ]
     },
     "metadata": {},
     "output_type": "display_data"
    }
   ],
   "source": [
    "from IPython.display import display, HTML\n",
    "\n",
    "def plt_img_base64(img_base64):\n",
    "    image_html = f'<img src =\"data:image/jpeg;base64,{img_base64}\"/>'\n",
    "    display(HTML(image_html))\n",
    "\n",
    "plt_img_base64(docs_by_type[\"images\"][0])"
   ]
  },
  {
   "cell_type": "code",
   "execution_count": 49,
   "id": "b0eec99d",
   "metadata": {},
   "outputs": [
    {
     "data": {
      "text/plain": [
       "'말라리아 군집 사례에 대한 정보는 제공된 문맥에 포함되어 있지 않습니다. 추가적인 세부사항이 필요합니다.'"
      ]
     },
     "execution_count": 49,
     "metadata": {},
     "output_type": "execute_result"
    }
   ],
   "source": [
    "from operator import itemgetter\n",
    "from langchain.schema.runnable import RunnablePassthrough, RunnableLambda\n",
    "\n",
    "def prompt_func(dict):\n",
    "    format_texts = \"\\n\".join(dict[\"context\"][\"texts\"])\n",
    "    text = f\"\"\"\n",
    "        다음 문맥에만 기반하여 질문에 답하세요. 문맥에는 텍스트, 표, 그리고 아래 이미지가 포함될 수 있습니다.\n",
    "        질문 : {dict[\"question\"]}\n",
    "        텍스트와 표 : {format_texts}\n",
    "    \"\"\"\n",
    "\n",
    "    prompt = [\n",
    "        HumanMessage(\n",
    "            content = [\n",
    "                {\"type\" : \"text\", \"text\":text},\n",
    "                {\"type\" : \"image_url\", \"image_url\" : {\"url\" : f\"data:image/jpeg;base64,{dict['context']['images'][0]}\"}},            \n",
    "            ],\n",
    "        )\n",
    "    ]\n",
    "\n",
    "    return prompt\n",
    "\n",
    "\n",
    "model = ChatOpenAI(temperature=0, model=\"gpt-4o\", max_tokens=1024,api_key=api_key)\n",
    "\n",
    "chain = (\n",
    "    {\"context\" : retriever | RunnableLambda(split_image_text_types), \"question\" : RunnablePassthrough()}\n",
    "    | RunnableLambda(prompt_func)\n",
    "    | model\n",
    "    | StrOutputParser()\n",
    ")\n",
    "\n",
    "chain.invoke(\"말라리아 군집 사례는 어떤가요?\")"
   ]
  },
  {
   "cell_type": "code",
   "execution_count": 50,
   "id": "580bdf96",
   "metadata": {},
   "outputs": [
    {
     "data": {
      "text/plain": [
       "'이미지에 따르면, 말라리아 국내 발생 건수는 지역에 따라 다르며, 0에서 52건 사이입니다. 특히, 북서부 지역에서 발생 건수가 높은 것으로 보입니다.'"
      ]
     },
     "execution_count": 50,
     "metadata": {},
     "output_type": "execute_result"
    }
   ],
   "source": [
    "chain.invoke(\"말라리아 국내 발생 건수는 어느정도야?\")"
   ]
  },
  {
   "cell_type": "code",
   "execution_count": 51,
   "id": "070d331f",
   "metadata": {},
   "outputs": [
    {
     "data": {
      "text/plain": [
       "'해외여행 시 주의할 점은 모기 등 해충에 물리지 않도록 주의하는 것입니다. 이미지에서 여행객들이 모기 퇴치 스프레이를 사용하는 모습이 보입니다. 따라서 모기 기피제를 사용하거나 적절한 옷차림을 통해 해충으로부터 보호하는 것이 중요합니다.'"
      ]
     },
     "execution_count": 51,
     "metadata": {},
     "output_type": "execute_result"
    }
   ],
   "source": [
    "chain.invoke(\"해외여행시 주의할 점은?\")"
   ]
  },
  {
   "cell_type": "code",
   "execution_count": null,
   "id": "f0dfac39",
   "metadata": {},
   "outputs": [],
   "source": []
  }
 ],
 "metadata": {
  "kernelspec": {
   "display_name": "LLM",
   "language": "python",
   "name": "python3"
  },
  "language_info": {
   "codemirror_mode": {
    "name": "ipython",
    "version": 3
   },
   "file_extension": ".py",
   "mimetype": "text/x-python",
   "name": "python",
   "nbconvert_exporter": "python",
   "pygments_lexer": "ipython3",
   "version": "3.13.5"
  }
 },
 "nbformat": 4,
 "nbformat_minor": 5
}
